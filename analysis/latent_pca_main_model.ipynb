{
 "cells": [
  {
   "cell_type": "code",
   "execution_count": 3,
   "metadata": {
    "colab": {
     "base_uri": "https://localhost:8080/"
    },
    "executionInfo": {
     "elapsed": 163,
     "status": "ok",
     "timestamp": 1655907348722,
     "user": {
      "displayName": "Kianoosh Sattari",
      "userId": "04386428549344756837"
     },
     "user_tz": 300
    },
    "id": "s1HqLvDikl2Q",
    "outputId": "4d7a5ec7-7f43-4c0a-ad3b-433aa08398d2"
   },
   "outputs": [
    {
     "name": "stdout",
     "output_type": "stream",
     "text": [
      "/content/drive/MyDrive/RRCGAN_SMILES_publish/analysis\n"
     ]
    }
   ],
   "source": [
    "%cd ./drive/MyDrive/RRCGAN_SMILES_publish/analysis"
   ]
  },
  {
   "cell_type": "code",
   "execution_count": 4,
   "metadata": {
    "colab": {
     "base_uri": "https://localhost:8080/"
    },
    "executionInfo": {
     "elapsed": 380,
     "status": "ok",
     "timestamp": 1655907351019,
     "user": {
      "displayName": "Kianoosh Sattari",
      "userId": "04386428549344756837"
     },
     "user_tz": 300
    },
    "id": "vXxeKR_RrKxj",
    "outputId": "63ea46f2-1840-4cb9-8b57-07763f781992"
   },
   "outputs": [
    {
     "name": "stdout",
     "output_type": "stream",
     "text": [
      "/content/drive/MyDrive/RRCGAN_SMILES_publish/analysis\n"
     ]
    }
   ],
   "source": [
    "!pwd"
   ]
  },
  {
   "cell_type": "code",
   "execution_count": null,
   "metadata": {
    "colab": {
     "base_uri": "https://localhost:8080/"
    },
    "executionInfo": {
     "elapsed": 12752,
     "status": "ok",
     "timestamp": 1655788486686,
     "user": {
      "displayName": "Kianoosh Sattari",
      "userId": "04386428549344756837"
     },
     "user_tz": 300
    },
    "id": "l1bHcNsUjQJq",
    "outputId": "400be05e-c243-4faf-ca6b-6f446b9134c8"
   },
   "outputs": [
    {
     "name": "stdout",
     "output_type": "stream",
     "text": [
      "!!!!!!!!! we are just before importing rdkit!!!!!\n",
      "Looking in indexes: https://pypi.org/simple, https://us-python.pkg.dev/colab-wheels/public/simple/\n",
      "Collecting rdkit-pypi\n",
      "  Downloading rdkit_pypi-2022.3.3-cp37-cp37m-manylinux_2_17_x86_64.manylinux2014_x86_64.whl (22.7 MB)\n",
      "\u001b[K     |████████████████████████████████| 22.7 MB 1.3 MB/s \n",
      "\u001b[?25hRequirement already satisfied: numpy in /usr/local/lib/python3.7/dist-packages (from rdkit-pypi) (1.21.6)\n",
      "Requirement already satisfied: Pillow in /usr/local/lib/python3.7/dist-packages (from rdkit-pypi) (7.1.2)\n",
      "Installing collected packages: rdkit-pypi\n",
      "Successfully installed rdkit-pypi-2022.3.3\n",
      "!!!!!!!!!!!!!!!!!!!!!we are after importing rdkit!!!!!!!!!!!!!!!!!!\n"
     ]
    }
   ],
   "source": [
    "# Strategy 1:\n",
    "# Generate data after each epoch of training, if less than\n",
    "# 10% error rate, and is a legit SMILES\n",
    "# append to the real data\n",
    "# Otherwise, append to fake data\n",
    "\n",
    "# ADDING REINFORCEMENT MECHANISM\n",
    "# Regenerate Normal sampling (define ranges), default: uniform\n",
    "\n",
    "# IMPORTANT!!!!!!!!!!!!! DO NOT DROP DUPLICATE FOR RESULT .CSV\n",
    "\n",
    "import warnings\n",
    "warnings.filterwarnings('ignore')\n",
    "\n",
    "from progressbar import ProgressBar\n",
    "\n",
    "import time\n",
    "import os\n",
    "import re\n",
    "import pandas as pd\n",
    "import tensorflow as tf\n",
    "from tensorflow import keras\n",
    "import random\n",
    "import numpy as np\n",
    "from numpy import ndarray\n",
    "from sklearn.model_selection import train_test_split\n",
    "from sklearn.feature_extraction.text import CountVectorizer\n",
    "import pylab\n",
    "import pickle\n",
    "\n",
    "from tensorflow.keras.layers import (Input, Dropout, LSTM, Reshape, LeakyReLU,\n",
    "                          Concatenate, ReLU, Flatten, Dense, Embedding,\n",
    "                          BatchNormalization, Activation, SpatialDropout1D,\n",
    "                          Conv2D, MaxPooling2D, UpSampling2D)\n",
    "from tensorflow.keras.models import Model, load_model\n",
    "from tensorflow.keras.optimizers import Adam\n",
    "from tensorflow.keras.losses import mse, binary_crossentropy\n",
    "import tensorflow.keras.backend as K\n",
    "\n",
    "from tensorflow.keras.preprocessing.text import Tokenizer\n",
    "from tensorflow.keras.preprocessing.sequence import pad_sequences\n",
    "\n",
    "#import np_utils\n",
    "\n",
    "from tensorflow.keras.utils import  to_categorical\n",
    "from IPython.display import clear_output\n",
    "import matplotlib.pyplot as plt\n",
    "import matplotlib as mpl\n",
    "import matplotlib.lines as mlines\n",
    "from matplotlib.lines import Line2D\n",
    "\n",
    "from progressbar import ProgressBar\n",
    "import seaborn as sns\n",
    "\n",
    "from sklearn.metrics import r2_score\n",
    "\n",
    "\n",
    "print (\"!!!!!!!!! we are just before importing rdkit!!!!!\")\n",
    "! pip install rdkit-pypi\n",
    "from rdkit import rdBase\n",
    "rdBase.DisableLog('rdApp.error')\n",
    "from rdkit import Chem\n",
    "print (\"!!!!!!!!!!!!!!!!!!!!!we are after importing rdkit!!!!!!!!!!!!!!!!!!\")\n",
    "\n",
    "from scipy.stats import truncnorm\n",
    "from sklearn.decomposition import PCA\n",
    "\n",
    "import matplotlib.ticker as tk\n",
    "\n",
    "import ntpath\n",
    "import re\n",
    "\n",
    "from sklearn.manifold import TSNE\n",
    "from sklearn.metrics import r2_score\n",
    "from sklearn.metrics import mean_squared_error\n",
    "from sklearn.metrics import mean_absolute_error\n",
    "from sklearn.metrics import explained_variance_score\n",
    "\n",
    "from matplotlib.colors import ListedColormap\n",
    "from matplotlib import rc, rcParams\n",
    "\n",
    "os.environ['PYTHONHASHSEED'] = '0'\n",
    "np.random.seed(42)\n",
    "random.seed(12345)\n",
    "#gpu_options = tf.GPUOptions(per_prociess_gpu_memory_fraction=0.3667)\n",
    "#session_conf = tf.ConfigProto(intra_op_parallelism_threads=1, inter_op_parallelism_threads=1, gpu_options=gpu_options)\n",
    "#tf.set_random_seed(1234)\n",
    "#sess = tf.Session(graph=tf.get_default_graph(), config=session_conf)\n",
    "#K.set_session(sess)"
   ]
  },
  {
   "cell_type": "code",
   "execution_count": null,
   "metadata": {
    "colab": {
     "base_uri": "https://localhost:8080/"
    },
    "executionInfo": {
     "elapsed": 18784,
     "status": "ok",
     "timestamp": 1655788505463,
     "user": {
      "displayName": "Kianoosh Sattari",
      "userId": "04386428549344756837"
     },
     "user_tz": 300
    },
    "id": "Gn230QGzjZVK",
    "outputId": "d941d915-2eab-4622-d888-477cde1ae926"
   },
   "outputs": [
    {
     "name": "stdout",
     "output_type": "stream",
     "text": [
      "X_smiles_train shape:  (64264, 35, 23, 1)\n",
      "X_smiles_test shape:  (9371, 35, 23, 1)\n",
      "last Cv: 31.52\n",
      "last X_smiles_train:  [[[0.]\n",
      "  [1.]\n",
      "  [0.]\n",
      "  [0.]\n",
      "  [0.]\n",
      "  [0.]\n",
      "  [0.]\n",
      "  [0.]\n",
      "  [0.]\n",
      "  [0.]\n",
      "  [0.]\n",
      "  [0.]\n",
      "  [0.]\n",
      "  [0.]\n",
      "  [0.]\n",
      "  [0.]\n",
      "  [0.]\n",
      "  [0.]\n",
      "  [0.]\n",
      "  [0.]\n",
      "  [0.]\n",
      "  [0.]\n",
      "  [0.]]\n",
      "\n",
      " [[0.]\n",
      "  [1.]\n",
      "  [0.]\n",
      "  [0.]\n",
      "  [0.]\n",
      "  [0.]\n",
      "  [0.]\n",
      "  [0.]\n",
      "  [0.]\n",
      "  [0.]\n",
      "  [0.]\n",
      "  [0.]\n",
      "  [0.]\n",
      "  [0.]\n",
      "  [0.]\n",
      "  [0.]\n",
      "  [0.]\n",
      "  [0.]\n",
      "  [0.]\n",
      "  [0.]\n",
      "  [0.]\n",
      "  [0.]\n",
      "  [0.]]\n",
      "\n",
      " [[0.]\n",
      "  [0.]\n",
      "  [1.]\n",
      "  [0.]\n",
      "  [0.]\n",
      "  [0.]\n",
      "  [0.]\n",
      "  [0.]\n",
      "  [0.]\n",
      "  [0.]\n",
      "  [0.]\n",
      "  [0.]\n",
      "  [0.]\n",
      "  [0.]\n",
      "  [0.]\n",
      "  [0.]\n",
      "  [0.]\n",
      "  [0.]\n",
      "  [0.]\n",
      "  [0.]\n",
      "  [0.]\n",
      "  [0.]\n",
      "  [0.]]\n",
      "\n",
      " [[0.]\n",
      "  [1.]\n",
      "  [0.]\n",
      "  [0.]\n",
      "  [0.]\n",
      "  [0.]\n",
      "  [0.]\n",
      "  [0.]\n",
      "  [0.]\n",
      "  [0.]\n",
      "  [0.]\n",
      "  [0.]\n",
      "  [0.]\n",
      "  [0.]\n",
      "  [0.]\n",
      "  [0.]\n",
      "  [0.]\n",
      "  [0.]\n",
      "  [0.]\n",
      "  [0.]\n",
      "  [0.]\n",
      "  [0.]\n",
      "  [0.]]\n",
      "\n",
      " [[0.]\n",
      "  [1.]\n",
      "  [0.]\n",
      "  [0.]\n",
      "  [0.]\n",
      "  [0.]\n",
      "  [0.]\n",
      "  [0.]\n",
      "  [0.]\n",
      "  [0.]\n",
      "  [0.]\n",
      "  [0.]\n",
      "  [0.]\n",
      "  [0.]\n",
      "  [0.]\n",
      "  [0.]\n",
      "  [0.]\n",
      "  [0.]\n",
      "  [0.]\n",
      "  [0.]\n",
      "  [0.]\n",
      "  [0.]\n",
      "  [0.]]\n",
      "\n",
      " [[0.]\n",
      "  [0.]\n",
      "  [0.]\n",
      "  [0.]\n",
      "  [0.]\n",
      "  [1.]\n",
      "  [0.]\n",
      "  [0.]\n",
      "  [0.]\n",
      "  [0.]\n",
      "  [0.]\n",
      "  [0.]\n",
      "  [0.]\n",
      "  [0.]\n",
      "  [0.]\n",
      "  [0.]\n",
      "  [0.]\n",
      "  [0.]\n",
      "  [0.]\n",
      "  [0.]\n",
      "  [0.]\n",
      "  [0.]\n",
      "  [0.]]\n",
      "\n",
      " [[0.]\n",
      "  [0.]\n",
      "  [0.]\n",
      "  [0.]\n",
      "  [0.]\n",
      "  [0.]\n",
      "  [1.]\n",
      "  [0.]\n",
      "  [0.]\n",
      "  [0.]\n",
      "  [0.]\n",
      "  [0.]\n",
      "  [0.]\n",
      "  [0.]\n",
      "  [0.]\n",
      "  [0.]\n",
      "  [0.]\n",
      "  [0.]\n",
      "  [0.]\n",
      "  [0.]\n",
      "  [0.]\n",
      "  [0.]\n",
      "  [0.]]\n",
      "\n",
      " [[0.]\n",
      "  [1.]\n",
      "  [0.]\n",
      "  [0.]\n",
      "  [0.]\n",
      "  [0.]\n",
      "  [0.]\n",
      "  [0.]\n",
      "  [0.]\n",
      "  [0.]\n",
      "  [0.]\n",
      "  [0.]\n",
      "  [0.]\n",
      "  [0.]\n",
      "  [0.]\n",
      "  [0.]\n",
      "  [0.]\n",
      "  [0.]\n",
      "  [0.]\n",
      "  [0.]\n",
      "  [0.]\n",
      "  [0.]\n",
      "  [0.]]\n",
      "\n",
      " [[0.]\n",
      "  [0.]\n",
      "  [0.]\n",
      "  [1.]\n",
      "  [0.]\n",
      "  [0.]\n",
      "  [0.]\n",
      "  [0.]\n",
      "  [0.]\n",
      "  [0.]\n",
      "  [0.]\n",
      "  [0.]\n",
      "  [0.]\n",
      "  [0.]\n",
      "  [0.]\n",
      "  [0.]\n",
      "  [0.]\n",
      "  [0.]\n",
      "  [0.]\n",
      "  [0.]\n",
      "  [0.]\n",
      "  [0.]\n",
      "  [0.]]\n",
      "\n",
      " [[0.]\n",
      "  [1.]\n",
      "  [0.]\n",
      "  [0.]\n",
      "  [0.]\n",
      "  [0.]\n",
      "  [0.]\n",
      "  [0.]\n",
      "  [0.]\n",
      "  [0.]\n",
      "  [0.]\n",
      "  [0.]\n",
      "  [0.]\n",
      "  [0.]\n",
      "  [0.]\n",
      "  [0.]\n",
      "  [0.]\n",
      "  [0.]\n",
      "  [0.]\n",
      "  [0.]\n",
      "  [0.]\n",
      "  [0.]\n",
      "  [0.]]\n",
      "\n",
      " [[0.]\n",
      "  [0.]\n",
      "  [0.]\n",
      "  [0.]\n",
      "  [0.]\n",
      "  [1.]\n",
      "  [0.]\n",
      "  [0.]\n",
      "  [0.]\n",
      "  [0.]\n",
      "  [0.]\n",
      "  [0.]\n",
      "  [0.]\n",
      "  [0.]\n",
      "  [0.]\n",
      "  [0.]\n",
      "  [0.]\n",
      "  [0.]\n",
      "  [0.]\n",
      "  [0.]\n",
      "  [0.]\n",
      "  [0.]\n",
      "  [0.]]\n",
      "\n",
      " [[0.]\n",
      "  [0.]\n",
      "  [0.]\n",
      "  [0.]\n",
      "  [0.]\n",
      "  [0.]\n",
      "  [0.]\n",
      "  [0.]\n",
      "  [0.]\n",
      "  [1.]\n",
      "  [0.]\n",
      "  [0.]\n",
      "  [0.]\n",
      "  [0.]\n",
      "  [0.]\n",
      "  [0.]\n",
      "  [0.]\n",
      "  [0.]\n",
      "  [0.]\n",
      "  [0.]\n",
      "  [0.]\n",
      "  [0.]\n",
      "  [0.]]\n",
      "\n",
      " [[0.]\n",
      "  [0.]\n",
      "  [0.]\n",
      "  [1.]\n",
      "  [0.]\n",
      "  [0.]\n",
      "  [0.]\n",
      "  [0.]\n",
      "  [0.]\n",
      "  [0.]\n",
      "  [0.]\n",
      "  [0.]\n",
      "  [0.]\n",
      "  [0.]\n",
      "  [0.]\n",
      "  [0.]\n",
      "  [0.]\n",
      "  [0.]\n",
      "  [0.]\n",
      "  [0.]\n",
      "  [0.]\n",
      "  [0.]\n",
      "  [0.]]\n",
      "\n",
      " [[0.]\n",
      "  [0.]\n",
      "  [0.]\n",
      "  [0.]\n",
      "  [0.]\n",
      "  [0.]\n",
      "  [0.]\n",
      "  [1.]\n",
      "  [0.]\n",
      "  [0.]\n",
      "  [0.]\n",
      "  [0.]\n",
      "  [0.]\n",
      "  [0.]\n",
      "  [0.]\n",
      "  [0.]\n",
      "  [0.]\n",
      "  [0.]\n",
      "  [0.]\n",
      "  [0.]\n",
      "  [0.]\n",
      "  [0.]\n",
      "  [0.]]\n",
      "\n",
      " [[0.]\n",
      "  [1.]\n",
      "  [0.]\n",
      "  [0.]\n",
      "  [0.]\n",
      "  [0.]\n",
      "  [0.]\n",
      "  [0.]\n",
      "  [0.]\n",
      "  [0.]\n",
      "  [0.]\n",
      "  [0.]\n",
      "  [0.]\n",
      "  [0.]\n",
      "  [0.]\n",
      "  [0.]\n",
      "  [0.]\n",
      "  [0.]\n",
      "  [0.]\n",
      "  [0.]\n",
      "  [0.]\n",
      "  [0.]\n",
      "  [0.]]\n",
      "\n",
      " [[0.]\n",
      "  [0.]\n",
      "  [1.]\n",
      "  [0.]\n",
      "  [0.]\n",
      "  [0.]\n",
      "  [0.]\n",
      "  [0.]\n",
      "  [0.]\n",
      "  [0.]\n",
      "  [0.]\n",
      "  [0.]\n",
      "  [0.]\n",
      "  [0.]\n",
      "  [0.]\n",
      "  [0.]\n",
      "  [0.]\n",
      "  [0.]\n",
      "  [0.]\n",
      "  [0.]\n",
      "  [0.]\n",
      "  [0.]\n",
      "  [0.]]\n",
      "\n",
      " [[0.]\n",
      "  [0.]\n",
      "  [0.]\n",
      "  [0.]\n",
      "  [1.]\n",
      "  [0.]\n",
      "  [0.]\n",
      "  [0.]\n",
      "  [0.]\n",
      "  [0.]\n",
      "  [0.]\n",
      "  [0.]\n",
      "  [0.]\n",
      "  [0.]\n",
      "  [0.]\n",
      "  [0.]\n",
      "  [0.]\n",
      "  [0.]\n",
      "  [0.]\n",
      "  [0.]\n",
      "  [0.]\n",
      "  [0.]\n",
      "  [0.]]\n",
      "\n",
      " [[1.]\n",
      "  [0.]\n",
      "  [0.]\n",
      "  [0.]\n",
      "  [0.]\n",
      "  [0.]\n",
      "  [0.]\n",
      "  [0.]\n",
      "  [0.]\n",
      "  [0.]\n",
      "  [0.]\n",
      "  [0.]\n",
      "  [0.]\n",
      "  [0.]\n",
      "  [0.]\n",
      "  [0.]\n",
      "  [0.]\n",
      "  [0.]\n",
      "  [0.]\n",
      "  [0.]\n",
      "  [0.]\n",
      "  [0.]\n",
      "  [0.]]\n",
      "\n",
      " [[1.]\n",
      "  [0.]\n",
      "  [0.]\n",
      "  [0.]\n",
      "  [0.]\n",
      "  [0.]\n",
      "  [0.]\n",
      "  [0.]\n",
      "  [0.]\n",
      "  [0.]\n",
      "  [0.]\n",
      "  [0.]\n",
      "  [0.]\n",
      "  [0.]\n",
      "  [0.]\n",
      "  [0.]\n",
      "  [0.]\n",
      "  [0.]\n",
      "  [0.]\n",
      "  [0.]\n",
      "  [0.]\n",
      "  [0.]\n",
      "  [0.]]\n",
      "\n",
      " [[1.]\n",
      "  [0.]\n",
      "  [0.]\n",
      "  [0.]\n",
      "  [0.]\n",
      "  [0.]\n",
      "  [0.]\n",
      "  [0.]\n",
      "  [0.]\n",
      "  [0.]\n",
      "  [0.]\n",
      "  [0.]\n",
      "  [0.]\n",
      "  [0.]\n",
      "  [0.]\n",
      "  [0.]\n",
      "  [0.]\n",
      "  [0.]\n",
      "  [0.]\n",
      "  [0.]\n",
      "  [0.]\n",
      "  [0.]\n",
      "  [0.]]\n",
      "\n",
      " [[1.]\n",
      "  [0.]\n",
      "  [0.]\n",
      "  [0.]\n",
      "  [0.]\n",
      "  [0.]\n",
      "  [0.]\n",
      "  [0.]\n",
      "  [0.]\n",
      "  [0.]\n",
      "  [0.]\n",
      "  [0.]\n",
      "  [0.]\n",
      "  [0.]\n",
      "  [0.]\n",
      "  [0.]\n",
      "  [0.]\n",
      "  [0.]\n",
      "  [0.]\n",
      "  [0.]\n",
      "  [0.]\n",
      "  [0.]\n",
      "  [0.]]\n",
      "\n",
      " [[1.]\n",
      "  [0.]\n",
      "  [0.]\n",
      "  [0.]\n",
      "  [0.]\n",
      "  [0.]\n",
      "  [0.]\n",
      "  [0.]\n",
      "  [0.]\n",
      "  [0.]\n",
      "  [0.]\n",
      "  [0.]\n",
      "  [0.]\n",
      "  [0.]\n",
      "  [0.]\n",
      "  [0.]\n",
      "  [0.]\n",
      "  [0.]\n",
      "  [0.]\n",
      "  [0.]\n",
      "  [0.]\n",
      "  [0.]\n",
      "  [0.]]\n",
      "\n",
      " [[1.]\n",
      "  [0.]\n",
      "  [0.]\n",
      "  [0.]\n",
      "  [0.]\n",
      "  [0.]\n",
      "  [0.]\n",
      "  [0.]\n",
      "  [0.]\n",
      "  [0.]\n",
      "  [0.]\n",
      "  [0.]\n",
      "  [0.]\n",
      "  [0.]\n",
      "  [0.]\n",
      "  [0.]\n",
      "  [0.]\n",
      "  [0.]\n",
      "  [0.]\n",
      "  [0.]\n",
      "  [0.]\n",
      "  [0.]\n",
      "  [0.]]\n",
      "\n",
      " [[1.]\n",
      "  [0.]\n",
      "  [0.]\n",
      "  [0.]\n",
      "  [0.]\n",
      "  [0.]\n",
      "  [0.]\n",
      "  [0.]\n",
      "  [0.]\n",
      "  [0.]\n",
      "  [0.]\n",
      "  [0.]\n",
      "  [0.]\n",
      "  [0.]\n",
      "  [0.]\n",
      "  [0.]\n",
      "  [0.]\n",
      "  [0.]\n",
      "  [0.]\n",
      "  [0.]\n",
      "  [0.]\n",
      "  [0.]\n",
      "  [0.]]\n",
      "\n",
      " [[1.]\n",
      "  [0.]\n",
      "  [0.]\n",
      "  [0.]\n",
      "  [0.]\n",
      "  [0.]\n",
      "  [0.]\n",
      "  [0.]\n",
      "  [0.]\n",
      "  [0.]\n",
      "  [0.]\n",
      "  [0.]\n",
      "  [0.]\n",
      "  [0.]\n",
      "  [0.]\n",
      "  [0.]\n",
      "  [0.]\n",
      "  [0.]\n",
      "  [0.]\n",
      "  [0.]\n",
      "  [0.]\n",
      "  [0.]\n",
      "  [0.]]\n",
      "\n",
      " [[1.]\n",
      "  [0.]\n",
      "  [0.]\n",
      "  [0.]\n",
      "  [0.]\n",
      "  [0.]\n",
      "  [0.]\n",
      "  [0.]\n",
      "  [0.]\n",
      "  [0.]\n",
      "  [0.]\n",
      "  [0.]\n",
      "  [0.]\n",
      "  [0.]\n",
      "  [0.]\n",
      "  [0.]\n",
      "  [0.]\n",
      "  [0.]\n",
      "  [0.]\n",
      "  [0.]\n",
      "  [0.]\n",
      "  [0.]\n",
      "  [0.]]\n",
      "\n",
      " [[1.]\n",
      "  [0.]\n",
      "  [0.]\n",
      "  [0.]\n",
      "  [0.]\n",
      "  [0.]\n",
      "  [0.]\n",
      "  [0.]\n",
      "  [0.]\n",
      "  [0.]\n",
      "  [0.]\n",
      "  [0.]\n",
      "  [0.]\n",
      "  [0.]\n",
      "  [0.]\n",
      "  [0.]\n",
      "  [0.]\n",
      "  [0.]\n",
      "  [0.]\n",
      "  [0.]\n",
      "  [0.]\n",
      "  [0.]\n",
      "  [0.]]\n",
      "\n",
      " [[1.]\n",
      "  [0.]\n",
      "  [0.]\n",
      "  [0.]\n",
      "  [0.]\n",
      "  [0.]\n",
      "  [0.]\n",
      "  [0.]\n",
      "  [0.]\n",
      "  [0.]\n",
      "  [0.]\n",
      "  [0.]\n",
      "  [0.]\n",
      "  [0.]\n",
      "  [0.]\n",
      "  [0.]\n",
      "  [0.]\n",
      "  [0.]\n",
      "  [0.]\n",
      "  [0.]\n",
      "  [0.]\n",
      "  [0.]\n",
      "  [0.]]\n",
      "\n",
      " [[1.]\n",
      "  [0.]\n",
      "  [0.]\n",
      "  [0.]\n",
      "  [0.]\n",
      "  [0.]\n",
      "  [0.]\n",
      "  [0.]\n",
      "  [0.]\n",
      "  [0.]\n",
      "  [0.]\n",
      "  [0.]\n",
      "  [0.]\n",
      "  [0.]\n",
      "  [0.]\n",
      "  [0.]\n",
      "  [0.]\n",
      "  [0.]\n",
      "  [0.]\n",
      "  [0.]\n",
      "  [0.]\n",
      "  [0.]\n",
      "  [0.]]\n",
      "\n",
      " [[1.]\n",
      "  [0.]\n",
      "  [0.]\n",
      "  [0.]\n",
      "  [0.]\n",
      "  [0.]\n",
      "  [0.]\n",
      "  [0.]\n",
      "  [0.]\n",
      "  [0.]\n",
      "  [0.]\n",
      "  [0.]\n",
      "  [0.]\n",
      "  [0.]\n",
      "  [0.]\n",
      "  [0.]\n",
      "  [0.]\n",
      "  [0.]\n",
      "  [0.]\n",
      "  [0.]\n",
      "  [0.]\n",
      "  [0.]\n",
      "  [0.]]\n",
      "\n",
      " [[1.]\n",
      "  [0.]\n",
      "  [0.]\n",
      "  [0.]\n",
      "  [0.]\n",
      "  [0.]\n",
      "  [0.]\n",
      "  [0.]\n",
      "  [0.]\n",
      "  [0.]\n",
      "  [0.]\n",
      "  [0.]\n",
      "  [0.]\n",
      "  [0.]\n",
      "  [0.]\n",
      "  [0.]\n",
      "  [0.]\n",
      "  [0.]\n",
      "  [0.]\n",
      "  [0.]\n",
      "  [0.]\n",
      "  [0.]\n",
      "  [0.]]\n",
      "\n",
      " [[1.]\n",
      "  [0.]\n",
      "  [0.]\n",
      "  [0.]\n",
      "  [0.]\n",
      "  [0.]\n",
      "  [0.]\n",
      "  [0.]\n",
      "  [0.]\n",
      "  [0.]\n",
      "  [0.]\n",
      "  [0.]\n",
      "  [0.]\n",
      "  [0.]\n",
      "  [0.]\n",
      "  [0.]\n",
      "  [0.]\n",
      "  [0.]\n",
      "  [0.]\n",
      "  [0.]\n",
      "  [0.]\n",
      "  [0.]\n",
      "  [0.]]\n",
      "\n",
      " [[1.]\n",
      "  [0.]\n",
      "  [0.]\n",
      "  [0.]\n",
      "  [0.]\n",
      "  [0.]\n",
      "  [0.]\n",
      "  [0.]\n",
      "  [0.]\n",
      "  [0.]\n",
      "  [0.]\n",
      "  [0.]\n",
      "  [0.]\n",
      "  [0.]\n",
      "  [0.]\n",
      "  [0.]\n",
      "  [0.]\n",
      "  [0.]\n",
      "  [0.]\n",
      "  [0.]\n",
      "  [0.]\n",
      "  [0.]\n",
      "  [0.]]\n",
      "\n",
      " [[1.]\n",
      "  [0.]\n",
      "  [0.]\n",
      "  [0.]\n",
      "  [0.]\n",
      "  [0.]\n",
      "  [0.]\n",
      "  [0.]\n",
      "  [0.]\n",
      "  [0.]\n",
      "  [0.]\n",
      "  [0.]\n",
      "  [0.]\n",
      "  [0.]\n",
      "  [0.]\n",
      "  [0.]\n",
      "  [0.]\n",
      "  [0.]\n",
      "  [0.]\n",
      "  [0.]\n",
      "  [0.]\n",
      "  [0.]\n",
      "  [0.]]\n",
      "\n",
      " [[1.]\n",
      "  [0.]\n",
      "  [0.]\n",
      "  [0.]\n",
      "  [0.]\n",
      "  [0.]\n",
      "  [0.]\n",
      "  [0.]\n",
      "  [0.]\n",
      "  [0.]\n",
      "  [0.]\n",
      "  [0.]\n",
      "  [0.]\n",
      "  [0.]\n",
      "  [0.]\n",
      "  [0.]\n",
      "  [0.]\n",
      "  [0.]\n",
      "  [0.]\n",
      "  [0.]\n",
      "  [0.]\n",
      "  [0.]\n",
      "  [0.]]]\n",
      "last X atom:  [[[0.]\n",
      "  [0.]\n",
      "  [0.]\n",
      "  [0.]\n",
      "  [0.]\n",
      "  [0.]\n",
      "  [1.]\n",
      "  [0.]\n",
      "  [0.]\n",
      "  [0.]]\n",
      "\n",
      " [[0.]\n",
      "  [0.]\n",
      "  [0.]\n",
      "  [0.]\n",
      "  [0.]\n",
      "  [0.]\n",
      "  [1.]\n",
      "  [0.]\n",
      "  [0.]\n",
      "  [0.]]\n",
      "\n",
      " [[0.]\n",
      "  [0.]\n",
      "  [0.]\n",
      "  [0.]\n",
      "  [0.]\n",
      "  [0.]\n",
      "  [1.]\n",
      "  [0.]\n",
      "  [0.]\n",
      "  [0.]]\n",
      "\n",
      " [[0.]\n",
      "  [0.]\n",
      "  [0.]\n",
      "  [0.]\n",
      "  [0.]\n",
      "  [0.]\n",
      "  [1.]\n",
      "  [0.]\n",
      "  [0.]\n",
      "  [0.]]\n",
      "\n",
      " [[0.]\n",
      "  [0.]\n",
      "  [0.]\n",
      "  [0.]\n",
      "  [0.]\n",
      "  [0.]\n",
      "  [1.]\n",
      "  [0.]\n",
      "  [0.]\n",
      "  [0.]]\n",
      "\n",
      " [[0.]\n",
      "  [0.]\n",
      "  [0.]\n",
      "  [0.]\n",
      "  [0.]\n",
      "  [0.]\n",
      "  [0.]\n",
      "  [0.]\n",
      "  [1.]\n",
      "  [0.]]\n",
      "\n",
      " [[0.]\n",
      "  [0.]\n",
      "  [0.]\n",
      "  [0.]\n",
      "  [0.]\n",
      "  [0.]\n",
      "  [1.]\n",
      "  [0.]\n",
      "  [0.]\n",
      "  [0.]]\n",
      "\n",
      " [[0.]\n",
      "  [0.]\n",
      "  [0.]\n",
      "  [0.]\n",
      "  [0.]\n",
      "  [0.]\n",
      "  [0.]\n",
      "  [0.]\n",
      "  [1.]\n",
      "  [0.]]\n",
      "\n",
      " [[0.]\n",
      "  [0.]\n",
      "  [0.]\n",
      "  [0.]\n",
      "  [0.]\n",
      "  [0.]\n",
      "  [1.]\n",
      "  [0.]\n",
      "  [0.]\n",
      "  [0.]]]\n",
      "last X bond:  [[[0. 0. 0. 0.]\n",
      "  [1. 0. 0. 0.]\n",
      "  [0. 0. 0. 0.]\n",
      "  [0. 0. 0. 0.]\n",
      "  [0. 0. 0. 0.]\n",
      "  [0. 0. 0. 0.]\n",
      "  [0. 0. 0. 0.]\n",
      "  [0. 0. 0. 0.]\n",
      "  [0. 0. 0. 0.]]\n",
      "\n",
      " [[1. 0. 0. 0.]\n",
      "  [0. 0. 0. 0.]\n",
      "  [1. 0. 0. 0.]\n",
      "  [0. 0. 0. 0.]\n",
      "  [0. 0. 0. 0.]\n",
      "  [0. 0. 0. 0.]\n",
      "  [0. 0. 0. 0.]\n",
      "  [0. 0. 0. 0.]\n",
      "  [1. 0. 0. 0.]]\n",
      "\n",
      " [[0. 0. 0. 0.]\n",
      "  [1. 0. 0. 0.]\n",
      "  [0. 0. 0. 0.]\n",
      "  [1. 0. 0. 0.]\n",
      "  [0. 0. 0. 0.]\n",
      "  [0. 0. 0. 0.]\n",
      "  [0. 0. 0. 0.]\n",
      "  [0. 0. 0. 0.]\n",
      "  [0. 0. 0. 0.]]\n",
      "\n",
      " [[0. 0. 0. 0.]\n",
      "  [0. 0. 0. 0.]\n",
      "  [1. 0. 0. 0.]\n",
      "  [0. 0. 0. 0.]\n",
      "  [1. 0. 0. 0.]\n",
      "  [0. 0. 0. 0.]\n",
      "  [1. 0. 0. 0.]\n",
      "  [0. 0. 0. 0.]\n",
      "  [1. 0. 0. 0.]]\n",
      "\n",
      " [[0. 0. 0. 0.]\n",
      "  [0. 0. 0. 0.]\n",
      "  [0. 0. 0. 0.]\n",
      "  [1. 0. 0. 0.]\n",
      "  [0. 0. 0. 0.]\n",
      "  [1. 0. 0. 0.]\n",
      "  [0. 0. 0. 0.]\n",
      "  [0. 0. 0. 0.]\n",
      "  [0. 0. 0. 0.]]\n",
      "\n",
      " [[0. 0. 0. 0.]\n",
      "  [0. 0. 0. 0.]\n",
      "  [0. 0. 0. 0.]\n",
      "  [0. 0. 0. 0.]\n",
      "  [1. 0. 0. 0.]\n",
      "  [0. 0. 0. 0.]\n",
      "  [1. 0. 0. 0.]\n",
      "  [0. 0. 0. 0.]\n",
      "  [0. 0. 0. 0.]]\n",
      "\n",
      " [[0. 0. 0. 0.]\n",
      "  [0. 0. 0. 0.]\n",
      "  [0. 0. 0. 0.]\n",
      "  [1. 0. 0. 0.]\n",
      "  [0. 0. 0. 0.]\n",
      "  [1. 0. 0. 0.]\n",
      "  [0. 0. 0. 0.]\n",
      "  [0. 1. 0. 0.]\n",
      "  [0. 0. 0. 0.]]\n",
      "\n",
      " [[0. 0. 0. 0.]\n",
      "  [0. 0. 0. 0.]\n",
      "  [0. 0. 0. 0.]\n",
      "  [0. 0. 0. 0.]\n",
      "  [0. 0. 0. 0.]\n",
      "  [0. 0. 0. 0.]\n",
      "  [0. 1. 0. 0.]\n",
      "  [0. 0. 0. 0.]\n",
      "  [0. 0. 0. 0.]]\n",
      "\n",
      " [[0. 0. 0. 0.]\n",
      "  [1. 0. 0. 0.]\n",
      "  [0. 0. 0. 0.]\n",
      "  [1. 0. 0. 0.]\n",
      "  [0. 0. 0. 0.]\n",
      "  [0. 0. 0. 0.]\n",
      "  [0. 0. 0. 0.]\n",
      "  [0. 0. 0. 0.]\n",
      "  [0. 0. 0. 0.]]]\n",
      "min and max dataset and val normalized 20.948 42.227 0.0052587762 0.99953055\n",
      "min and max dataset and train normalized 20.948 42.227 0.00042261143 0.98877835\n",
      "min and max used for normalization:  20.939 42.237\n",
      "WARNING:tensorflow:No training configuration found in the save file, so the model was *not* compiled. Compile it manually.\n",
      "WARNING:tensorflow:No training configuration found in the save file, so the model was *not* compiled. Compile it manually.\n",
      "WARNING:tensorflow:No training configuration found in the save file, so the model was *not* compiled. Compile it manually.\n",
      "WARNING:tensorflow:No training configuration found in the save file, so the model was *not* compiled. Compile it manually.\n"
     ]
    }
   ],
   "source": [
    "\"\"\" reading and preprocessing data\"\"\"\n",
    "with open('./../data/trainingsets/60000_train_regular_qm9/image_train.pickle', 'rb') as f:\n",
    "    X_smiles_train, SMILES_train, X_atoms_train, X_bonds_train, y_train = pickle.load(f)\n",
    "\n",
    "with open('./../data/trainingsets/60000_train_regular_qm9/image_test.pickle', 'rb') as f:\n",
    "    X_smiles_val, SMILES_val, X_atoms_val, X_bonds_val, y_val = pickle.load(f)\n",
    "\n",
    "with open('./../data/trainingsets/60000_train_regular_qm9/tokenizer.pickle', 'rb') as f:\n",
    "    tokenizer = pickle.load(f)\n",
    "\n",
    "tokenizer[0] = ' '\n",
    "\n",
    "# Subsampling has been done in the data preprocesses\n",
    "print ('X_smiles_train shape: ', X_smiles_train.shape)\n",
    "print ('X_smiles_test shape: ', X_smiles_val.shape)\n",
    "#print ('last SMILES train: ', SMILES_train[-1])\n",
    "\n",
    "# Outlier removal 1.5*IQR rule\n",
    "IQR = - np.quantile(y_train, 0.25) + np.quantile(y_train, 0.75)\n",
    "lower_bound, upper_bound = np.quantile(y_train, 0.25) - 1.5 * IQR, np.quantile(y_train, 0.75) + 1.5 * IQR\n",
    "idx = np.where((y_train >= lower_bound) & (y_train <= upper_bound))\n",
    "\n",
    "y_train = y_train[idx]\n",
    "X_smiles_train = X_smiles_train[idx]\n",
    "X_atoms_train = X_atoms_train[idx]\n",
    "X_bonds_train = X_bonds_train[idx]\n",
    "# print the first sample\n",
    "print ('last Cv:', y_train[-1])\n",
    "print ('last X_smiles_train: ', X_smiles_train[-1])\n",
    "print ('last X atom: ', X_atoms_train[-1])\n",
    "print ('last X bond: ', X_bonds_train[-1])\n",
    "\n",
    "# Outlier removal\n",
    "IQR = - np.quantile(y_val, 0.25) + np.quantile(y_val, 0.75)\n",
    "lower_bound, upper_bound = np.quantile(y_val, 0.25) - 1.5 * IQR, np.quantile(y_val, 0.75) + 1.5 * IQR\n",
    "idx = np.where((y_val >= lower_bound) & (y_val <= upper_bound))\n",
    "\n",
    "y_val = y_val[idx]\n",
    "X_smiles_val = X_smiles_val[idx]\n",
    "X_atoms_val = X_atoms_val[idx]\n",
    "X_bonds_val = X_bonds_val[idx]\n",
    "\n",
    "# subsampling\n",
    "idx = np.random.choice(len(y_train), int(len(y_train) * 0.016), replace = False)\n",
    "y_train = y_train[idx]\n",
    "X_smiles_train = X_smiles_train[idx]\n",
    "X_atoms_train = X_atoms_train[idx]\n",
    "X_bonds_train = X_bonds_train[idx]\n",
    "\n",
    "\n",
    "# normalize the bond and aotm matrices:\n",
    "def norm(X: ndarray) -> ndarray:\n",
    "    X = np.where(X == 0, -1.0, 1.0)\n",
    "    return X\n",
    "\n",
    "X_atoms_train, X_bonds_train = (norm(X_atoms_train),\n",
    "                                norm(X_bonds_train))\n",
    "X_atoms_val, X_bonds_val = (norm(X_atoms_val),\n",
    "                            norm(X_bonds_val))\n",
    "\n",
    "def y_norm(y: ndarray) -> ndarray:\n",
    "    scaler_min = np.min(y)\n",
    "    scaler_max = np.max(y)\n",
    "\n",
    "    y = (y - scaler_min) / (scaler_max - scaler_min)\n",
    "\n",
    "    return y, scaler_min, scaler_max\n",
    "\n",
    "s_min1 = np.min (y_train)\n",
    "s_max1 = np.max (y_train)\n",
    "\n",
    "s_min2 = np.min(y_val)\n",
    "s_max2 = np.max(y_val)\n",
    "s_min = min(s_min1, s_min2)\n",
    "s_max = max(s_max1, s_max2)\n",
    "\n",
    "# should be consistant with your trained models (Autoencoder, Regressor)\n",
    "s_min_dataset, s_max_dataset = 20.939, 42.237\n",
    "s_min_norm, s_max_norm = 20.939, 42.237\n",
    "\n",
    "# normalize the property\n",
    "y_val   = (y_val -   s_min_norm) / (s_max_norm - s_min_norm)\n",
    "y_train = (y_train - s_min_norm) / (s_max_norm - s_min_norm)\n",
    "print (\"min and max dataset and val normalized\", s_min, s_max, np.min(y_val), np.max(y_val))\n",
    "print (\"min and max dataset and train normalized\", s_min, s_max, np.min(y_train), np.max(y_train))\n",
    "print (\"min and max used for normalization: \", s_min_norm, s_max_norm)\n",
    "\n",
    "\"\"\" Training RCGAN \"\"\"\n",
    "encoder = load_model('./../data/nns_9HA_noemb_6b6/encoder_newencinp.h5')\n",
    "decoder = load_model('./../data/nns_9HA_noemb_6b6/decoder_newencinp.h5')\n",
    "regressor = load_model    ('./../data/nns_9HA_noemb_6b6/regressor.h5')\n",
    "regressor_top = load_model('./../data/nns_9HA_noemb_6b6/regressor_top.h5')\n",
    "generator = load_model    ('./../data/nns_9HA_noemb_6b6/generator_new.h5')\n",
    "discriminator= load_model ('./../data/nns_9HA_noemb_6b6/discriminator_new.h5') "
   ]
  },
  {
   "cell_type": "code",
   "execution_count": null,
   "metadata": {
    "colab": {
     "base_uri": "https://localhost:8080/",
     "height": 1000
    },
    "executionInfo": {
     "elapsed": 204812,
     "status": "ok",
     "timestamp": 1655788812526,
     "user": {
      "displayName": "Kianoosh Sattari",
      "userId": "04386428549344756837"
     },
     "user_tz": 300
    },
    "id": "TvLwnr_Pjkpx",
    "outputId": "5d84218a-77f5-41ec-d289-db803e03b8c5"
   },
   "outputs": [
    {
     "name": "stderr",
     "output_type": "stream",
     "text": [
      "\r",
      "                                                                               \r",
      "\r",
      "N/A% (0 of 150) |                        | Elapsed Time: 0:00:00 ETA:  --:--:--"
     ]
    },
    {
     "name": "stdout",
     "output_type": "stream",
     "text": [
      "[33.53643542]\n",
      "shape argmax_smiles (100, 35, 1)\n",
      "shape line 767 [100, 35, 23, 1]\n"
     ]
    },
    {
     "name": "stderr",
     "output_type": "stream",
     "text": [
      "\r",
      "                                                                               \r",
      "\r",
      "  0% (1 of 150) |                        | Elapsed Time: 0:00:03 ETA:   0:09:41"
     ]
    },
    {
     "name": "stdout",
     "output_type": "stream",
     "text": [
      "all gen smiels shape (100,)\n",
      "gen_errors shape (100,)\n",
      "[33.41818376]\n",
      "shape argmax_smiles (100, 35, 1)\n",
      "shape line 767 [100, 35, 23, 1]\n"
     ]
    },
    {
     "name": "stderr",
     "output_type": "stream",
     "text": [
      "\r",
      "                                                                               \r",
      "\r",
      "  1% (2 of 150) |                        | Elapsed Time: 0:00:05 ETA:   0:06:18"
     ]
    },
    {
     "name": "stdout",
     "output_type": "stream",
     "text": [
      "all gen smiels shape (100,)\n",
      "gen_errors shape (100,)\n",
      "[40.49244699]\n",
      "shape argmax_smiles (100, 35, 1)\n",
      "shape line 767 [100, 35, 23, 1]\n"
     ]
    },
    {
     "name": "stderr",
     "output_type": "stream",
     "text": [
      "\r",
      "                                                                               \r",
      "\r",
      "  2% (3 of 150) |                        | Elapsed Time: 0:00:06 ETA:   0:03:02"
     ]
    },
    {
     "name": "stdout",
     "output_type": "stream",
     "text": [
      "all gen smiels shape (100,)\n",
      "gen_errors shape (100,)\n",
      "[21.4454775]\n",
      "shape argmax_smiles (100, 35, 1)\n",
      "shape line 767 [100, 35, 23, 1]\n"
     ]
    },
    {
     "name": "stderr",
     "output_type": "stream",
     "text": [
      "\r",
      "                                                                               \r",
      "\r",
      "  2% (4 of 150) |                        | Elapsed Time: 0:00:07 ETA:   0:03:05"
     ]
    },
    {
     "name": "stdout",
     "output_type": "stream",
     "text": [
      "all gen smiels shape (100,)\n",
      "gen_errors shape (100,)\n",
      "[26.39889911]\n",
      "shape argmax_smiles (100, 35, 1)\n",
      "shape line 767 [100, 35, 23, 1]\n"
     ]
    },
    {
     "name": "stderr",
     "output_type": "stream",
     "text": [
      "\r",
      "                                                                               \r",
      "\r",
      "  3% (5 of 150) |                        | Elapsed Time: 0:00:09 ETA:   0:03:10"
     ]
    },
    {
     "name": "stdout",
     "output_type": "stream",
     "text": [
      "all gen smiels shape (100,)\n",
      "gen_errors shape (100,)\n",
      "[23.46758522]\n",
      "shape argmax_smiles (100, 35, 1)\n",
      "shape line 767 [100, 35, 23, 1]\n"
     ]
    },
    {
     "name": "stderr",
     "output_type": "stream",
     "text": [
      "\r",
      "                                                                               \r",
      "\r",
      "  4% (6 of 150) |                        | Elapsed Time: 0:00:10 ETA:   0:03:11"
     ]
    },
    {
     "name": "stdout",
     "output_type": "stream",
     "text": [
      "all gen smiels shape (100,)\n",
      "gen_errors shape (100,)\n",
      "[31.2146389]\n",
      "shape argmax_smiles (100, 35, 1)\n",
      "shape line 767 [100, 35, 23, 1]\n"
     ]
    },
    {
     "name": "stderr",
     "output_type": "stream",
     "text": [
      "\r",
      "                                                                               \r",
      "\r",
      "  4% (7 of 150) |#                       | Elapsed Time: 0:00:11 ETA:   0:03:06"
     ]
    },
    {
     "name": "stdout",
     "output_type": "stream",
     "text": [
      "all gen smiels shape (100,)\n",
      "gen_errors shape (100,)\n",
      "[30.50750933]\n",
      "shape argmax_smiles (100, 35, 1)\n",
      "shape line 767 [100, 35, 23, 1]\n"
     ]
    },
    {
     "name": "stderr",
     "output_type": "stream",
     "text": [
      "\r",
      "                                                                               \r",
      "\r",
      "  5% (8 of 150) |#                       | Elapsed Time: 0:00:13 ETA:   0:03:23"
     ]
    },
    {
     "name": "stdout",
     "output_type": "stream",
     "text": [
      "all gen smiels shape (100,)\n",
      "gen_errors shape (100,)\n",
      "[35.50064879]\n",
      "shape argmax_smiles (100, 35, 1)\n",
      "shape line 767 [100, 35, 23, 1]\n"
     ]
    },
    {
     "name": "stderr",
     "output_type": "stream",
     "text": [
      "\r",
      "                                                                               \r",
      "\r",
      "  6% (9 of 150) |#                       | Elapsed Time: 0:00:16 ETA:   0:07:08"
     ]
    },
    {
     "name": "stdout",
     "output_type": "stream",
     "text": [
      "all gen smiels shape (100,)\n",
      "gen_errors shape (100,)\n",
      "[27.9894465]\n",
      "shape argmax_smiles (100, 35, 1)\n",
      "shape line 767 [100, 35, 23, 1]\n"
     ]
    },
    {
     "name": "stderr",
     "output_type": "stream",
     "text": [
      "\r",
      "                                                                               \r",
      "\r",
      "  6% (10 of 150) |#                      | Elapsed Time: 0:00:18 ETA:   0:06:05"
     ]
    },
    {
     "name": "stdout",
     "output_type": "stream",
     "text": [
      "all gen smiels shape (100,)\n",
      "gen_errors shape (100,)\n",
      "[29.14870456]\n",
      "shape argmax_smiles (100, 35, 1)\n",
      "shape line 767 [100, 35, 23, 1]\n"
     ]
    },
    {
     "name": "stderr",
     "output_type": "stream",
     "text": [
      "\r",
      "                                                                               \r",
      "\r",
      "  7% (11 of 150) |#                      | Elapsed Time: 0:00:21 ETA:   0:06:07"
     ]
    },
    {
     "name": "stdout",
     "output_type": "stream",
     "text": [
      "all gen smiels shape (100,)\n",
      "gen_errors shape (100,)\n",
      "[21.13308559]\n",
      "shape argmax_smiles (100, 35, 1)\n",
      "shape line 767 [100, 35, 23, 1]\n"
     ]
    },
    {
     "name": "stderr",
     "output_type": "stream",
     "text": [
      "\r",
      "                                                                               \r",
      "\r",
      "  8% (12 of 150) |#                      | Elapsed Time: 0:00:24 ETA:   0:07:09"
     ]
    },
    {
     "name": "stdout",
     "output_type": "stream",
     "text": [
      "all gen smiels shape (100,)\n",
      "gen_errors shape (100,)\n",
      "[26.43861173]\n",
      "shape argmax_smiles (100, 35, 1)\n",
      "shape line 767 [100, 35, 23, 1]\n"
     ]
    },
    {
     "name": "stderr",
     "output_type": "stream",
     "text": [
      "\r",
      "                                                                               \r",
      "\r",
      "  8% (13 of 150) |#                      | Elapsed Time: 0:00:27 ETA:   0:06:35"
     ]
    },
    {
     "name": "stdout",
     "output_type": "stream",
     "text": [
      "all gen smiels shape (100,)\n",
      "gen_errors shape (100,)\n",
      "[39.2042991]\n",
      "shape argmax_smiles (100, 35, 1)\n",
      "shape line 767 [100, 35, 23, 1]\n"
     ]
    },
    {
     "name": "stderr",
     "output_type": "stream",
     "text": [
      "\r",
      "                                                                               \r",
      "\r",
      "  9% (14 of 150) |##                     | Elapsed Time: 0:00:28 ETA:   0:04:50"
     ]
    },
    {
     "name": "stdout",
     "output_type": "stream",
     "text": [
      "all gen smiels shape (100,)\n",
      "gen_errors shape (100,)\n",
      "[26.47664314]\n",
      "shape argmax_smiles (100, 35, 1)\n",
      "shape line 767 [100, 35, 23, 1]\n"
     ]
    },
    {
     "name": "stderr",
     "output_type": "stream",
     "text": [
      "\r",
      "                                                                               \r",
      "\r",
      " 10% (15 of 150) |##                     | Elapsed Time: 0:00:30 ETA:   0:02:59"
     ]
    },
    {
     "name": "stdout",
     "output_type": "stream",
     "text": [
      "all gen smiels shape (100,)\n",
      "gen_errors shape (100,)\n",
      "[28.44451672]\n",
      "shape argmax_smiles (100, 35, 1)\n",
      "shape line 767 [100, 35, 23, 1]\n"
     ]
    },
    {
     "name": "stderr",
     "output_type": "stream",
     "text": [
      "\r",
      "                                                                               \r",
      "\r",
      " 10% (16 of 150) |##                     | Elapsed Time: 0:00:31 ETA:   0:02:51"
     ]
    },
    {
     "name": "stdout",
     "output_type": "stream",
     "text": [
      "all gen smiels shape (100,)\n",
      "gen_errors shape (100,)\n",
      "[39.70407536]\n",
      "shape argmax_smiles (100, 35, 1)\n",
      "shape line 767 [100, 35, 23, 1]\n"
     ]
    },
    {
     "name": "stderr",
     "output_type": "stream",
     "text": [
      "\r",
      "                                                                               \r",
      "\r",
      " 11% (17 of 150) |##                     | Elapsed Time: 0:00:32 ETA:   0:02:51"
     ]
    },
    {
     "name": "stdout",
     "output_type": "stream",
     "text": [
      "all gen smiels shape (100,)\n",
      "gen_errors shape (100,)\n",
      "[40.22446056]\n",
      "shape argmax_smiles (100, 35, 1)\n",
      "shape line 767 [100, 35, 23, 1]\n"
     ]
    },
    {
     "name": "stderr",
     "output_type": "stream",
     "text": [
      "\r",
      "                                                                               \r",
      "\r",
      " 12% (18 of 150) |##                     | Elapsed Time: 0:00:34 ETA:   0:02:51"
     ]
    },
    {
     "name": "stdout",
     "output_type": "stream",
     "text": [
      "all gen smiels shape (100,)\n",
      "gen_errors shape (100,)\n",
      "[37.65486811]\n",
      "shape argmax_smiles (100, 35, 1)\n",
      "shape line 767 [100, 35, 23, 1]\n"
     ]
    },
    {
     "name": "stderr",
     "output_type": "stream",
     "text": [
      "\r",
      "                                                                               \r",
      "\r",
      " 12% (19 of 150) |##                     | Elapsed Time: 0:00:35 ETA:   0:02:49"
     ]
    },
    {
     "name": "stdout",
     "output_type": "stream",
     "text": [
      "all gen smiels shape (100,)\n",
      "gen_errors shape (100,)\n",
      "[22.61782042]\n",
      "shape argmax_smiles (100, 35, 1)\n",
      "shape line 767 [100, 35, 23, 1]\n"
     ]
    },
    {
     "name": "stderr",
     "output_type": "stream",
     "text": [
      "\r",
      "                                                                               \r",
      "\r",
      " 13% (20 of 150) |###                    | Elapsed Time: 0:00:36 ETA:   0:02:49"
     ]
    },
    {
     "name": "stdout",
     "output_type": "stream",
     "text": [
      "all gen smiels shape (100,)\n",
      "gen_errors shape (100,)\n",
      "[32.52297216]\n",
      "shape argmax_smiles (100, 35, 1)\n",
      "shape line 767 [100, 35, 23, 1]\n"
     ]
    },
    {
     "name": "stderr",
     "output_type": "stream",
     "text": [
      "\r",
      "                                                                               \r",
      "\r",
      " 14% (21 of 150) |###                    | Elapsed Time: 0:00:37 ETA:   0:02:45"
     ]
    },
    {
     "name": "stdout",
     "output_type": "stream",
     "text": [
      "all gen smiels shape (100,)\n",
      "gen_errors shape (100,)\n",
      "[39.20803653]\n",
      "shape argmax_smiles (100, 35, 1)\n",
      "shape line 767 [100, 35, 23, 1]\n"
     ]
    },
    {
     "name": "stderr",
     "output_type": "stream",
     "text": [
      "\r",
      "                                                                               \r",
      "\r",
      " 14% (22 of 150) |###                    | Elapsed Time: 0:00:39 ETA:   0:02:40"
     ]
    },
    {
     "name": "stdout",
     "output_type": "stream",
     "text": [
      "all gen smiels shape (100,)\n",
      "gen_errors shape (100,)\n",
      "[40.16104584]\n",
      "shape argmax_smiles (100, 35, 1)\n",
      "shape line 767 [100, 35, 23, 1]\n"
     ]
    },
    {
     "name": "stderr",
     "output_type": "stream",
     "text": [
      "\r",
      "                                                                               \r",
      "\r",
      " 15% (23 of 150) |###                    | Elapsed Time: 0:00:40 ETA:   0:02:42"
     ]
    },
    {
     "name": "stdout",
     "output_type": "stream",
     "text": [
      "all gen smiels shape (100,)\n",
      "gen_errors shape (100,)\n",
      "[31.7859381]\n",
      "shape argmax_smiles (100, 35, 1)\n",
      "shape line 767 [100, 35, 23, 1]\n"
     ]
    },
    {
     "name": "stderr",
     "output_type": "stream",
     "text": [
      "\r",
      "                                                                               \r",
      "\r",
      " 16% (24 of 150) |###                    | Elapsed Time: 0:00:41 ETA:   0:02:42"
     ]
    },
    {
     "name": "stdout",
     "output_type": "stream",
     "text": [
      "all gen smiels shape (100,)\n",
      "gen_errors shape (100,)\n",
      "[29.04522676]\n",
      "shape argmax_smiles (100, 35, 1)\n",
      "shape line 767 [100, 35, 23, 1]\n"
     ]
    },
    {
     "name": "stderr",
     "output_type": "stream",
     "text": [
      "\r",
      "                                                                               \r",
      "\r",
      " 16% (25 of 150) |###                    | Elapsed Time: 0:00:42 ETA:   0:02:41"
     ]
    },
    {
     "name": "stdout",
     "output_type": "stream",
     "text": [
      "all gen smiels shape (100,)\n",
      "gen_errors shape (100,)\n",
      "[39.53530709]\n",
      "shape argmax_smiles (100, 35, 1)\n",
      "shape line 767 [100, 35, 23, 1]\n"
     ]
    },
    {
     "name": "stderr",
     "output_type": "stream",
     "text": [
      "\r",
      "                                                                               \r",
      "\r",
      " 17% (26 of 150) |###                    | Elapsed Time: 0:00:44 ETA:   0:02:43"
     ]
    },
    {
     "name": "stdout",
     "output_type": "stream",
     "text": [
      "all gen smiels shape (100,)\n",
      "gen_errors shape (100,)\n",
      "[32.39021873]\n",
      "shape argmax_smiles (100, 35, 1)\n",
      "shape line 767 [100, 35, 23, 1]\n"
     ]
    },
    {
     "name": "stderr",
     "output_type": "stream",
     "text": [
      "\r",
      "                                                                               \r",
      "\r",
      " 18% (27 of 150) |####                   | Elapsed Time: 0:00:45 ETA:   0:02:42"
     ]
    },
    {
     "name": "stdout",
     "output_type": "stream",
     "text": [
      "all gen smiels shape (100,)\n",
      "gen_errors shape (100,)\n",
      "[23.87611383]\n",
      "shape argmax_smiles (100, 35, 1)\n",
      "shape line 767 [100, 35, 23, 1]\n"
     ]
    },
    {
     "name": "stderr",
     "output_type": "stream",
     "text": [
      "\r",
      "                                                                               \r",
      "\r",
      " 18% (28 of 150) |####                   | Elapsed Time: 0:00:46 ETA:   0:02:36"
     ]
    },
    {
     "name": "stdout",
     "output_type": "stream",
     "text": [
      "all gen smiels shape (100,)\n",
      "gen_errors shape (100,)\n",
      "[29.52667422]\n",
      "shape argmax_smiles (100, 35, 1)\n",
      "shape line 767 [100, 35, 23, 1]\n"
     ]
    },
    {
     "name": "stderr",
     "output_type": "stream",
     "text": [
      "\r",
      "                                                                               \r",
      "\r",
      " 19% (29 of 150) |####                   | Elapsed Time: 0:00:48 ETA:   0:02:36"
     ]
    },
    {
     "name": "stdout",
     "output_type": "stream",
     "text": [
      "all gen smiels shape (100,)\n",
      "gen_errors shape (100,)\n",
      "[24.88811376]\n",
      "shape argmax_smiles (100, 35, 1)\n",
      "shape line 767 [100, 35, 23, 1]\n"
     ]
    },
    {
     "name": "stderr",
     "output_type": "stream",
     "text": [
      "\r",
      "                                                                               \r",
      "\r",
      " 20% (30 of 150) |####                   | Elapsed Time: 0:00:49 ETA:   0:02:43"
     ]
    },
    {
     "name": "stdout",
     "output_type": "stream",
     "text": [
      "all gen smiels shape (100,)\n",
      "gen_errors shape (100,)\n",
      "[24.02721861]\n",
      "shape argmax_smiles (100, 35, 1)\n",
      "shape line 767 [100, 35, 23, 1]\n"
     ]
    },
    {
     "name": "stderr",
     "output_type": "stream",
     "text": [
      "\r",
      "                                                                               \r",
      "\r",
      " 20% (31 of 150) |####                   | Elapsed Time: 0:00:50 ETA:   0:02:40"
     ]
    },
    {
     "name": "stdout",
     "output_type": "stream",
     "text": [
      "all gen smiels shape (100,)\n",
      "gen_errors shape (100,)\n",
      "[24.18298579]\n",
      "shape argmax_smiles (100, 35, 1)\n",
      "shape line 767 [100, 35, 23, 1]\n"
     ]
    },
    {
     "name": "stderr",
     "output_type": "stream",
     "text": [
      "\r",
      "                                                                               \r",
      "\r",
      " 21% (32 of 150) |####                   | Elapsed Time: 0:00:52 ETA:   0:02:30"
     ]
    },
    {
     "name": "stdout",
     "output_type": "stream",
     "text": [
      "all gen smiels shape (100,)\n",
      "gen_errors shape (100,)\n",
      "[32.74512424]\n",
      "shape argmax_smiles (100, 35, 1)\n",
      "shape line 767 [100, 35, 23, 1]\n"
     ]
    },
    {
     "name": "stderr",
     "output_type": "stream",
     "text": [
      "\r",
      "                                                                               \r",
      "\r",
      " 22% (33 of 150) |#####                  | Elapsed Time: 0:00:53 ETA:   0:02:36"
     ]
    },
    {
     "name": "stdout",
     "output_type": "stream",
     "text": [
      "all gen smiels shape (100,)\n",
      "gen_errors shape (100,)\n",
      "[32.26169731]\n",
      "shape argmax_smiles (100, 35, 1)\n",
      "shape line 767 [100, 35, 23, 1]\n"
     ]
    },
    {
     "name": "stderr",
     "output_type": "stream",
     "text": [
      "\r",
      "                                                                               \r",
      "\r",
      " 22% (34 of 150) |#####                  | Elapsed Time: 0:00:54 ETA:   0:02:34"
     ]
    },
    {
     "name": "stdout",
     "output_type": "stream",
     "text": [
      "all gen smiels shape (100,)\n",
      "gen_errors shape (100,)\n",
      "[37.97128365]\n",
      "shape argmax_smiles (100, 35, 1)\n",
      "shape line 767 [100, 35, 23, 1]\n"
     ]
    },
    {
     "name": "stderr",
     "output_type": "stream",
     "text": [
      "\r",
      "                                                                               \r",
      "\r",
      " 23% (35 of 150) |#####                  | Elapsed Time: 0:00:56 ETA:   0:02:31"
     ]
    },
    {
     "name": "stdout",
     "output_type": "stream",
     "text": [
      "all gen smiels shape (100,)\n",
      "gen_errors shape (100,)\n",
      "[38.73521932]\n",
      "shape argmax_smiles (100, 35, 1)\n",
      "shape line 767 [100, 35, 23, 1]\n"
     ]
    },
    {
     "name": "stderr",
     "output_type": "stream",
     "text": [
      "\r",
      "                                                                               \r",
      "\r",
      " 24% (36 of 150) |#####                  | Elapsed Time: 0:00:57 ETA:   0:02:37"
     ]
    },
    {
     "name": "stdout",
     "output_type": "stream",
     "text": [
      "all gen smiels shape (100,)\n",
      "gen_errors shape (100,)\n",
      "[40.72605475]\n",
      "shape argmax_smiles (100, 35, 1)\n",
      "shape line 767 [100, 35, 23, 1]\n"
     ]
    },
    {
     "name": "stderr",
     "output_type": "stream",
     "text": [
      "\r",
      "                                                                               \r",
      "\r",
      " 24% (37 of 150) |#####                  | Elapsed Time: 0:00:58 ETA:   0:02:33"
     ]
    },
    {
     "name": "stdout",
     "output_type": "stream",
     "text": [
      "all gen smiels shape (100,)\n",
      "gen_errors shape (100,)\n",
      "[24.30680079]\n",
      "shape argmax_smiles (100, 35, 1)\n",
      "shape line 767 [100, 35, 23, 1]\n"
     ]
    },
    {
     "name": "stderr",
     "output_type": "stream",
     "text": [
      "\r",
      "                                                                               \r",
      "\r",
      " 25% (38 of 150) |#####                  | Elapsed Time: 0:01:00 ETA:   0:02:24"
     ]
    },
    {
     "name": "stdout",
     "output_type": "stream",
     "text": [
      "all gen smiels shape (100,)\n",
      "gen_errors shape (100,)\n",
      "[23.04861812]\n",
      "shape argmax_smiles (100, 35, 1)\n",
      "shape line 767 [100, 35, 23, 1]\n"
     ]
    },
    {
     "name": "stderr",
     "output_type": "stream",
     "text": [
      "\r",
      "                                                                               \r",
      "\r",
      " 26% (39 of 150) |#####                  | Elapsed Time: 0:01:01 ETA:   0:02:22"
     ]
    },
    {
     "name": "stdout",
     "output_type": "stream",
     "text": [
      "all gen smiels shape (100,)\n",
      "gen_errors shape (100,)\n",
      "[36.60092141]\n",
      "shape argmax_smiles (100, 35, 1)\n",
      "shape line 767 [100, 35, 23, 1]\n"
     ]
    },
    {
     "name": "stderr",
     "output_type": "stream",
     "text": [
      "\r",
      "                                                                               \r",
      "\r",
      " 26% (40 of 150) |######                 | Elapsed Time: 0:01:02 ETA:   0:02:18"
     ]
    },
    {
     "name": "stdout",
     "output_type": "stream",
     "text": [
      "all gen smiels shape (100,)\n",
      "gen_errors shape (100,)\n",
      "[25.97825685]\n",
      "shape argmax_smiles (100, 35, 1)\n",
      "shape line 767 [100, 35, 23, 1]\n"
     ]
    },
    {
     "name": "stderr",
     "output_type": "stream",
     "text": [
      "\r",
      "                                                                               \r",
      "\r",
      " 27% (41 of 150) |######                 | Elapsed Time: 0:01:03 ETA:   0:02:15"
     ]
    },
    {
     "name": "stdout",
     "output_type": "stream",
     "text": [
      "all gen smiels shape (100,)\n",
      "gen_errors shape (100,)\n",
      "[30.15617185]\n",
      "shape argmax_smiles (100, 35, 1)\n",
      "shape line 767 [100, 35, 23, 1]\n"
     ]
    },
    {
     "name": "stderr",
     "output_type": "stream",
     "text": [
      "\r",
      "                                                                               \r",
      "\r",
      " 28% (42 of 150) |######                 | Elapsed Time: 0:01:05 ETA:   0:02:15"
     ]
    },
    {
     "name": "stdout",
     "output_type": "stream",
     "text": [
      "all gen smiels shape (100,)\n",
      "gen_errors shape (100,)\n",
      "[37.12226182]\n",
      "shape argmax_smiles (100, 35, 1)\n",
      "shape line 767 [100, 35, 23, 1]\n"
     ]
    },
    {
     "name": "stderr",
     "output_type": "stream",
     "text": [
      "\r",
      "                                                                               \r",
      "\r",
      " 28% (43 of 150) |######                 | Elapsed Time: 0:01:06 ETA:   0:02:16"
     ]
    },
    {
     "name": "stdout",
     "output_type": "stream",
     "text": [
      "all gen smiels shape (100,)\n",
      "gen_errors shape (100,)\n",
      "[37.65691798]\n",
      "shape argmax_smiles (100, 35, 1)\n",
      "shape line 767 [100, 35, 23, 1]\n"
     ]
    },
    {
     "name": "stderr",
     "output_type": "stream",
     "text": [
      "\r",
      "                                                                               \r",
      "\r",
      " 29% (44 of 150) |######                 | Elapsed Time: 0:01:07 ETA:   0:02:14"
     ]
    },
    {
     "name": "stdout",
     "output_type": "stream",
     "text": [
      "all gen smiels shape (100,)\n",
      "gen_errors shape (100,)\n",
      "[35.46022534]\n",
      "shape argmax_smiles (100, 35, 1)\n",
      "shape line 767 [100, 35, 23, 1]\n"
     ]
    },
    {
     "name": "stderr",
     "output_type": "stream",
     "text": [
      "\r",
      "                                                                               \r",
      "\r",
      " 30% (45 of 150) |######                 | Elapsed Time: 0:01:09 ETA:   0:02:12"
     ]
    },
    {
     "name": "stdout",
     "output_type": "stream",
     "text": [
      "all gen smiels shape (100,)\n",
      "gen_errors shape (100,)\n",
      "[33.17513325]\n",
      "shape argmax_smiles (100, 35, 1)\n",
      "shape line 767 [100, 35, 23, 1]\n"
     ]
    },
    {
     "name": "stderr",
     "output_type": "stream",
     "text": [
      "\r",
      "                                                                               \r",
      "\r",
      " 30% (46 of 150) |#######                | Elapsed Time: 0:01:10 ETA:   0:02:11"
     ]
    },
    {
     "name": "stdout",
     "output_type": "stream",
     "text": [
      "all gen smiels shape (100,)\n",
      "gen_errors shape (100,)\n",
      "[31.39441549]\n",
      "shape argmax_smiles (100, 35, 1)\n",
      "shape line 767 [100, 35, 23, 1]\n"
     ]
    },
    {
     "name": "stderr",
     "output_type": "stream",
     "text": [
      "\r",
      "                                                                               \r",
      "\r",
      " 31% (47 of 150) |#######                | Elapsed Time: 0:01:11 ETA:   0:02:10"
     ]
    },
    {
     "name": "stdout",
     "output_type": "stream",
     "text": [
      "all gen smiels shape (100,)\n",
      "gen_errors shape (100,)\n",
      "[28.38642307]\n",
      "shape argmax_smiles (100, 35, 1)\n",
      "shape line 767 [100, 35, 23, 1]\n"
     ]
    },
    {
     "name": "stderr",
     "output_type": "stream",
     "text": [
      "\r",
      "                                                                               \r",
      "\r",
      " 32% (48 of 150) |#######                | Elapsed Time: 0:01:13 ETA:   0:02:37"
     ]
    },
    {
     "name": "stdout",
     "output_type": "stream",
     "text": [
      "all gen smiels shape (100,)\n",
      "gen_errors shape (100,)\n",
      "[22.66914685]\n",
      "shape argmax_smiles (100, 35, 1)\n",
      "shape line 767 [100, 35, 23, 1]\n"
     ]
    },
    {
     "name": "stderr",
     "output_type": "stream",
     "text": [
      "\r",
      "                                                                               \r",
      "\r",
      " 32% (49 of 150) |#######                | Elapsed Time: 0:01:15 ETA:   0:03:04"
     ]
    },
    {
     "name": "stdout",
     "output_type": "stream",
     "text": [
      "all gen smiels shape (100,)\n",
      "gen_errors shape (100,)\n",
      "[31.83226397]\n",
      "shape argmax_smiles (100, 35, 1)\n",
      "shape line 767 [100, 35, 23, 1]\n"
     ]
    },
    {
     "name": "stderr",
     "output_type": "stream",
     "text": [
      "\r",
      "                                                                               \r",
      "\r",
      " 33% (50 of 150) |#######                | Elapsed Time: 0:01:16 ETA:   0:02:34"
     ]
    },
    {
     "name": "stdout",
     "output_type": "stream",
     "text": [
      "all gen smiels shape (100,)\n",
      "gen_errors shape (100,)\n",
      "[23.83579231]\n",
      "shape argmax_smiles (100, 35, 1)\n",
      "shape line 767 [100, 35, 23, 1]\n"
     ]
    },
    {
     "name": "stderr",
     "output_type": "stream",
     "text": [
      "\r",
      "                                                                               \r",
      "\r",
      " 34% (51 of 150) |#######                | Elapsed Time: 0:01:17 ETA:   0:02:11"
     ]
    },
    {
     "name": "stdout",
     "output_type": "stream",
     "text": [
      "all gen smiels shape (100,)\n",
      "gen_errors shape (100,)\n",
      "[39.96087334]\n",
      "shape argmax_smiles (100, 35, 1)\n",
      "shape line 767 [100, 35, 23, 1]\n"
     ]
    },
    {
     "name": "stderr",
     "output_type": "stream",
     "text": [
      "\r",
      "                                                                               \r",
      "\r",
      " 34% (52 of 150) |#######                | Elapsed Time: 0:01:19 ETA:   0:02:08"
     ]
    },
    {
     "name": "stdout",
     "output_type": "stream",
     "text": [
      "all gen smiels shape (100,)\n",
      "gen_errors shape (100,)\n",
      "[35.22497558]\n",
      "shape argmax_smiles (100, 35, 1)\n",
      "shape line 767 [100, 35, 23, 1]\n"
     ]
    },
    {
     "name": "stderr",
     "output_type": "stream",
     "text": [
      "\r",
      "                                                                               \r",
      "\r",
      " 35% (53 of 150) |########               | Elapsed Time: 0:01:20 ETA:   0:01:59"
     ]
    },
    {
     "name": "stdout",
     "output_type": "stream",
     "text": [
      "all gen smiels shape (100,)\n",
      "gen_errors shape (100,)\n",
      "[30.16904958]\n",
      "shape argmax_smiles (100, 35, 1)\n",
      "shape line 767 [100, 35, 23, 1]\n"
     ]
    },
    {
     "name": "stderr",
     "output_type": "stream",
     "text": [
      "\r",
      "                                                                               \r",
      "\r",
      " 36% (54 of 150) |########               | Elapsed Time: 0:01:21 ETA:   0:01:59"
     ]
    },
    {
     "name": "stdout",
     "output_type": "stream",
     "text": [
      "all gen smiels shape (100,)\n",
      "gen_errors shape (100,)\n",
      "[38.23318424]\n",
      "shape argmax_smiles (100, 35, 1)\n",
      "shape line 767 [100, 35, 23, 1]\n"
     ]
    },
    {
     "name": "stderr",
     "output_type": "stream",
     "text": [
      "\r",
      "                                                                               \r",
      "\r",
      " 36% (55 of 150) |########               | Elapsed Time: 0:01:22 ETA:   0:01:57"
     ]
    },
    {
     "name": "stdout",
     "output_type": "stream",
     "text": [
      "all gen smiels shape (100,)\n",
      "gen_errors shape (100,)\n",
      "[41.07443024]\n",
      "shape argmax_smiles (100, 35, 1)\n",
      "shape line 767 [100, 35, 23, 1]\n"
     ]
    },
    {
     "name": "stderr",
     "output_type": "stream",
     "text": [
      "\r",
      "                                                                               \r",
      "\r",
      " 37% (56 of 150) |########               | Elapsed Time: 0:01:24 ETA:   0:01:53"
     ]
    },
    {
     "name": "stdout",
     "output_type": "stream",
     "text": [
      "all gen smiels shape (100,)\n",
      "gen_errors shape (100,)\n",
      "[22.74645626]\n",
      "shape argmax_smiles (100, 35, 1)\n",
      "shape line 767 [100, 35, 23, 1]\n"
     ]
    },
    {
     "name": "stderr",
     "output_type": "stream",
     "text": [
      "\r",
      "                                                                               \r",
      "\r",
      " 38% (57 of 150) |########               | Elapsed Time: 0:01:25 ETA:   0:01:52"
     ]
    },
    {
     "name": "stdout",
     "output_type": "stream",
     "text": [
      "all gen smiels shape (100,)\n",
      "gen_errors shape (100,)\n",
      "[21.9742385]\n",
      "shape argmax_smiles (100, 35, 1)\n",
      "shape line 767 [100, 35, 23, 1]\n"
     ]
    },
    {
     "name": "stderr",
     "output_type": "stream",
     "text": [
      "\r",
      "                                                                               \r",
      "\r",
      " 38% (58 of 150) |########               | Elapsed Time: 0:01:26 ETA:   0:01:51"
     ]
    },
    {
     "name": "stdout",
     "output_type": "stream",
     "text": [
      "all gen smiels shape (100,)\n",
      "gen_errors shape (100,)\n",
      "[23.19060196]\n",
      "shape argmax_smiles (100, 35, 1)\n",
      "shape line 767 [100, 35, 23, 1]\n"
     ]
    },
    {
     "name": "stderr",
     "output_type": "stream",
     "text": [
      "\r",
      "                                                                               \r",
      "\r",
      " 39% (59 of 150) |#########              | Elapsed Time: 0:01:27 ETA:   0:01:50"
     ]
    },
    {
     "name": "stdout",
     "output_type": "stream",
     "text": [
      "all gen smiels shape (100,)\n",
      "gen_errors shape (100,)\n",
      "[38.44865348]\n",
      "shape argmax_smiles (100, 35, 1)\n",
      "shape line 767 [100, 35, 23, 1]\n"
     ]
    },
    {
     "name": "stderr",
     "output_type": "stream",
     "text": [
      "\r",
      "                                                                               \r",
      "\r",
      " 40% (60 of 150) |#########              | Elapsed Time: 0:01:28 ETA:   0:01:47"
     ]
    },
    {
     "name": "stdout",
     "output_type": "stream",
     "text": [
      "all gen smiels shape (100,)\n",
      "gen_errors shape (100,)\n",
      "[41.93748064]\n",
      "shape argmax_smiles (100, 35, 1)\n",
      "shape line 767 [100, 35, 23, 1]\n"
     ]
    },
    {
     "name": "stderr",
     "output_type": "stream",
     "text": [
      "\r",
      "                                                                               \r",
      "\r",
      " 40% (61 of 150) |#########              | Elapsed Time: 0:01:30 ETA:   0:01:50"
     ]
    },
    {
     "name": "stdout",
     "output_type": "stream",
     "text": [
      "all gen smiels shape (100,)\n",
      "gen_errors shape (100,)\n",
      "[35.63511476]\n",
      "shape argmax_smiles (100, 35, 1)\n",
      "shape line 767 [100, 35, 23, 1]\n"
     ]
    },
    {
     "name": "stderr",
     "output_type": "stream",
     "text": [
      "\r",
      "                                                                               \r",
      "\r",
      " 41% (62 of 150) |#########              | Elapsed Time: 0:01:31 ETA:   0:01:49"
     ]
    },
    {
     "name": "stdout",
     "output_type": "stream",
     "text": [
      "all gen smiels shape (100,)\n",
      "gen_errors shape (100,)\n",
      "[36.5575636]\n",
      "shape argmax_smiles (100, 35, 1)\n",
      "shape line 767 [100, 35, 23, 1]\n"
     ]
    },
    {
     "name": "stderr",
     "output_type": "stream",
     "text": [
      "\r",
      "                                                                               \r",
      "\r",
      " 42% (63 of 150) |#########              | Elapsed Time: 0:01:32 ETA:   0:01:44"
     ]
    },
    {
     "name": "stdout",
     "output_type": "stream",
     "text": [
      "all gen smiels shape (100,)\n",
      "gen_errors shape (100,)\n",
      "[26.90236996]\n",
      "shape argmax_smiles (100, 35, 1)\n",
      "shape line 767 [100, 35, 23, 1]\n"
     ]
    },
    {
     "name": "stderr",
     "output_type": "stream",
     "text": [
      "\r",
      "                                                                               \r",
      "\r",
      " 42% (64 of 150) |#########              | Elapsed Time: 0:01:33 ETA:   0:01:42"
     ]
    },
    {
     "name": "stdout",
     "output_type": "stream",
     "text": [
      "all gen smiels shape (100,)\n",
      "gen_errors shape (100,)\n",
      "[39.88284522]\n",
      "shape argmax_smiles (100, 35, 1)\n",
      "shape line 767 [100, 35, 23, 1]\n"
     ]
    },
    {
     "name": "stderr",
     "output_type": "stream",
     "text": [
      "\r",
      "                                                                               \r",
      "\r",
      " 43% (65 of 150) |#########              | Elapsed Time: 0:01:34 ETA:   0:01:42"
     ]
    },
    {
     "name": "stdout",
     "output_type": "stream",
     "text": [
      "all gen smiels shape (100,)\n",
      "gen_errors shape (100,)\n",
      "[32.77070018]\n",
      "shape argmax_smiles (100, 35, 1)\n",
      "shape line 767 [100, 35, 23, 1]\n"
     ]
    },
    {
     "name": "stderr",
     "output_type": "stream",
     "text": [
      "\r",
      "                                                                               \r",
      "\r",
      " 44% (66 of 150) |##########             | Elapsed Time: 0:01:36 ETA:   0:01:41"
     ]
    },
    {
     "name": "stdout",
     "output_type": "stream",
     "text": [
      "all gen smiels shape (100,)\n",
      "gen_errors shape (100,)\n",
      "[31.79864428]\n",
      "shape argmax_smiles (100, 35, 1)\n",
      "shape line 767 [100, 35, 23, 1]\n"
     ]
    },
    {
     "name": "stderr",
     "output_type": "stream",
     "text": [
      "\r",
      "                                                                               \r",
      "\r",
      " 44% (67 of 150) |##########             | Elapsed Time: 0:01:37 ETA:   0:01:39"
     ]
    },
    {
     "name": "stdout",
     "output_type": "stream",
     "text": [
      "all gen smiels shape (100,)\n",
      "gen_errors shape (100,)\n",
      "[28.24970688]\n",
      "shape argmax_smiles (100, 35, 1)\n",
      "shape line 767 [100, 35, 23, 1]\n"
     ]
    },
    {
     "name": "stderr",
     "output_type": "stream",
     "text": [
      "\r",
      "                                                                               \r",
      "\r",
      " 45% (68 of 150) |##########             | Elapsed Time: 0:01:38 ETA:   0:01:42"
     ]
    },
    {
     "name": "stdout",
     "output_type": "stream",
     "text": [
      "all gen smiels shape (100,)\n",
      "gen_errors shape (100,)\n",
      "[38.11665702]\n",
      "shape argmax_smiles (100, 35, 1)\n",
      "shape line 767 [100, 35, 23, 1]\n"
     ]
    },
    {
     "name": "stderr",
     "output_type": "stream",
     "text": [
      "\r",
      "                                                                               \r",
      "\r",
      " 46% (69 of 150) |##########             | Elapsed Time: 0:01:39 ETA:   0:01:41"
     ]
    },
    {
     "name": "stdout",
     "output_type": "stream",
     "text": [
      "all gen smiels shape (100,)\n",
      "gen_errors shape (100,)\n",
      "[31.53920773]\n",
      "shape argmax_smiles (100, 35, 1)\n",
      "shape line 767 [100, 35, 23, 1]\n"
     ]
    },
    {
     "name": "stderr",
     "output_type": "stream",
     "text": [
      "\r",
      "                                                                               \r",
      "\r",
      " 46% (70 of 150) |##########             | Elapsed Time: 0:01:41 ETA:   0:01:36"
     ]
    },
    {
     "name": "stdout",
     "output_type": "stream",
     "text": [
      "all gen smiels shape (100,)\n",
      "gen_errors shape (100,)\n",
      "[25.05205485]\n",
      "shape argmax_smiles (100, 35, 1)\n",
      "shape line 767 [100, 35, 23, 1]\n"
     ]
    },
    {
     "name": "stderr",
     "output_type": "stream",
     "text": [
      "\r",
      "                                                                               \r",
      "\r",
      " 47% (71 of 150) |##########             | Elapsed Time: 0:01:42 ETA:   0:01:37"
     ]
    },
    {
     "name": "stdout",
     "output_type": "stream",
     "text": [
      "all gen smiels shape (100,)\n",
      "gen_errors shape (100,)\n",
      "[33.76050161]\n",
      "shape argmax_smiles (100, 35, 1)\n",
      "shape line 767 [100, 35, 23, 1]\n"
     ]
    },
    {
     "name": "stderr",
     "output_type": "stream",
     "text": [
      "\r",
      "                                                                               \r",
      "\r",
      " 48% (72 of 150) |###########            | Elapsed Time: 0:01:43 ETA:   0:01:37"
     ]
    },
    {
     "name": "stdout",
     "output_type": "stream",
     "text": [
      "all gen smiels shape (100,)\n",
      "gen_errors shape (100,)\n",
      "[37.43900565]\n",
      "shape argmax_smiles (100, 35, 1)\n",
      "shape line 767 [100, 35, 23, 1]\n"
     ]
    },
    {
     "name": "stderr",
     "output_type": "stream",
     "text": [
      "\r",
      "                                                                               \r",
      "\r",
      " 48% (73 of 150) |###########            | Elapsed Time: 0:01:44 ETA:   0:01:34"
     ]
    },
    {
     "name": "stdout",
     "output_type": "stream",
     "text": [
      "all gen smiels shape (100,)\n",
      "gen_errors shape (100,)\n",
      "[37.39834203]\n",
      "shape argmax_smiles (100, 35, 1)\n",
      "shape line 767 [100, 35, 23, 1]\n"
     ]
    },
    {
     "name": "stderr",
     "output_type": "stream",
     "text": [
      "\r",
      "                                                                               \r",
      "\r",
      " 49% (74 of 150) |###########            | Elapsed Time: 0:01:46 ETA:   0:01:33"
     ]
    },
    {
     "name": "stdout",
     "output_type": "stream",
     "text": [
      "all gen smiels shape (100,)\n",
      "gen_errors shape (100,)\n",
      "[34.77959076]\n",
      "shape argmax_smiles (100, 35, 1)\n",
      "shape line 767 [100, 35, 23, 1]\n"
     ]
    },
    {
     "name": "stderr",
     "output_type": "stream",
     "text": [
      "\r",
      "                                                                               \r",
      "\r",
      " 50% (75 of 150) |###########            | Elapsed Time: 0:01:47 ETA:   0:01:33"
     ]
    },
    {
     "name": "stdout",
     "output_type": "stream",
     "text": [
      "all gen smiels shape (100,)\n",
      "gen_errors shape (100,)\n",
      "[34.24955863]\n",
      "shape argmax_smiles (100, 35, 1)\n",
      "shape line 767 [100, 35, 23, 1]\n"
     ]
    },
    {
     "name": "stderr",
     "output_type": "stream",
     "text": [
      "\r",
      "                                                                               \r",
      "\r",
      " 50% (76 of 150) |###########            | Elapsed Time: 0:01:48 ETA:   0:01:39"
     ]
    },
    {
     "name": "stdout",
     "output_type": "stream",
     "text": [
      "all gen smiels shape (100,)\n",
      "gen_errors shape (100,)\n",
      "[36.51462638]\n",
      "shape argmax_smiles (100, 35, 1)\n",
      "shape line 767 [100, 35, 23, 1]\n"
     ]
    },
    {
     "name": "stderr",
     "output_type": "stream",
     "text": [
      "\r",
      "                                                                               \r",
      "\r",
      " 51% (77 of 150) |###########            | Elapsed Time: 0:01:49 ETA:   0:01:37"
     ]
    },
    {
     "name": "stdout",
     "output_type": "stream",
     "text": [
      "all gen smiels shape (100,)\n",
      "gen_errors shape (100,)\n",
      "[31.51673111]\n",
      "shape argmax_smiles (100, 35, 1)\n",
      "shape line 767 [100, 35, 23, 1]\n"
     ]
    },
    {
     "name": "stderr",
     "output_type": "stream",
     "text": [
      "\r",
      "                                                                               \r",
      "\r",
      " 52% (78 of 150) |###########            | Elapsed Time: 0:01:51 ETA:   0:01:29"
     ]
    },
    {
     "name": "stdout",
     "output_type": "stream",
     "text": [
      "all gen smiels shape (100,)\n",
      "gen_errors shape (100,)\n",
      "[37.6114412]\n",
      "shape argmax_smiles (100, 35, 1)\n",
      "shape line 767 [100, 35, 23, 1]\n"
     ]
    },
    {
     "name": "stderr",
     "output_type": "stream",
     "text": [
      "\r",
      "                                                                               \r",
      "\r",
      " 52% (79 of 150) |############           | Elapsed Time: 0:01:52 ETA:   0:01:28"
     ]
    },
    {
     "name": "stdout",
     "output_type": "stream",
     "text": [
      "all gen smiels shape (100,)\n",
      "gen_errors shape (100,)\n",
      "[35.690784]\n",
      "shape argmax_smiles (100, 35, 1)\n",
      "shape line 767 [100, 35, 23, 1]\n"
     ]
    },
    {
     "name": "stderr",
     "output_type": "stream",
     "text": [
      "\r",
      "                                                                               \r",
      "\r",
      " 53% (80 of 150) |############           | Elapsed Time: 0:01:53 ETA:   0:01:32"
     ]
    },
    {
     "name": "stdout",
     "output_type": "stream",
     "text": [
      "all gen smiels shape (100,)\n",
      "gen_errors shape (100,)\n",
      "[30.36451498]\n",
      "shape argmax_smiles (100, 35, 1)\n",
      "shape line 767 [100, 35, 23, 1]\n"
     ]
    },
    {
     "name": "stderr",
     "output_type": "stream",
     "text": [
      "\r",
      "                                                                               \r",
      "\r",
      " 54% (81 of 150) |############           | Elapsed Time: 0:01:55 ETA:   0:01:31"
     ]
    },
    {
     "name": "stdout",
     "output_type": "stream",
     "text": [
      "all gen smiels shape (100,)\n",
      "gen_errors shape (100,)\n",
      "[23.46099787]\n",
      "shape argmax_smiles (100, 35, 1)\n",
      "shape line 767 [100, 35, 23, 1]\n"
     ]
    },
    {
     "name": "stderr",
     "output_type": "stream",
     "text": [
      "\r",
      "                                                                               \r",
      "\r",
      " 54% (82 of 150) |############           | Elapsed Time: 0:01:56 ETA:   0:01:25"
     ]
    },
    {
     "name": "stdout",
     "output_type": "stream",
     "text": [
      "all gen smiels shape (100,)\n",
      "gen_errors shape (100,)\n",
      "[41.54418416]\n",
      "shape argmax_smiles (100, 35, 1)\n",
      "shape line 767 [100, 35, 23, 1]\n"
     ]
    },
    {
     "name": "stderr",
     "output_type": "stream",
     "text": [
      "\r",
      "                                                                               \r",
      "\r",
      " 55% (83 of 150) |############           | Elapsed Time: 0:01:57 ETA:   0:01:24"
     ]
    },
    {
     "name": "stdout",
     "output_type": "stream",
     "text": [
      "all gen smiels shape (100,)\n",
      "gen_errors shape (100,)\n",
      "[32.68858957]\n",
      "shape argmax_smiles (100, 35, 1)\n",
      "shape line 767 [100, 35, 23, 1]\n"
     ]
    },
    {
     "name": "stderr",
     "output_type": "stream",
     "text": [
      "\r",
      "                                                                               \r",
      "\r",
      " 56% (84 of 150) |############           | Elapsed Time: 0:01:58 ETA:   0:01:24"
     ]
    },
    {
     "name": "stdout",
     "output_type": "stream",
     "text": [
      "all gen smiels shape (100,)\n",
      "gen_errors shape (100,)\n",
      "[26.6854333]\n",
      "shape argmax_smiles (100, 35, 1)\n",
      "shape line 767 [100, 35, 23, 1]\n"
     ]
    },
    {
     "name": "stderr",
     "output_type": "stream",
     "text": [
      "\r",
      "                                                                               \r",
      "\r",
      " 56% (85 of 150) |#############          | Elapsed Time: 0:02:00 ETA:   0:01:22"
     ]
    },
    {
     "name": "stdout",
     "output_type": "stream",
     "text": [
      "all gen smiels shape (100,)\n",
      "gen_errors shape (100,)\n",
      "[40.09266295]\n",
      "shape argmax_smiles (100, 35, 1)\n",
      "shape line 767 [100, 35, 23, 1]\n"
     ]
    },
    {
     "name": "stderr",
     "output_type": "stream",
     "text": [
      "\r",
      "                                                                               \r",
      "\r",
      " 57% (86 of 150) |#############          | Elapsed Time: 0:02:01 ETA:   0:01:20"
     ]
    },
    {
     "name": "stdout",
     "output_type": "stream",
     "text": [
      "all gen smiels shape (100,)\n",
      "gen_errors shape (100,)\n",
      "[39.59744569]\n",
      "shape argmax_smiles (100, 35, 1)\n",
      "shape line 767 [100, 35, 23, 1]\n"
     ]
    },
    {
     "name": "stderr",
     "output_type": "stream",
     "text": [
      "\r",
      "                                                                               \r",
      "\r",
      " 57% (87 of 150) |#############          | Elapsed Time: 0:02:02 ETA:   0:01:19"
     ]
    },
    {
     "name": "stdout",
     "output_type": "stream",
     "text": [
      "all gen smiels shape (100,)\n",
      "gen_errors shape (100,)\n",
      "[23.55687196]\n",
      "shape argmax_smiles (100, 35, 1)\n",
      "shape line 767 [100, 35, 23, 1]\n"
     ]
    },
    {
     "name": "stderr",
     "output_type": "stream",
     "text": [
      "\r",
      "                                                                               \r",
      "\r",
      " 58% (88 of 150) |#############          | Elapsed Time: 0:02:04 ETA:   0:01:28"
     ]
    },
    {
     "name": "stdout",
     "output_type": "stream",
     "text": [
      "all gen smiels shape (100,)\n",
      "gen_errors shape (100,)\n",
      "[37.80711936]\n",
      "shape argmax_smiles (100, 35, 1)\n",
      "shape line 767 [100, 35, 23, 1]\n"
     ]
    },
    {
     "name": "stderr",
     "output_type": "stream",
     "text": [
      "\r",
      "                                                                               \r",
      "\r",
      " 59% (89 of 150) |#############          | Elapsed Time: 0:02:05 ETA:   0:01:26"
     ]
    },
    {
     "name": "stdout",
     "output_type": "stream",
     "text": [
      "all gen smiels shape (100,)\n",
      "gen_errors shape (100,)\n",
      "[33.64733732]\n",
      "shape argmax_smiles (100, 35, 1)\n",
      "shape line 767 [100, 35, 23, 1]\n"
     ]
    },
    {
     "name": "stderr",
     "output_type": "stream",
     "text": [
      "\r",
      "                                                                               \r",
      "\r",
      " 60% (90 of 150) |#############          | Elapsed Time: 0:02:06 ETA:   0:01:14"
     ]
    },
    {
     "name": "stdout",
     "output_type": "stream",
     "text": [
      "all gen smiels shape (100,)\n",
      "gen_errors shape (100,)\n",
      "[36.99460751]\n",
      "shape argmax_smiles (100, 35, 1)\n",
      "shape line 767 [100, 35, 23, 1]\n"
     ]
    },
    {
     "name": "stderr",
     "output_type": "stream",
     "text": [
      "\r",
      "                                                                               \r",
      "\r",
      " 60% (91 of 150) |#############          | Elapsed Time: 0:02:08 ETA:   0:01:13"
     ]
    },
    {
     "name": "stdout",
     "output_type": "stream",
     "text": [
      "all gen smiels shape (100,)\n",
      "gen_errors shape (100,)\n",
      "[21.41271055]\n",
      "shape argmax_smiles (100, 35, 1)\n",
      "shape line 767 [100, 35, 23, 1]\n"
     ]
    },
    {
     "name": "stderr",
     "output_type": "stream",
     "text": [
      "\r",
      "                                                                               \r",
      "\r",
      " 61% (92 of 150) |##############         | Elapsed Time: 0:02:09 ETA:   0:01:13"
     ]
    },
    {
     "name": "stdout",
     "output_type": "stream",
     "text": [
      "all gen smiels shape (100,)\n",
      "gen_errors shape (100,)\n",
      "[33.16371129]\n",
      "shape argmax_smiles (100, 35, 1)\n",
      "shape line 767 [100, 35, 23, 1]\n"
     ]
    },
    {
     "name": "stderr",
     "output_type": "stream",
     "text": [
      "\r",
      "                                                                               \r",
      "\r",
      " 62% (93 of 150) |##############         | Elapsed Time: 0:02:10 ETA:   0:01:12"
     ]
    },
    {
     "name": "stdout",
     "output_type": "stream",
     "text": [
      "all gen smiels shape (100,)\n",
      "gen_errors shape (100,)\n",
      "[37.98632412]\n",
      "shape argmax_smiles (100, 35, 1)\n",
      "shape line 767 [100, 35, 23, 1]\n"
     ]
    },
    {
     "name": "stderr",
     "output_type": "stream",
     "text": [
      "\r",
      "                                                                               \r",
      "\r",
      " 62% (94 of 150) |##############         | Elapsed Time: 0:02:11 ETA:   0:01:11"
     ]
    },
    {
     "name": "stdout",
     "output_type": "stream",
     "text": [
      "all gen smiels shape (100,)\n",
      "gen_errors shape (100,)\n",
      "[32.543767]\n",
      "shape argmax_smiles (100, 35, 1)\n",
      "shape line 767 [100, 35, 23, 1]\n"
     ]
    },
    {
     "name": "stderr",
     "output_type": "stream",
     "text": [
      "\r",
      "                                                                               \r",
      "\r",
      " 63% (95 of 150) |##############         | Elapsed Time: 0:02:13 ETA:   0:01:08"
     ]
    },
    {
     "name": "stdout",
     "output_type": "stream",
     "text": [
      "all gen smiels shape (100,)\n",
      "gen_errors shape (100,)\n",
      "[39.84494662]\n",
      "shape argmax_smiles (100, 35, 1)\n",
      "shape line 767 [100, 35, 23, 1]\n"
     ]
    },
    {
     "name": "stderr",
     "output_type": "stream",
     "text": [
      "\r",
      "                                                                               \r",
      "\r",
      " 64% (96 of 150) |##############         | Elapsed Time: 0:02:14 ETA:   0:01:10"
     ]
    },
    {
     "name": "stdout",
     "output_type": "stream",
     "text": [
      "all gen smiels shape (100,)\n",
      "gen_errors shape (100,)\n",
      "[40.55074703]\n",
      "shape argmax_smiles (100, 35, 1)\n",
      "shape line 767 [100, 35, 23, 1]\n"
     ]
    },
    {
     "name": "stderr",
     "output_type": "stream",
     "text": [
      "\r",
      "                                                                               \r",
      "\r",
      " 64% (97 of 150) |##############         | Elapsed Time: 0:02:15 ETA:   0:01:10"
     ]
    },
    {
     "name": "stdout",
     "output_type": "stream",
     "text": [
      "all gen smiels shape (100,)\n",
      "gen_errors shape (100,)\n",
      "[31.19846838]\n",
      "shape argmax_smiles (100, 35, 1)\n",
      "shape line 767 [100, 35, 23, 1]\n"
     ]
    },
    {
     "name": "stderr",
     "output_type": "stream",
     "text": [
      "\r",
      "                                                                               \r",
      "\r",
      " 65% (98 of 150) |###############        | Elapsed Time: 0:02:16 ETA:   0:01:05"
     ]
    },
    {
     "name": "stdout",
     "output_type": "stream",
     "text": [
      "all gen smiels shape (100,)\n",
      "gen_errors shape (100,)\n",
      "[29.37832323]\n",
      "shape argmax_smiles (100, 35, 1)\n",
      "shape line 767 [100, 35, 23, 1]\n"
     ]
    },
    {
     "name": "stderr",
     "output_type": "stream",
     "text": [
      "\r",
      "                                                                               \r",
      "\r",
      " 66% (99 of 150) |###############        | Elapsed Time: 0:02:18 ETA:   0:01:03"
     ]
    },
    {
     "name": "stdout",
     "output_type": "stream",
     "text": [
      "all gen smiels shape (100,)\n",
      "gen_errors shape (100,)\n",
      "[23.91898102]\n",
      "shape argmax_smiles (100, 35, 1)\n",
      "shape line 767 [100, 35, 23, 1]\n"
     ]
    },
    {
     "name": "stderr",
     "output_type": "stream",
     "text": [
      "\r",
      "                                                                               \r",
      "\r",
      " 66% (100 of 150) |##############        | Elapsed Time: 0:02:19 ETA:   0:01:02"
     ]
    },
    {
     "name": "stdout",
     "output_type": "stream",
     "text": [
      "all gen smiels shape (100,)\n",
      "gen_errors shape (100,)\n",
      "[26.73327278]\n",
      "shape argmax_smiles (100, 35, 1)\n",
      "shape line 767 [100, 35, 23, 1]\n"
     ]
    },
    {
     "name": "stderr",
     "output_type": "stream",
     "text": [
      "\r",
      "                                                                               \r",
      "\r",
      " 67% (101 of 150) |##############        | Elapsed Time: 0:02:20 ETA:   0:01:01"
     ]
    },
    {
     "name": "stdout",
     "output_type": "stream",
     "text": [
      "all gen smiels shape (100,)\n",
      "gen_errors shape (100,)\n",
      "[29.61595066]\n",
      "shape argmax_smiles (100, 35, 1)\n",
      "shape line 767 [100, 35, 23, 1]\n"
     ]
    },
    {
     "name": "stderr",
     "output_type": "stream",
     "text": [
      "\r",
      "                                                                               \r",
      "\r",
      " 68% (102 of 150) |##############        | Elapsed Time: 0:02:21 ETA:   0:01:00"
     ]
    },
    {
     "name": "stdout",
     "output_type": "stream",
     "text": [
      "all gen smiels shape (100,)\n",
      "gen_errors shape (100,)\n",
      "[37.63510037]\n",
      "shape argmax_smiles (100, 35, 1)\n",
      "shape line 767 [100, 35, 23, 1]\n"
     ]
    },
    {
     "name": "stderr",
     "output_type": "stream",
     "text": [
      "\r",
      "                                                                               \r",
      "\r",
      " 68% (103 of 150) |###############       | Elapsed Time: 0:02:23 ETA:   0:01:02"
     ]
    },
    {
     "name": "stdout",
     "output_type": "stream",
     "text": [
      "all gen smiels shape (100,)\n",
      "gen_errors shape (100,)\n",
      "[33.93708773]\n",
      "shape argmax_smiles (100, 35, 1)\n",
      "shape line 767 [100, 35, 23, 1]\n"
     ]
    },
    {
     "name": "stderr",
     "output_type": "stream",
     "text": [
      "\r",
      "                                                                               \r",
      "\r",
      " 69% (104 of 150) |###############       | Elapsed Time: 0:02:24 ETA:   0:01:01"
     ]
    },
    {
     "name": "stdout",
     "output_type": "stream",
     "text": [
      "all gen smiels shape (100,)\n",
      "gen_errors shape (100,)\n",
      "[28.21791825]\n",
      "shape argmax_smiles (100, 35, 1)\n",
      "shape line 767 [100, 35, 23, 1]\n"
     ]
    },
    {
     "name": "stderr",
     "output_type": "stream",
     "text": [
      "\r",
      "                                                                               \r",
      "\r",
      " 70% (105 of 150) |###############       | Elapsed Time: 0:02:25 ETA:   0:00:56"
     ]
    },
    {
     "name": "stdout",
     "output_type": "stream",
     "text": [
      "all gen smiels shape (100,)\n",
      "gen_errors shape (100,)\n",
      "[24.77186646]\n",
      "shape argmax_smiles (100, 35, 1)\n",
      "shape line 767 [100, 35, 23, 1]\n"
     ]
    },
    {
     "name": "stderr",
     "output_type": "stream",
     "text": [
      "\r",
      "                                                                               \r",
      "\r",
      " 70% (106 of 150) |###############       | Elapsed Time: 0:02:27 ETA:   0:00:55"
     ]
    },
    {
     "name": "stdout",
     "output_type": "stream",
     "text": [
      "all gen smiels shape (100,)\n",
      "gen_errors shape (100,)\n",
      "[25.92030758]\n",
      "shape argmax_smiles (100, 35, 1)\n",
      "shape line 767 [100, 35, 23, 1]\n"
     ]
    },
    {
     "name": "stderr",
     "output_type": "stream",
     "text": [
      "\r",
      "                                                                               \r",
      "\r",
      " 71% (107 of 150) |###############       | Elapsed Time: 0:02:28 ETA:   0:00:53"
     ]
    },
    {
     "name": "stdout",
     "output_type": "stream",
     "text": [
      "all gen smiels shape (100,)\n",
      "gen_errors shape (100,)\n",
      "[21.81510969]\n",
      "shape argmax_smiles (100, 35, 1)\n",
      "shape line 767 [100, 35, 23, 1]\n"
     ]
    },
    {
     "name": "stderr",
     "output_type": "stream",
     "text": [
      "\r",
      "                                                                               \r",
      "\r",
      " 72% (108 of 150) |###############       | Elapsed Time: 0:02:29 ETA:   0:00:52"
     ]
    },
    {
     "name": "stdout",
     "output_type": "stream",
     "text": [
      "all gen smiels shape (100,)\n",
      "gen_errors shape (100,)\n",
      "[41.16835771]\n",
      "shape argmax_smiles (100, 35, 1)\n",
      "shape line 767 [100, 35, 23, 1]\n"
     ]
    },
    {
     "name": "stderr",
     "output_type": "stream",
     "text": [
      "\r",
      "                                                                               \r",
      "\r",
      " 72% (109 of 150) |###############       | Elapsed Time: 0:02:31 ETA:   0:00:55"
     ]
    },
    {
     "name": "stdout",
     "output_type": "stream",
     "text": [
      "all gen smiels shape (100,)\n",
      "gen_errors shape (100,)\n",
      "[39.70098706]\n",
      "shape argmax_smiles (100, 35, 1)\n",
      "shape line 767 [100, 35, 23, 1]\n"
     ]
    },
    {
     "name": "stderr",
     "output_type": "stream",
     "text": [
      "\r",
      "                                                                               \r",
      "\r",
      " 73% (110 of 150) |################      | Elapsed Time: 0:02:32 ETA:   0:00:58"
     ]
    },
    {
     "name": "stdout",
     "output_type": "stream",
     "text": [
      "all gen smiels shape (100,)\n",
      "gen_errors shape (100,)\n",
      "[29.95206815]\n",
      "shape argmax_smiles (100, 35, 1)\n",
      "shape line 767 [100, 35, 23, 1]\n"
     ]
    },
    {
     "name": "stderr",
     "output_type": "stream",
     "text": [
      "\r",
      "                                                                               \r",
      "\r",
      " 74% (111 of 150) |################      | Elapsed Time: 0:02:33 ETA:   0:00:56"
     ]
    },
    {
     "name": "stdout",
     "output_type": "stream",
     "text": [
      "all gen smiels shape (100,)\n",
      "gen_errors shape (100,)\n",
      "[25.45068213]\n",
      "shape argmax_smiles (100, 35, 1)\n",
      "shape line 767 [100, 35, 23, 1]\n"
     ]
    },
    {
     "name": "stderr",
     "output_type": "stream",
     "text": [
      "\r",
      "                                                                               \r",
      "\r",
      " 74% (112 of 150) |################      | Elapsed Time: 0:02:36 ETA:   0:01:27"
     ]
    },
    {
     "name": "stdout",
     "output_type": "stream",
     "text": [
      "all gen smiels shape (100,)\n",
      "gen_errors shape (100,)\n",
      "[34.64994663]\n",
      "shape argmax_smiles (100, 35, 1)\n",
      "shape line 767 [100, 35, 23, 1]\n"
     ]
    },
    {
     "name": "stderr",
     "output_type": "stream",
     "text": [
      "\r",
      "                                                                               \r",
      "\r",
      " 75% (113 of 150) |################      | Elapsed Time: 0:02:37 ETA:   0:01:12"
     ]
    },
    {
     "name": "stdout",
     "output_type": "stream",
     "text": [
      "all gen smiels shape (100,)\n",
      "gen_errors shape (100,)\n",
      "[33.2129911]\n",
      "shape argmax_smiles (100, 35, 1)\n",
      "shape line 767 [100, 35, 23, 1]\n"
     ]
    },
    {
     "name": "stderr",
     "output_type": "stream",
     "text": [
      "\r",
      "                                                                               \r",
      "\r",
      " 76% (114 of 150) |################      | Elapsed Time: 0:02:39 ETA:   0:00:51"
     ]
    },
    {
     "name": "stdout",
     "output_type": "stream",
     "text": [
      "all gen smiels shape (100,)\n",
      "gen_errors shape (100,)\n",
      "[27.77996111]\n",
      "shape argmax_smiles (100, 35, 1)\n",
      "shape line 767 [100, 35, 23, 1]\n"
     ]
    },
    {
     "name": "stderr",
     "output_type": "stream",
     "text": [
      "\r",
      "                                                                               \r",
      "\r",
      " 76% (115 of 150) |################      | Elapsed Time: 0:02:40 ETA:   0:00:44"
     ]
    },
    {
     "name": "stdout",
     "output_type": "stream",
     "text": [
      "all gen smiels shape (100,)\n",
      "gen_errors shape (100,)\n",
      "[26.79271441]\n",
      "shape argmax_smiles (100, 35, 1)\n",
      "shape line 767 [100, 35, 23, 1]\n"
     ]
    },
    {
     "name": "stderr",
     "output_type": "stream",
     "text": [
      "\r",
      "                                                                               \r",
      "\r",
      " 77% (116 of 150) |#################     | Elapsed Time: 0:02:42 ETA:   0:00:48"
     ]
    },
    {
     "name": "stdout",
     "output_type": "stream",
     "text": [
      "all gen smiels shape (100,)\n",
      "gen_errors shape (100,)\n",
      "[38.25342187]\n",
      "shape argmax_smiles (100, 35, 1)\n",
      "shape line 767 [100, 35, 23, 1]\n"
     ]
    },
    {
     "name": "stderr",
     "output_type": "stream",
     "text": [
      "\r",
      "                                                                               \r",
      "\r",
      " 78% (117 of 150) |#################     | Elapsed Time: 0:02:43 ETA:   0:00:46"
     ]
    },
    {
     "name": "stdout",
     "output_type": "stream",
     "text": [
      "all gen smiels shape (100,)\n",
      "gen_errors shape (100,)\n",
      "[33.06499392]\n",
      "shape argmax_smiles (100, 35, 1)\n",
      "shape line 767 [100, 35, 23, 1]\n"
     ]
    },
    {
     "name": "stderr",
     "output_type": "stream",
     "text": [
      "\r",
      "                                                                               \r",
      "\r",
      " 78% (118 of 150) |#################     | Elapsed Time: 0:02:44 ETA:   0:00:39"
     ]
    },
    {
     "name": "stdout",
     "output_type": "stream",
     "text": [
      "all gen smiels shape (100,)\n",
      "gen_errors shape (100,)\n",
      "[35.77830848]\n",
      "shape argmax_smiles (100, 35, 1)\n",
      "shape line 767 [100, 35, 23, 1]\n"
     ]
    },
    {
     "name": "stderr",
     "output_type": "stream",
     "text": [
      "\r",
      "                                                                               \r",
      "\r",
      " 79% (119 of 150) |#################     | Elapsed Time: 0:02:45 ETA:   0:00:38"
     ]
    },
    {
     "name": "stdout",
     "output_type": "stream",
     "text": [
      "all gen smiels shape (100,)\n",
      "gen_errors shape (100,)\n",
      "[27.82024613]\n",
      "shape argmax_smiles (100, 35, 1)\n",
      "shape line 767 [100, 35, 23, 1]\n"
     ]
    },
    {
     "name": "stderr",
     "output_type": "stream",
     "text": [
      "\r",
      "                                                                               \r",
      "\r",
      " 80% (120 of 150) |#################     | Elapsed Time: 0:02:46 ETA:   0:00:37"
     ]
    },
    {
     "name": "stdout",
     "output_type": "stream",
     "text": [
      "all gen smiels shape (100,)\n",
      "gen_errors shape (100,)\n",
      "[26.24169859]\n",
      "shape argmax_smiles (100, 35, 1)\n",
      "shape line 767 [100, 35, 23, 1]\n"
     ]
    },
    {
     "name": "stderr",
     "output_type": "stream",
     "text": [
      "\r",
      "                                                                               \r",
      "\r",
      " 80% (121 of 150) |#################     | Elapsed Time: 0:02:48 ETA:   0:00:36"
     ]
    },
    {
     "name": "stdout",
     "output_type": "stream",
     "text": [
      "all gen smiels shape (100,)\n",
      "gen_errors shape (100,)\n",
      "[28.25971698]\n",
      "shape argmax_smiles (100, 35, 1)\n",
      "shape line 767 [100, 35, 23, 1]\n"
     ]
    },
    {
     "name": "stderr",
     "output_type": "stream",
     "text": [
      "\r",
      "                                                                               \r",
      "\r",
      " 81% (122 of 150) |#################     | Elapsed Time: 0:02:49 ETA:   0:00:34"
     ]
    },
    {
     "name": "stdout",
     "output_type": "stream",
     "text": [
      "all gen smiels shape (100,)\n",
      "gen_errors shape (100,)\n",
      "[37.59084761]\n",
      "shape argmax_smiles (100, 35, 1)\n",
      "shape line 767 [100, 35, 23, 1]\n"
     ]
    },
    {
     "name": "stderr",
     "output_type": "stream",
     "text": [
      "\r",
      "                                                                               \r",
      "\r",
      " 82% (123 of 150) |##################    | Elapsed Time: 0:02:50 ETA:   0:00:33"
     ]
    },
    {
     "name": "stdout",
     "output_type": "stream",
     "text": [
      "all gen smiels shape (100,)\n",
      "gen_errors shape (100,)\n",
      "[29.17174789]\n",
      "shape argmax_smiles (100, 35, 1)\n",
      "shape line 767 [100, 35, 23, 1]\n"
     ]
    },
    {
     "name": "stderr",
     "output_type": "stream",
     "text": [
      "\r",
      "                                                                               \r",
      "\r",
      " 82% (124 of 150) |##################    | Elapsed Time: 0:02:51 ETA:   0:00:32"
     ]
    },
    {
     "name": "stdout",
     "output_type": "stream",
     "text": [
      "all gen smiels shape (100,)\n",
      "gen_errors shape (100,)\n",
      "[28.04228617]\n",
      "shape argmax_smiles (100, 35, 1)\n",
      "shape line 767 [100, 35, 23, 1]\n"
     ]
    },
    {
     "name": "stderr",
     "output_type": "stream",
     "text": [
      "\r",
      "                                                                               \r",
      "\r",
      " 83% (125 of 150) |##################    | Elapsed Time: 0:02:53 ETA:   0:00:30"
     ]
    },
    {
     "name": "stdout",
     "output_type": "stream",
     "text": [
      "all gen smiels shape (100,)\n",
      "gen_errors shape (100,)\n",
      "[25.70715868]\n",
      "shape argmax_smiles (100, 35, 1)\n",
      "shape line 767 [100, 35, 23, 1]\n"
     ]
    },
    {
     "name": "stderr",
     "output_type": "stream",
     "text": [
      "\r",
      "                                                                               \r",
      "\r",
      " 84% (126 of 150) |##################    | Elapsed Time: 0:02:54 ETA:   0:00:29"
     ]
    },
    {
     "name": "stdout",
     "output_type": "stream",
     "text": [
      "all gen smiels shape (100,)\n",
      "gen_errors shape (100,)\n",
      "[30.24822462]\n",
      "shape argmax_smiles (100, 35, 1)\n",
      "shape line 767 [100, 35, 23, 1]\n"
     ]
    },
    {
     "name": "stderr",
     "output_type": "stream",
     "text": [
      "\r",
      "                                                                               \r",
      "\r",
      " 84% (127 of 150) |##################    | Elapsed Time: 0:02:55 ETA:   0:00:28"
     ]
    },
    {
     "name": "stdout",
     "output_type": "stream",
     "text": [
      "all gen smiels shape (100,)\n",
      "gen_errors shape (100,)\n",
      "[21.51797784]\n",
      "shape argmax_smiles (100, 35, 1)\n",
      "shape line 767 [100, 35, 23, 1]\n"
     ]
    },
    {
     "name": "stderr",
     "output_type": "stream",
     "text": [
      "\r",
      "                                                                               \r",
      "\r",
      " 85% (128 of 150) |##################    | Elapsed Time: 0:02:56 ETA:   0:00:27"
     ]
    },
    {
     "name": "stdout",
     "output_type": "stream",
     "text": [
      "all gen smiels shape (100,)\n",
      "gen_errors shape (100,)\n",
      "[36.0149555]\n",
      "shape argmax_smiles (100, 35, 1)\n",
      "shape line 767 [100, 35, 23, 1]\n"
     ]
    },
    {
     "name": "stderr",
     "output_type": "stream",
     "text": [
      "\r",
      "                                                                               \r",
      "\r",
      " 86% (129 of 150) |##################    | Elapsed Time: 0:02:58 ETA:   0:00:25"
     ]
    },
    {
     "name": "stdout",
     "output_type": "stream",
     "text": [
      "all gen smiels shape (100,)\n",
      "gen_errors shape (100,)\n",
      "[28.37655106]\n",
      "shape argmax_smiles (100, 35, 1)\n",
      "shape line 767 [100, 35, 23, 1]\n"
     ]
    },
    {
     "name": "stderr",
     "output_type": "stream",
     "text": [
      "\r",
      "                                                                               \r",
      "\r",
      " 86% (130 of 150) |###################   | Elapsed Time: 0:02:59 ETA:   0:00:24"
     ]
    },
    {
     "name": "stdout",
     "output_type": "stream",
     "text": [
      "all gen smiels shape (100,)\n",
      "gen_errors shape (100,)\n",
      "[32.36064697]\n",
      "shape argmax_smiles (100, 35, 1)\n",
      "shape line 767 [100, 35, 23, 1]\n"
     ]
    },
    {
     "name": "stderr",
     "output_type": "stream",
     "text": [
      "\r",
      "                                                                               \r",
      "\r",
      " 87% (131 of 150) |###################   | Elapsed Time: 0:03:00 ETA:   0:00:23"
     ]
    },
    {
     "name": "stdout",
     "output_type": "stream",
     "text": [
      "all gen smiels shape (100,)\n",
      "gen_errors shape (100,)\n",
      "[37.88346243]\n",
      "shape argmax_smiles (100, 35, 1)\n",
      "shape line 767 [100, 35, 23, 1]\n"
     ]
    },
    {
     "name": "stderr",
     "output_type": "stream",
     "text": [
      "\r",
      "                                                                               \r",
      "\r",
      " 88% (132 of 150) |###################   | Elapsed Time: 0:03:01 ETA:   0:00:22"
     ]
    },
    {
     "name": "stdout",
     "output_type": "stream",
     "text": [
      "all gen smiels shape (100,)\n",
      "gen_errors shape (100,)\n",
      "[40.3149266]\n",
      "shape argmax_smiles (100, 35, 1)\n",
      "shape line 767 [100, 35, 23, 1]\n"
     ]
    },
    {
     "name": "stderr",
     "output_type": "stream",
     "text": [
      "\r",
      "                                                                               \r",
      "\r",
      " 88% (133 of 150) |###################   | Elapsed Time: 0:03:03 ETA:   0:00:21"
     ]
    },
    {
     "name": "stdout",
     "output_type": "stream",
     "text": [
      "all gen smiels shape (100,)\n",
      "gen_errors shape (100,)\n",
      "[21.97947788]\n",
      "shape argmax_smiles (100, 35, 1)\n",
      "shape line 767 [100, 35, 23, 1]\n"
     ]
    },
    {
     "name": "stderr",
     "output_type": "stream",
     "text": [
      "\r",
      "                                                                               \r",
      "\r",
      " 89% (134 of 150) |###################   | Elapsed Time: 0:03:04 ETA:   0:00:19"
     ]
    },
    {
     "name": "stdout",
     "output_type": "stream",
     "text": [
      "all gen smiels shape (100,)\n",
      "gen_errors shape (100,)\n",
      "[34.8553956]\n",
      "shape argmax_smiles (100, 35, 1)\n",
      "shape line 767 [100, 35, 23, 1]\n"
     ]
    },
    {
     "name": "stderr",
     "output_type": "stream",
     "text": [
      "\r",
      "                                                                               \r",
      "\r",
      " 90% (135 of 150) |###################   | Elapsed Time: 0:03:05 ETA:   0:00:18"
     ]
    },
    {
     "name": "stdout",
     "output_type": "stream",
     "text": [
      "all gen smiels shape (100,)\n",
      "gen_errors shape (100,)\n",
      "[22.44189252]\n",
      "shape argmax_smiles (100, 35, 1)\n",
      "shape line 767 [100, 35, 23, 1]\n"
     ]
    },
    {
     "name": "stderr",
     "output_type": "stream",
     "text": [
      "\r",
      "                                                                               \r",
      "\r",
      " 90% (136 of 150) |###################   | Elapsed Time: 0:03:06 ETA:   0:00:17"
     ]
    },
    {
     "name": "stdout",
     "output_type": "stream",
     "text": [
      "all gen smiels shape (100,)\n",
      "gen_errors shape (100,)\n",
      "[31.34865454]\n",
      "shape argmax_smiles (100, 35, 1)\n",
      "shape line 767 [100, 35, 23, 1]\n"
     ]
    },
    {
     "name": "stderr",
     "output_type": "stream",
     "text": [
      "\r",
      "                                                                               \r",
      "\r",
      " 91% (137 of 150) |####################  | Elapsed Time: 0:03:07 ETA:   0:00:15"
     ]
    },
    {
     "name": "stdout",
     "output_type": "stream",
     "text": [
      "all gen smiels shape (100,)\n",
      "gen_errors shape (100,)\n",
      "[41.19545464]\n",
      "shape argmax_smiles (100, 35, 1)\n",
      "shape line 767 [100, 35, 23, 1]\n"
     ]
    },
    {
     "name": "stderr",
     "output_type": "stream",
     "text": [
      "\r",
      "                                                                               \r",
      "\r",
      " 92% (138 of 150) |####################  | Elapsed Time: 0:03:09 ETA:   0:00:14"
     ]
    },
    {
     "name": "stdout",
     "output_type": "stream",
     "text": [
      "all gen smiels shape (100,)\n",
      "gen_errors shape (100,)\n",
      "[33.89847639]\n",
      "shape argmax_smiles (100, 35, 1)\n",
      "shape line 767 [100, 35, 23, 1]\n"
     ]
    },
    {
     "name": "stderr",
     "output_type": "stream",
     "text": [
      "\r",
      "                                                                               \r",
      "\r",
      " 92% (139 of 150) |####################  | Elapsed Time: 0:03:10 ETA:   0:00:13"
     ]
    },
    {
     "name": "stdout",
     "output_type": "stream",
     "text": [
      "all gen smiels shape (100,)\n",
      "gen_errors shape (100,)\n",
      "[38.73385732]\n",
      "shape argmax_smiles (100, 35, 1)\n",
      "shape line 767 [100, 35, 23, 1]\n"
     ]
    },
    {
     "name": "stderr",
     "output_type": "stream",
     "text": [
      "\r",
      "                                                                               \r",
      "\r",
      " 93% (140 of 150) |####################  | Elapsed Time: 0:03:11 ETA:   0:00:12"
     ]
    },
    {
     "name": "stdout",
     "output_type": "stream",
     "text": [
      "all gen smiels shape (100,)\n",
      "gen_errors shape (100,)\n",
      "[34.13945527]\n",
      "shape argmax_smiles (100, 35, 1)\n",
      "shape line 767 [100, 35, 23, 1]\n"
     ]
    },
    {
     "name": "stderr",
     "output_type": "stream",
     "text": [
      "\r",
      "                                                                               \r",
      "\r",
      " 94% (141 of 150) |####################  | Elapsed Time: 0:03:12 ETA:   0:00:11"
     ]
    },
    {
     "name": "stdout",
     "output_type": "stream",
     "text": [
      "all gen smiels shape (100,)\n",
      "gen_errors shape (100,)\n",
      "[20.94587799]\n",
      "shape argmax_smiles (100, 35, 1)\n",
      "shape line 767 [100, 35, 23, 1]\n"
     ]
    },
    {
     "name": "stderr",
     "output_type": "stream",
     "text": [
      "\r",
      "                                                                               \r",
      "\r",
      " 94% (142 of 150) |####################  | Elapsed Time: 0:03:14 ETA:   0:00:09"
     ]
    },
    {
     "name": "stdout",
     "output_type": "stream",
     "text": [
      "all gen smiels shape (100,)\n",
      "gen_errors shape (100,)\n",
      "[38.80106326]\n",
      "shape argmax_smiles (100, 35, 1)\n",
      "shape line 767 [100, 35, 23, 1]\n"
     ]
    },
    {
     "name": "stderr",
     "output_type": "stream",
     "text": [
      "\r",
      "                                                                               \r",
      "\r",
      " 95% (143 of 150) |####################  | Elapsed Time: 0:03:15 ETA:   0:00:08"
     ]
    },
    {
     "name": "stdout",
     "output_type": "stream",
     "text": [
      "all gen smiels shape (100,)\n",
      "gen_errors shape (100,)\n",
      "[27.72927324]\n",
      "shape argmax_smiles (100, 35, 1)\n",
      "shape line 767 [100, 35, 23, 1]\n"
     ]
    },
    {
     "name": "stderr",
     "output_type": "stream",
     "text": [
      "\r",
      "                                                                               \r",
      "\r",
      " 96% (144 of 150) |##################### | Elapsed Time: 0:03:16 ETA:   0:00:07"
     ]
    },
    {
     "name": "stdout",
     "output_type": "stream",
     "text": [
      "all gen smiels shape (100,)\n",
      "gen_errors shape (100,)\n",
      "[31.73240757]\n",
      "shape argmax_smiles (100, 35, 1)\n",
      "shape line 767 [100, 35, 23, 1]\n"
     ]
    },
    {
     "name": "stderr",
     "output_type": "stream",
     "text": [
      "\r",
      "                                                                               \r",
      "\r",
      " 96% (145 of 150) |##################### | Elapsed Time: 0:03:17 ETA:   0:00:06"
     ]
    },
    {
     "name": "stdout",
     "output_type": "stream",
     "text": [
      "all gen smiels shape (100,)\n",
      "gen_errors shape (100,)\n",
      "[23.54117571]\n",
      "shape argmax_smiles (100, 35, 1)\n",
      "shape line 767 [100, 35, 23, 1]\n"
     ]
    },
    {
     "name": "stderr",
     "output_type": "stream",
     "text": [
      "\r",
      "                                                                               \r",
      "\r",
      " 97% (146 of 150) |##################### | Elapsed Time: 0:03:19 ETA:   0:00:04"
     ]
    },
    {
     "name": "stdout",
     "output_type": "stream",
     "text": [
      "all gen smiels shape (100,)\n",
      "gen_errors shape (100,)\n",
      "[30.48666339]\n",
      "shape argmax_smiles (100, 35, 1)\n",
      "shape line 767 [100, 35, 23, 1]\n"
     ]
    },
    {
     "name": "stderr",
     "output_type": "stream",
     "text": [
      "\r",
      "                                                                               \r",
      "\r",
      " 98% (147 of 150) |##################### | Elapsed Time: 0:03:20 ETA:   0:00:03"
     ]
    },
    {
     "name": "stdout",
     "output_type": "stream",
     "text": [
      "all gen smiels shape (100,)\n",
      "gen_errors shape (100,)\n",
      "[28.95185164]\n",
      "shape argmax_smiles (100, 35, 1)\n",
      "shape line 767 [100, 35, 23, 1]\n"
     ]
    },
    {
     "name": "stderr",
     "output_type": "stream",
     "text": [
      "\r",
      "                                                                               \r",
      "\r",
      " 98% (148 of 150) |##################### | Elapsed Time: 0:03:21 ETA:   0:00:02"
     ]
    },
    {
     "name": "stdout",
     "output_type": "stream",
     "text": [
      "all gen smiels shape (100,)\n",
      "gen_errors shape (100,)\n",
      "[42.187172]\n",
      "shape argmax_smiles (100, 35, 1)\n",
      "shape line 767 [100, 35, 23, 1]\n"
     ]
    },
    {
     "name": "stderr",
     "output_type": "stream",
     "text": [
      "\r",
      "                                                                               \r",
      "\r",
      " 99% (149 of 150) |##################### | Elapsed Time: 0:03:22 ETA:   0:00:01"
     ]
    },
    {
     "name": "stdout",
     "output_type": "stream",
     "text": [
      "all gen smiels shape (100,)\n",
      "gen_errors shape (100,)\n",
      "[22.07092113]\n",
      "shape argmax_smiles (100, 35, 1)\n",
      "shape line 767 [100, 35, 23, 1]\n"
     ]
    },
    {
     "name": "stderr",
     "output_type": "stream",
     "text": [
      "\r",
      "                                                                               \r",
      "\r",
      "100% (150 of 150) |######################| Elapsed Time: 0:03:24 Time:  0:03:24\n"
     ]
    },
    {
     "name": "stdout",
     "output_type": "stream",
     "text": [
      "all gen smiels shape (100,)\n",
      "gen_errors shape (100,)\n"
     ]
    },
    {
     "data": {
      "image/png": "[encoded data removed]",
      "text/plain": [
       "<Figure size 432x288 with 1 Axes>"
      ]
     },
     "metadata": {
      "needs_background": "light"
     },
     "output_type": "display_data"
    }
   ],
   "source": [
    "N = 100\n",
    "n_sample = 150\n",
    "\n",
    "gen_error = []\n",
    "gen_smiles = []\n",
    "sample_ys = []\n",
    "preds = []\n",
    "gen_atoms_embedding = []\n",
    "gen_bonds_embedding = []\n",
    "\n",
    "regressor_top.trainable = False\n",
    "regressor.trainable = False\n",
    "generator.trainable = False\n",
    "discriminator.trainable = False\n",
    "\n",
    "pbar = ProgressBar()\n",
    "for hc in pbar(range(n_sample)):\n",
    "    #try:\n",
    "        # get it back to original of s_min to s_max\n",
    "        sample_y = np.random.uniform(s_min_dataset, s_max_dataset, size = [1,])\n",
    "        #X = get_truncated_normal(mean=30, sd=5, low=s_min, upp=s_max)\n",
    "        #sample_y = X.rvs()\n",
    "        print (sample_y)\n",
    "        sample_y = np.round(sample_y, 4)\n",
    "        sample_y = sample_y * np.ones([N,])\n",
    "        sample_y_ = (sample_y - s_min_norm) / (s_max_norm - s_min_norm)\n",
    "        sample_z = np.random.normal(0, 1, size = (N, 128))\n",
    "\n",
    "        regressor_top.trainable = False\n",
    "        regressor.trainable = False\n",
    "\n",
    "        sample_atoms_embedding, sample_bonds_embedding = generator.predict([sample_z, sample_y_])\n",
    "        dec_embedding = np.concatenate([sample_atoms_embedding, sample_bonds_embedding], axis = -1)\n",
    "\n",
    "        softmax_smiles = decoder.predict(dec_embedding)[0]\n",
    "        argmax_smiles = np.argmax(softmax_smiles, axis = 2)\n",
    "        print ('shape argmax_smiles', argmax_smiles.shape)\n",
    "        smiles = to_categorical(argmax_smiles, num_classes=23)\n",
    "        SHAPE = list(smiles.shape) + [1]\n",
    "        print ('shape line 767', SHAPE)\n",
    "        smiles = smiles.reshape(SHAPE)\n",
    "\n",
    "        latent_encoder_atom, latent_encoder_bond, _ = encoder.predict([smiles])\n",
    "        pred = regressor.predict([latent_encoder_atom, latent_encoder_bond]).reshape([-1])\n",
    "        pred = pred * (s_max_norm - s_min_norm) + s_min_norm\n",
    "\n",
    "        gen_errors = np.abs((pred - sample_y) / sample_y).reshape([-1])\n",
    "\n",
    "        #accurate = np.where(gen_errors <= 0.2)[0]\n",
    "        #gen_errors = gen_errors[accurate]\n",
    "        #pred = pred[accurate]\n",
    "\n",
    "        #sample_y = sample_y[accurate]\n",
    "        #sample_atoms_embedding = sample_atoms_embedding[accurate]\n",
    "        #sample_bonds_embedding = sample_bonds_embedding[accurate]\n",
    "\n",
    "        smiles = decoder.predict(dec_embedding)[0]\n",
    "        smiles = np.argmax(smiles, axis = 2).reshape(smiles.shape[0], 35)\n",
    "\n",
    "        generated_smiles = []\n",
    "        for S in smiles:\n",
    "            c_smiles = ''\n",
    "            for s in S:\n",
    "                c_smiles += tokenizer[s]\n",
    "            c_smiles = c_smiles.rstrip()\n",
    "            generated_smiles.append(c_smiles)\n",
    "        generated_smiles = np.array(generated_smiles)\n",
    "        #generated_smiles = generated_smiles [accurate]\n",
    "        all_gen_smiles = []\n",
    "        idx = []\n",
    "        for i, smiles in enumerate(generated_smiles):\n",
    "            all_gen_smiles.append(smiles[:-1])\n",
    "\n",
    "            if ' ' in smiles[:-1]:\n",
    "                continue\n",
    "            #m = Chem.MolFromSmiles(smiles[:-1],sanitize=False)\n",
    "            m = Chem.MolFromSmiles(smiles[:-1])\n",
    "            if m is not None:\n",
    "                idx.append(i)\n",
    "\n",
    "        idx = np.array(idx)\n",
    "        all_gen_smiles = np.array(all_gen_smiles)\n",
    "        print ('all gen smiels shape', all_gen_smiles.shape)\n",
    "        print ('gen_errors shape', gen_errors.shape)\n",
    "        gen_smiles.extend(list(all_gen_smiles[idx]))\n",
    "        gen_error.extend(list(gen_errors[idx]))\n",
    "        sample_ys.extend(list(sample_y[idx]))\n",
    "        gen_atoms_embedding.extend(sample_atoms_embedding[idx])\n",
    "        gen_bonds_embedding.extend(sample_bonds_embedding[idx])\n",
    "\n",
    "        preds.extend(list(pred[idx]))\n",
    "    #except:\n",
    "    #    print('Did not discover SMILES for HC: {}'.format(sample_y))\n",
    "    #    pass   \n",
    "\n",
    " \n",
    "output = {}\n",
    "\n",
    "for i, s in enumerate (gen_smiles):\n",
    "\n",
    "    ss = Chem.MolToSmiles(Chem.MolFromSmiles(s))\n",
    "    gen_smiles[i] = ss\n",
    "\n",
    "output['SMILES'] = gen_smiles\n",
    "output['des_cv'] = sample_ys\n",
    "output['pred_cv'] = preds\n",
    "output['Err_pred_des'] = gen_error\n",
    "\n",
    "plt.close()\n",
    "plt.hist(gen_error)\n",
    "plt.savefig(\"./latent_analysis/gen_error_hist.png\")"
   ]
  },
  {
   "cell_type": "code",
   "execution_count": null,
   "metadata": {
    "colab": {
     "base_uri": "https://localhost:8080/",
     "height": 1000
    },
    "executionInfo": {
     "elapsed": 692391,
     "status": "ok",
     "timestamp": 1655789509780,
     "user": {
      "displayName": "Kianoosh Sattari",
      "userId": "04386428549344756837"
     },
     "user_tz": 300
    },
    "id": "OOKwMNKei5nf",
    "outputId": "dd028845-436b-4a2d-be34-8997d387de52"
   },
   "outputs": [
    {
     "name": "stdout",
     "output_type": "stream",
     "text": [
      "explained_varice_R2_DFT_des 0.06487176078923917\n",
      "MAE_DFT_des 4.470834938301813\n",
      "Fractioned MAE_DFT_des 0.14667697246300698\n",
      "RMSE_DFT_des 5.594845923045788\n",
      "Fractioned_RMSE_DFT_des 0.19524756685942826\n",
      "quantile of train samples:  [26.96780014 28.59459991 29.66239929 30.78440018 31.86800003 32.88080063\n",
      " 33.83759918 35.12679901 36.87820129]\n",
      "[33.545 31.492 26.993 ... 27.192 33.622 29.629]\n",
      "[3. 2. 0. ... 0. 3. 1.]\n",
      "[2. 4. 2. ... 0. 1. 1.]\n",
      "[ 0.46004292 -0.9570388  -0.13413726 -0.17919128 -0.29101813  0.68271255\n",
      " -0.6027738  -0.8085147   0.6684544  -0.06398934 -0.22595222  0.52039814\n",
      " -0.51561767 -0.8196077   0.6918887   0.6718326   0.45265943  0.54979753\n",
      " -0.69745743  0.53797543  0.92415696  0.7908978  -0.36568943  0.6487067\n",
      "  0.40543354 -0.3238359   0.6675568   0.423205    0.04912875  0.37896505\n",
      "  0.80414844 -0.90218824  0.01018141 -0.52666056 -0.32318884 -0.10845254]\n",
      "and your test embedding:  [ 0.37978822 -0.9313213   0.8021092   0.4388024   0.290175    0.767671\n",
      " -0.48604375 -0.69514024  0.7170605   0.12457738 -0.12323884  0.3001838\n",
      " -0.35389912 -0.42872077  0.6154816   0.22734052 -0.3884312   0.7176622\n",
      "  0.42354107 -0.438669    0.3957666  -0.11073501 -0.0824611   0.66271526\n",
      "  0.5381319   0.01972963  0.44892845 -0.3488556  -0.2960296   0.15463129\n",
      "  0.6088858   0.11252452  0.27710265 -0.20277254 -0.23256642  0.34936973]\n",
      "bonds\n",
      "[ 0.16876346  0.539584    0.7203019  -0.21267511  0.00407376  0.4992682\n",
      "  0.62456506  0.11925375 -0.5681331  -0.22577459 -0.20930848 -0.0851814\n",
      " -0.09436964  0.7710896  -0.00712094  0.07358976 -0.17751375 -0.41706496\n",
      " -0.55156094  0.6229282   0.192328    0.04411972 -0.4756653  -0.17060974\n",
      "  0.35772023  0.31712854 -0.6221644  -0.44272196 -0.00325987 -0.18197547\n",
      "  0.64851063  0.5723558  -0.5649708  -0.467459    0.20304564  0.14253801]\n",
      "and your bonds embedding:  [ 0.20094594  0.61543125 -0.06836755 -0.04263151  0.13106908  0.19192356\n",
      "  0.67446584  0.66914076 -0.63816035 -0.00602154  0.08651592 -0.00542566\n",
      " -0.6605897   0.256809    0.08968247 -0.28139016 -0.45149046  0.01226987\n",
      " -0.26699722  0.7157497   0.29764068 -0.7373184  -0.13426195  0.2437538\n",
      "  0.64967597  0.67778325 -0.51945806 -0.60215634  0.11916826 -0.03151549\n",
      " -0.59988964  0.52483547 -0.2577894  -0.30703273 -0.5988937   0.45947486]\n",
      "Preprocessing the data using PCA...\n",
      "Computing pairwise distances...\n",
      "Computing P-values for point 0 of 1017...\n",
      "Computing P-values for point 500 of 1017...\n",
      "Computing P-values for point 1000 of 1017...\n",
      "Mean value of sigma: 1.064381\n",
      "Iteration 10: error is 17.007328\n",
      "Iteration 20: error is 15.525808\n",
      "Iteration 30: error is 14.471118\n",
      "Iteration 40: error is 14.729652\n",
      "Iteration 50: error is 14.853591\n",
      "Iteration 60: error is 14.797014\n",
      "Iteration 70: error is 14.796489\n",
      "Iteration 80: error is 14.810823\n",
      "Iteration 90: error is 14.632475\n",
      "Iteration 100: error is 14.616148\n",
      "Iteration 110: error is 1.608785\n",
      "Iteration 120: error is 1.171836\n",
      "Iteration 130: error is 1.012065\n",
      "Iteration 140: error is 0.929767\n",
      "Iteration 150: error is 0.877310\n",
      "Iteration 160: error is 0.841162\n",
      "Iteration 170: error is 0.815127\n",
      "Iteration 180: error is 0.795690\n",
      "Iteration 190: error is 0.781317\n",
      "Iteration 200: error is 0.770271\n",
      "Iteration 210: error is 0.761449\n",
      "Iteration 220: error is 0.754233\n",
      "Iteration 230: error is 0.748091\n",
      "Iteration 240: error is 0.743265\n",
      "Iteration 250: error is 0.739419\n",
      "Iteration 260: error is 0.736223\n",
      "Iteration 270: error is 0.733482\n",
      "Iteration 280: error is 0.731006\n",
      "Iteration 290: error is 0.728407\n",
      "Iteration 300: error is 0.726316\n",
      "Iteration 310: error is 0.724702\n",
      "Iteration 320: error is 0.723487\n",
      "Iteration 330: error is 0.722477\n",
      "Iteration 340: error is 0.721539\n",
      "Iteration 350: error is 0.720727\n",
      "Iteration 360: error is 0.720023\n",
      "Iteration 370: error is 0.719400\n",
      "Iteration 380: error is 0.718836\n",
      "Iteration 390: error is 0.718322\n",
      "Iteration 400: error is 0.717841\n",
      "Iteration 410: error is 0.717400\n",
      "Iteration 420: error is 0.717000\n",
      "Iteration 430: error is 0.716629\n",
      "Iteration 440: error is 0.716239\n",
      "Iteration 450: error is 0.715907\n",
      "Iteration 460: error is 0.715645\n",
      "Iteration 470: error is 0.715416\n",
      "Iteration 480: error is 0.715207\n",
      "Iteration 490: error is 0.715011\n",
      "Iteration 500: error is 0.714827\n",
      "Preprocessing the data using PCA...\n",
      "Computing pairwise distances...\n",
      "Computing P-values for point 0 of 1680...\n",
      "Computing P-values for point 500 of 1680...\n",
      "Computing P-values for point 1000 of 1680...\n",
      "Computing P-values for point 1500 of 1680...\n",
      "Mean value of sigma: 0.756820\n",
      "Iteration 10: error is 20.437198\n",
      "Iteration 20: error is 18.333872\n",
      "Iteration 30: error is 16.815814\n",
      "Iteration 40: error is 16.813094\n",
      "Iteration 50: error is 16.837787\n",
      "Iteration 60: error is 16.914182\n",
      "Iteration 70: error is 16.954403\n",
      "Iteration 80: error is 16.949282\n",
      "Iteration 90: error is 16.943649\n",
      "Iteration 100: error is 16.943954\n",
      "Iteration 110: error is 2.384438\n",
      "Iteration 120: error is 1.985078\n",
      "Iteration 130: error is 1.797768\n",
      "Iteration 140: error is 1.688267\n",
      "Iteration 150: error is 1.614483\n",
      "Iteration 160: error is 1.561129\n",
      "Iteration 170: error is 1.521382\n",
      "Iteration 180: error is 1.489901\n",
      "Iteration 190: error is 1.464923\n",
      "Iteration 200: error is 1.444757\n",
      "Iteration 210: error is 1.428028\n",
      "Iteration 220: error is 1.414068\n",
      "Iteration 230: error is 1.402240\n",
      "Iteration 240: error is 1.391904\n",
      "Iteration 250: error is 1.382636\n",
      "Iteration 260: error is 1.374566\n",
      "Iteration 270: error is 1.367935\n",
      "Iteration 280: error is 1.362316\n",
      "Iteration 290: error is 1.357353\n",
      "Iteration 300: error is 1.352901\n",
      "Iteration 310: error is 1.348882\n",
      "Iteration 320: error is 1.345277\n",
      "Iteration 330: error is 1.342025\n",
      "Iteration 340: error is 1.339070\n",
      "Iteration 350: error is 1.336383\n",
      "Iteration 360: error is 1.333932\n",
      "Iteration 370: error is 1.331719\n",
      "Iteration 380: error is 1.329724\n",
      "Iteration 390: error is 1.327889\n",
      "Iteration 400: error is 1.326182\n",
      "Iteration 410: error is 1.324566\n",
      "Iteration 420: error is 1.323101\n",
      "Iteration 430: error is 1.321784\n",
      "Iteration 440: error is 1.320574\n",
      "Iteration 450: error is 1.319437\n",
      "Iteration 460: error is 1.318386\n",
      "Iteration 470: error is 1.317418\n",
      "Iteration 480: error is 1.316520\n",
      "Iteration 490: error is 1.315683\n",
      "Iteration 500: error is 1.314897\n",
      "Preprocessing the data using PCA...\n",
      "Computing pairwise distances...\n",
      "Computing P-values for point 0 of 1017...\n",
      "Computing P-values for point 500 of 1017...\n",
      "Computing P-values for point 1000 of 1017...\n",
      "Mean value of sigma: 0.878801\n",
      "Iteration 10: error is 17.077239\n",
      "Iteration 20: error is 16.637421\n",
      "Iteration 30: error is 16.558417\n",
      "Iteration 40: error is 16.506519\n",
      "Iteration 50: error is 16.529947\n",
      "Iteration 60: error is 16.521484\n",
      "Iteration 70: error is 16.520670\n",
      "Iteration 80: error is 16.523376\n",
      "Iteration 90: error is 16.521966\n",
      "Iteration 100: error is 16.522311\n",
      "Iteration 110: error is 2.075243\n",
      "Iteration 120: error is 1.691019\n",
      "Iteration 130: error is 1.545546\n",
      "Iteration 140: error is 1.462934\n",
      "Iteration 150: error is 1.413306\n",
      "Iteration 160: error is 1.378126\n",
      "Iteration 170: error is 1.351325\n",
      "Iteration 180: error is 1.330799\n",
      "Iteration 190: error is 1.314734\n",
      "Iteration 200: error is 1.301938\n",
      "Iteration 210: error is 1.291758\n",
      "Iteration 220: error is 1.283387\n",
      "Iteration 230: error is 1.276573\n",
      "Iteration 240: error is 1.270888\n",
      "Iteration 250: error is 1.266300\n",
      "Iteration 260: error is 1.262523\n",
      "Iteration 270: error is 1.259288\n",
      "Iteration 280: error is 1.256335\n",
      "Iteration 290: error is 1.253787\n",
      "Iteration 300: error is 1.251345\n",
      "Iteration 310: error is 1.249466\n",
      "Iteration 320: error is 1.247975\n",
      "Iteration 330: error is 1.246751\n",
      "Iteration 340: error is 1.245656\n",
      "Iteration 350: error is 1.244664\n",
      "Iteration 360: error is 1.243741\n",
      "Iteration 370: error is 1.242935\n",
      "Iteration 380: error is 1.242063\n",
      "Iteration 390: error is 1.241442\n",
      "Iteration 400: error is 1.240923\n",
      "Iteration 410: error is 1.240483\n",
      "Iteration 420: error is 1.240086\n",
      "Iteration 430: error is 1.239711\n",
      "Iteration 440: error is 1.239329\n",
      "Iteration 450: error is 1.238950\n",
      "Iteration 460: error is 1.238643\n",
      "Iteration 470: error is 1.238385\n",
      "Iteration 480: error is 1.238158\n",
      "Iteration 490: error is 1.237947\n",
      "Iteration 500: error is 1.237746\n",
      "Preprocessing the data using PCA...\n",
      "Computing pairwise distances...\n",
      "Computing P-values for point 0 of 1680...\n",
      "Computing P-values for point 500 of 1680...\n",
      "Computing P-values for point 1000 of 1680...\n",
      "Computing P-values for point 1500 of 1680...\n",
      "Mean value of sigma: 0.614475\n",
      "Iteration 10: error is 18.509056\n",
      "Iteration 20: error is 17.702326\n",
      "Iteration 30: error is 17.462593\n",
      "Iteration 40: error is 17.508280\n",
      "Iteration 50: error is 17.506799\n",
      "Iteration 60: error is 17.507371\n",
      "Iteration 70: error is 17.501355\n",
      "Iteration 80: error is 17.504905\n",
      "Iteration 90: error is 17.504623\n",
      "Iteration 100: error is 17.504086\n",
      "Iteration 110: error is 2.402259\n",
      "Iteration 120: error is 2.089345\n",
      "Iteration 130: error is 1.978264\n",
      "Iteration 140: error is 1.917515\n",
      "Iteration 150: error is 1.876744\n",
      "Iteration 160: error is 1.846542\n",
      "Iteration 170: error is 1.822546\n",
      "Iteration 180: error is 1.804069\n",
      "Iteration 190: error is 1.789431\n",
      "Iteration 200: error is 1.777194\n",
      "Iteration 210: error is 1.766991\n",
      "Iteration 220: error is 1.758310\n",
      "Iteration 230: error is 1.750934\n",
      "Iteration 240: error is 1.744694\n",
      "Iteration 250: error is 1.739332\n",
      "Iteration 260: error is 1.734747\n",
      "Iteration 270: error is 1.730803\n",
      "Iteration 280: error is 1.727311\n",
      "Iteration 290: error is 1.724182\n",
      "Iteration 300: error is 1.721502\n",
      "Iteration 310: error is 1.719196\n",
      "Iteration 320: error is 1.717158\n",
      "Iteration 330: error is 1.715353\n",
      "Iteration 340: error is 1.713753\n",
      "Iteration 350: error is 1.712329\n",
      "Iteration 360: error is 1.711055\n",
      "Iteration 370: error is 1.709908\n",
      "Iteration 380: error is 1.708877\n",
      "Iteration 390: error is 1.707950\n",
      "Iteration 400: error is 1.707114\n",
      "Iteration 410: error is 1.706359\n",
      "Iteration 420: error is 1.705677\n",
      "Iteration 430: error is 1.705060\n",
      "Iteration 440: error is 1.704499\n",
      "Iteration 450: error is 1.703991\n",
      "Iteration 460: error is 1.703528\n",
      "Iteration 470: error is 1.703105\n",
      "Iteration 480: error is 1.702718\n",
      "Iteration 490: error is 1.702365\n",
      "Iteration 500: error is 1.702042\n",
      "Preprocessing the data using PCA...\n",
      "Computing pairwise distances...\n",
      "Computing P-values for point 0 of 1017...\n",
      "Computing P-values for point 500 of 1017...\n",
      "Computing P-values for point 1000 of 1017...\n",
      "Mean value of sigma: 1.308952\n",
      "Iteration 10: error is 16.915651\n",
      "Iteration 20: error is 16.729437\n",
      "Iteration 30: error is 16.645385\n",
      "Iteration 40: error is 16.697319\n",
      "Iteration 50: error is 16.680775\n",
      "Iteration 60: error is 16.684633\n",
      "Iteration 70: error is 16.683797\n",
      "Iteration 80: error is 16.683033\n",
      "Iteration 90: error is 16.683377\n",
      "Iteration 100: error is 16.683209\n",
      "Iteration 110: error is 2.110079\n",
      "Iteration 120: error is 1.463600\n",
      "Iteration 130: error is 1.254988\n",
      "Iteration 140: error is 1.165429\n",
      "Iteration 150: error is 1.114016\n",
      "Iteration 160: error is 1.079745\n",
      "Iteration 170: error is 1.054977\n",
      "Iteration 180: error is 1.036897\n",
      "Iteration 190: error is 1.023073\n",
      "Iteration 200: error is 1.012187\n",
      "Iteration 210: error is 1.003482\n",
      "Iteration 220: error is 0.996703\n",
      "Iteration 230: error is 0.991243\n",
      "Iteration 240: error is 0.986725\n",
      "Iteration 250: error is 0.982915\n",
      "Iteration 260: error is 0.979646\n",
      "Iteration 270: error is 0.976784\n",
      "Iteration 280: error is 0.974254\n",
      "Iteration 290: error is 0.971970\n",
      "Iteration 300: error is 0.969701\n",
      "Iteration 310: error is 0.967900\n",
      "Iteration 320: error is 0.966527\n",
      "Iteration 330: error is 0.965336\n",
      "Iteration 340: error is 0.964287\n",
      "Iteration 350: error is 0.963364\n",
      "Iteration 360: error is 0.962540\n",
      "Iteration 370: error is 0.961784\n",
      "Iteration 380: error is 0.961102\n",
      "Iteration 390: error is 0.960477\n",
      "Iteration 400: error is 0.959899\n",
      "Iteration 410: error is 0.959367\n",
      "Iteration 420: error is 0.958875\n",
      "Iteration 430: error is 0.958417\n",
      "Iteration 440: error is 0.957987\n",
      "Iteration 450: error is 0.957584\n",
      "Iteration 460: error is 0.957209\n",
      "Iteration 470: error is 0.956856\n",
      "Iteration 480: error is 0.956522\n",
      "Iteration 490: error is 0.956207\n",
      "Iteration 500: error is 0.955909\n",
      "Preprocessing the data using PCA...\n",
      "Computing pairwise distances...\n",
      "Computing P-values for point 0 of 1680...\n",
      "Computing P-values for point 500 of 1680...\n",
      "Computing P-values for point 1000 of 1680...\n",
      "Computing P-values for point 1500 of 1680...\n",
      "Mean value of sigma: 1.048778\n",
      "Iteration 10: error is 18.428886\n",
      "Iteration 20: error is 17.147777\n",
      "Iteration 30: error is 16.716160\n",
      "Iteration 40: error is 16.893359\n",
      "Iteration 50: error is 16.863376\n",
      "Iteration 60: error is 16.845666\n",
      "Iteration 70: error is 16.859620\n",
      "Iteration 80: error is 16.856612\n",
      "Iteration 90: error is 16.855447\n",
      "Iteration 100: error is 16.856430\n",
      "Iteration 110: error is 2.122789\n",
      "Iteration 120: error is 1.656442\n",
      "Iteration 130: error is 1.489733\n",
      "Iteration 140: error is 1.404780\n",
      "Iteration 150: error is 1.351917\n",
      "Iteration 160: error is 1.315500\n",
      "Iteration 170: error is 1.288755\n",
      "Iteration 180: error is 1.268338\n",
      "Iteration 190: error is 1.252342\n",
      "Iteration 200: error is 1.239666\n",
      "Iteration 210: error is 1.229407\n",
      "Iteration 220: error is 1.220960\n",
      "Iteration 230: error is 1.213925\n",
      "Iteration 240: error is 1.208002\n",
      "Iteration 250: error is 1.202948\n",
      "Iteration 260: error is 1.198595\n",
      "Iteration 270: error is 1.194820\n",
      "Iteration 280: error is 1.191532\n",
      "Iteration 290: error is 1.188652\n",
      "Iteration 300: error is 1.186117\n",
      "Iteration 310: error is 1.183872\n",
      "Iteration 320: error is 1.181873\n",
      "Iteration 330: error is 1.180077\n",
      "Iteration 340: error is 1.178453\n",
      "Iteration 350: error is 1.176978\n",
      "Iteration 360: error is 1.175637\n",
      "Iteration 370: error is 1.174412\n",
      "Iteration 380: error is 1.173286\n",
      "Iteration 390: error is 1.172247\n",
      "Iteration 400: error is 1.171283\n",
      "Iteration 410: error is 1.170386\n",
      "Iteration 420: error is 1.169547\n",
      "Iteration 430: error is 1.168757\n",
      "Iteration 440: error is 1.168006\n",
      "Iteration 450: error is 1.167262\n",
      "Iteration 460: error is 1.166540\n",
      "Iteration 470: error is 1.165907\n",
      "Iteration 480: error is 1.165331\n",
      "Iteration 490: error is 1.164788\n",
      "Iteration 500: error is 1.164277\n"
     ]
    },
    {
     "data": {
      "application/vnd.google.colaboratory.intrinsic+json": {
       "type": "string"
      },
      "text/plain": [
       "\"with open('gen_pickles.pickle', 'wb') as f:\\n    pickle.dump(gen_unique_pickles, f)\\n\""
      ]
     },
     "execution_count": 9,
     "metadata": {},
     "output_type": "execute_result"
    },
    {
     "data": {
      "image/png": "[encoded data removed]",
      "text/plain": [
       "<Figure size 720x432 with 1 Axes>"
      ]
     },
     "metadata": {
      "needs_background": "light"
     },
     "output_type": "display_data"
    }
   ],
   "source": [
    "## Statistics  (# DFT=True value, Des=prediction)\n",
    "\n",
    "# total # of samples\n",
    "N = len(gen_error)\n",
    "# Explained Variance R2 from sklearn.metrics.explained_variance_score\n",
    "explained_variance_R2_DFT_des = explained_variance_score(output['pred_cv'], output['des_cv'])\n",
    "print (\"explained_varice_R2_DFT_des\", explained_variance_R2_DFT_des)\n",
    "\n",
    "# mean absolute error \n",
    "MAE_DFT_des = mean_absolute_error(output['pred_cv'], output['des_cv'])\n",
    "print (\"MAE_DFT_des\", MAE_DFT_des)\n",
    "# Fractioned MAE, more normalized\n",
    "Fractioned_MAE_DFT_des = 0\n",
    "for dft, des in zip(output['pred_cv'], output['des_cv']):\n",
    "    Fractioned_MAE_DFT_des = Fractioned_MAE_DFT_des +  abs(des-dft)/des\n",
    "Fractioned_MAE_DFT_des = Fractioned_MAE_DFT_des/N\n",
    "print (\"Fractioned MAE_DFT_des\", Fractioned_MAE_DFT_des)\n",
    "\n",
    "# root mean squared error (RMSE), sqrt(sklearn ouputs MSE)\n",
    "RMSE_DFT_des = mean_squared_error(output['pred_cv'], output['des_cv'])**0.5\n",
    "print (\"RMSE_DFT_des\", RMSE_DFT_des)\n",
    "\n",
    "Fractioned_RMSE_DFT_des = 0\n",
    "for dft, des in zip(output['pred_cv'], output['des_cv']):\n",
    "    Fractioned_RMSE_DFT_des = Fractioned_RMSE_DFT_des + ((des-dft)/des)**2\n",
    "Fractioned_RMSE_DFT_des = (Fractioned_RMSE_DFT_des/N)**0.5\n",
    "print (\"Fractioned_RMSE_DFT_des\", Fractioned_RMSE_DFT_des)\n",
    "\n",
    "output = pd.DataFrame(output)\n",
    "# do not drop duplicate\n",
    "output2 = output.drop_duplicates(['SMILES'])\n",
    "gen_atoms_embedding = np.array(gen_atoms_embedding)\n",
    "gen_bonds_embedding = np.array(gen_bonds_embedding)\n",
    "\n",
    "\n",
    "# create classes for heat capacity\n",
    "y_train = y_train * (s_max_norm - s_min_norm) + s_min_norm\n",
    "\n",
    "Qs = np.quantile(y_train, [0.1, 0.2, 0.3, 0.4, 0.5, 0.6, 0.7, 0.8, 0.9])\n",
    "print (\"quantile of train samples: \", Qs)\n",
    "y_class = y_train\n",
    "print (y_class) \n",
    "\"\"\"\n",
    "# 10 classes\n",
    "y_class = np.where(y_train <= Qs[0], 0, y_class)\n",
    "y_class = np.where((y_train > Qs[0]) & (y_train <= Qs[1]), 1, y_class)\n",
    "y_class = np.where((y_train > Qs[1]) & (y_train <= Qs[2]), 2, y_class)\n",
    "y_class = np.where((y_train > Qs[2]) & (y_train <= Qs[3]), 3, y_class)\n",
    "y_class = np.where((y_train > Qs[3]) & (y_train <= Qs[4]), 4, y_class)\n",
    "y_class = np.where((y_train > Qs[4]) & (y_train <= Qs[5]), 5, y_class)\n",
    "y_class = np.where((y_train > Qs[5]) & (y_train <= Qs[6]), 6, y_class)\n",
    "y_class = np.where((y_train > Qs[6]) & (y_train <= Qs[7]), 7, y_class)\n",
    "y_class = np.where((y_train > Qs[7]) & (y_train <= Qs[8]), 8, y_class)\n",
    "y_class = np.where(y_train > Qs[8], 9, y_class)\n",
    "\"\"\"\n",
    "# 5 classes\n",
    "y_class = np.where(y_train <= Qs[1], 0, y_class)\n",
    "y_class = np.where((y_train > Qs[1]) & (y_train <= Qs[3]), 1, y_class)\n",
    "y_class = np.where((y_train > Qs[3]) & (y_train <= Qs[5]), 2, y_class)\n",
    "y_class = np.where((y_train > Qs[5]) & (y_train <= Qs[7]), 3, y_class)\n",
    "y_class = np.where(y_train > Qs[7], 4, y_class)\n",
    "\n",
    "print (y_class)\n",
    "Qs_gen = np.quantile(preds, [0.1, 0.2, 0.3, 0.4, 0.5, 0.6, 0.7, 0.8, 0.9])\n",
    "y_class_val = preds\n",
    "\n",
    "# 5 classes\n",
    "y_class_val = np.where(preds <= Qs_gen[1], 0, y_class_val)\n",
    "y_class_val = np.where((preds > Qs_gen[1]) & (preds <= Qs_gen[3]), 1, y_class_val)\n",
    "y_class_val = np.where((preds > Qs_gen[3]) & (preds <= Qs_gen[5]), 2, y_class_val)\n",
    "y_class_val = np.where((preds > Qs_gen[5]) & (preds <= Qs_gen[7]), 3, y_class_val)\n",
    "y_class_val = np.where(preds > Qs_gen[7], 4, y_class_val)\n",
    "\n",
    "print (y_class_val)\n",
    "# ANALYSIS\n",
    "train_atoms_embedding, train_bonds_embedding, _ = encoder.predict([X_smiles_train]) \n",
    "\n",
    "X_atoms_train_ = train_atoms_embedding.reshape([train_atoms_embedding.shape[0], \n",
    "                                        6 * 6])\n",
    "X_bonds_train_ = train_bonds_embedding.reshape([train_bonds_embedding.shape[0], \n",
    "                                        6 * 6])\n",
    "\n",
    "X_atoms_test_ = gen_atoms_embedding.reshape([gen_atoms_embedding.shape[0],\n",
    "                                      6 * 6])\n",
    "X_bonds_test_ = gen_bonds_embedding.reshape([gen_bonds_embedding.shape[0], \n",
    "                                      6 * 6])\n",
    "\n",
    "\"\"\" PCA \"\"\"\n",
    "pca_1 = PCA(n_components = 2)\n",
    "X_atoms_train = pca_1.fit_transform(X_atoms_train_)\n",
    "X_atoms_test = pca_1.transform(X_atoms_test_)\n",
    "\n",
    "pca_2 = PCA(n_components = 2)\n",
    "X_bonds_train = pca_2.fit_transform(X_bonds_train_)\n",
    "X_bonds_test = pca_2.transform(X_bonds_test_)\n",
    "\n",
    "# PCA1 vs. PCA2 Atoms gen and train\n",
    "plt.close()\n",
    "fig, ax = plt.subplots(figsize =(8, 6))\n",
    "ax.tick_params(axis='both', which='major', labelsize=20)\n",
    "mpl.rcParams['axes.linewidth'] = 3.5\n",
    "plt.scatter(X_atoms_train[:,0], X_atoms_train[:,1], alpha = 0.2, c = 'blue')\n",
    "ax.tick_params(width=2, length=4)\n",
    "plt.xlabel('PC1', fontsize=25, weight='bold')\n",
    "plt.ylabel('PC2', fontsize=25, weight='bold')\n",
    "#plt.close()\n",
    "plt.scatter(X_atoms_test[:,0], X_atoms_test[:,1], alpha = 0.2, c = 'red')\n",
    "plt.savefig(\"./latent_analysis/Mix_train_gen_atom_dist_{}Sam.png\".format(len(y_train)), bbox_inches='tight', dpi=300)\n",
    "####\n",
    "\n",
    "# PCA1 vs. PCA2 Bonds gen and train\n",
    "plt.close()\n",
    "fig, ax = plt.subplots(figsize =(8, 6))\n",
    "ax.tick_params(axis='both', which='major', labelsize=20)\n",
    "mpl.rcParams['axes.linewidth'] = 3.5\n",
    "plt.scatter(X_bonds_train[:,0], X_bonds_train[:,1], alpha = 0.2, c = 'blue')\n",
    "ax.tick_params(width=2, length=4)\n",
    "plt.xlabel('PC1', fontsize=25, weight='bold')\n",
    "plt.ylabel('PC2', fontsize=25, weight='bold')\n",
    "#plt.close()\n",
    "plt.scatter(X_bonds_test[:,0], X_bonds_test[:,1], alpha = 0.2, c = 'red')\n",
    "plt.savefig(\"./latent_analysis/Mix_train_gen_bonds_dist_{}Sam.png\".format(len(preds)), bbox_inches='tight', dpi=300)\n",
    "\n",
    "\"\"\" concat. latent vectors \"\"\"\n",
    "X_Concat_train =  np.concatenate ([X_bonds_train_, X_atoms_train_], axis=1)\n",
    "X_Concat_test  =  np.concatenate ([X_bonds_test_, X_atoms_test_], axis=1)\n",
    "pca_2 = PCA(n_components = 2)\n",
    "X_concat_train_pca = pca_2.fit_transform(X_Concat_train)\n",
    "X_concat_test_pca = pca_2.transform(X_Concat_test)\n",
    "\n",
    "# PCA1 vs. cv gen. and train\n",
    "plt.close()\n",
    "fig, ax = plt.subplots(figsize =(10, 6))\n",
    "ax.tick_params(axis='both', which='major', labelsize=20)\n",
    "mpl.rcParams['axes.linewidth'] = 3.5\n",
    "preds_rev = [max(preds)-i for i in preds]\n",
    "plt.scatter(X_concat_test_pca[:, 0], preds)\n",
    "#plt.legend(fontsize=12)\n",
    "ax.tick_params(width=2, length=4)\n",
    "plt.xlabel('PC1', fontsize=25, fontweight='bold')\n",
    "plt.ylabel('Cv', fontsize=25, fontweight='bold')\n",
    "plt.scatter(X_concat_train_pca[:, 0], y_train)\n",
    "plt.savefig(\"./latent_analysis/genvstrain_Concat_pc1vscv.png\", bbox_inches='tight', dpi=300)\n",
    "\n",
    "# PCA2 vs. cv gen and train\n",
    "plt.close()\n",
    "fig, ax = plt.subplots(figsize =(10, 6))\n",
    "ax.tick_params(axis='both', which='major', labelsize=20)\n",
    "mpl.rcParams['axes.linewidth'] = 3.5\n",
    "preds_rev = [max(preds)-i for i in preds]\n",
    "plt.scatter(X_concat_test_pca[:, 1], preds, c='red')\n",
    "#plt.legend(fontsize=12)\n",
    "ax.tick_params(width=2, length=4)\n",
    "plt.xlabel('PC2', fontsize=25, fontweight='bold')\n",
    "plt.ylabel('Cv', fontsize=25, fontweight='bold')\n",
    "plt.scatter(X_concat_train_pca[:, 1], y_train, c='blue')\n",
    "plt.savefig(\"./latent_analysis/genvstrain_Concat_pc2vscv.png\", bbox_inches='tight', dpi=300)\n",
    "\n",
    "# PCA1 vs. PCA2 gen and train\n",
    "plt.close()\n",
    "fig, ax = plt.subplots(figsize =(8, 6))\n",
    "ax.tick_params(axis='both', which='major', labelsize=20)\n",
    "mpl.rcParams['axes.linewidth'] = 3.5\n",
    "plt.scatter(X_concat_train_pca[:, 0], X_concat_train_pca[:, 1], alpha=0.2, c='blue')\n",
    "ax.tick_params(width=2, length=4)\n",
    "plt.xlabel('PC1', fontsize=25, weight='bold')\n",
    "plt.ylabel('PC2', fontsize=25, weight='bold')\n",
    "#plt.close()\n",
    "plt.scatter(X_concat_test_pca[:, 0], X_concat_test_pca[:, 1], alpha=0.2, c='red')\n",
    "plt.savefig(\"./latent_analysis/genvstrain_concat_pc1vspc2.png\".format(len(preds)), bbox_inches='tight', dpi=300)\n",
    "\n",
    "# t-SNE\n",
    "def Hbeta(D=np.array([]), beta=1.0):\n",
    "    \"\"\"\n",
    "        Compute the perplexity and the P-row for a specific value of the\n",
    "        precision of a Gaussian distribution.\n",
    "    \"\"\"\n",
    "\n",
    "    # Compute P-row and corresponding perplexity\n",
    "    P = np.exp(-D.copy() * beta)\n",
    "    sumP = sum(P)\n",
    "    H = np.log(sumP) + beta * np.sum(D * P) / sumP\n",
    "    P = P / sumP\n",
    "    return H, P\n",
    "\n",
    "\n",
    "def x2p(X=np.array([]), tol=1e-5, perplexity=30.0):\n",
    "    \"\"\"\n",
    "        Performs a binary search to get P-values in such a way that each\n",
    "        conditional Gaussian has the same perplexity.\n",
    "    \"\"\"\n",
    "\n",
    "    # Initialize some variables\n",
    "    print(\"Computing pairwise distances...\")\n",
    "    (n, d) = X.shape\n",
    "    sum_X = np.sum(np.square(X), 1)\n",
    "    D = np.add(np.add(-2 * np.dot(X, X.T), sum_X).T, sum_X)\n",
    "    P = np.zeros((n, n))\n",
    "    beta = np.ones((n, 1))\n",
    "    logU = np.log(perplexity)\n",
    "\n",
    "    # Loop over all datapoints\n",
    "    for i in range(n):\n",
    "\n",
    "        # Print progress\n",
    "        if i % 500 == 0:\n",
    "            print(\"Computing P-values for point %d of %d...\" % (i, n))\n",
    "\n",
    "        # Compute the Gaussian kernel and entropy for the current precision\n",
    "        betamin = -np.inf\n",
    "        betamax = np.inf\n",
    "        Di = D[i, np.concatenate((np.r_[0:i], np.r_[i+1:n]))]\n",
    "        (H, thisP) = Hbeta(Di, beta[i])\n",
    "\n",
    "        # Evaluate whether the perplexity is within tolerance\n",
    "        Hdiff = H - logU\n",
    "        tries = 0\n",
    "        while np.abs(Hdiff) > tol and tries < 50:\n",
    "\n",
    "            # If not, increase or decrease precision\n",
    "            if Hdiff > 0:\n",
    "                betamin = beta[i].copy()\n",
    "                if betamax == np.inf or betamax == -np.inf:\n",
    "                    beta[i] = beta[i] * 2.\n",
    "                else:\n",
    "                    beta[i] = (beta[i] + betamax) / 2.\n",
    "            else:\n",
    "                betamax = beta[i].copy()\n",
    "                if betamin == np.inf or betamin == -np.inf:\n",
    "                    beta[i] = beta[i] / 2.\n",
    "                else:\n",
    "                    beta[i] = (beta[i] + betamin) / 2.\n",
    "\n",
    "            # Recompute the values\n",
    "            (H, thisP) = Hbeta(Di, beta[i])\n",
    "            Hdiff = H - logU\n",
    "            tries += 1\n",
    "\n",
    "        # Set the final row of P\n",
    "        P[i, np.concatenate((np.r_[0:i], np.r_[i+1:n]))] = thisP\n",
    "\n",
    "    # Return final P-matrix\n",
    "    print(\"Mean value of sigma: %f\" % np.mean(np.sqrt(1 / beta)))\n",
    "    return P\n",
    "\n",
    "\n",
    "def pca(X=np.array([]), no_dims=36):\n",
    "    \"\"\"\n",
    "        Runs PCA on the NxD array X in order to reduce its dimensionality to\n",
    "        no_dims dimensions.\n",
    "    \"\"\"\n",
    "\n",
    "    print(\"Preprocessing the data using PCA...\")\n",
    "    (n, d) = X.shape\n",
    "    X = X - np.tile(np.mean(X, 0), (n, 1))\n",
    "    (l, M) = np.linalg.eig(np.dot(X.T, X))\n",
    "    Y = np.dot(X, M[:, 0:no_dims])\n",
    "    return Y\n",
    "\n",
    "\n",
    "def tsne(X=np.array([]), no_dims=2, initial_dims=50, perplexity=30.0):\n",
    "    \"\"\"\n",
    "        Runs t-SNE on the dataset in the NxD array X to reduce its\n",
    "        dimensionality to no_dims dimensions. The syntaxis of the function is\n",
    "        `Y = tsne.tsne(X, no_dims, perplexity), where X is an NxD NumPy array.\n",
    "    \"\"\"\n",
    "\n",
    "    # Check inputs\n",
    "    if isinstance(no_dims, float):\n",
    "        print(\"Error: array X should have type float.\")\n",
    "        return -1\n",
    "    if round(no_dims) != no_dims:\n",
    "        print(\"Error: number of dimensions should be an integer.\")\n",
    "        return -1\n",
    "\n",
    "    # Initialize variables\n",
    "    X = pca(X, initial_dims).real\n",
    "    (n, d) = X.shape\n",
    "    max_iter = 500\n",
    "    initial_momentum = 0.5\n",
    "    final_momentum = 0.8\n",
    "    eta = 500\n",
    "    min_gain = 0.01\n",
    "    Y = np.random.randn(n, no_dims)\n",
    "    dY = np.zeros((n, no_dims))\n",
    "    iY = np.zeros((n, no_dims))\n",
    "    gains = np.ones((n, no_dims))\n",
    "\n",
    "    # Compute P-values\n",
    "    P = x2p(X, 1e-5, perplexity)\n",
    "    P = P + np.transpose(P)\n",
    "    P = P / np.sum(P)\n",
    "    P = P * 4.\t\t\t\t\t\t\t\t\t# early exaggeration\n",
    "    P = np.maximum(P, 1e-12)\n",
    "\n",
    "    # Run iterations\n",
    "    for iter in range(max_iter):\n",
    "\n",
    "        # Compute pairwise affinities\n",
    "        sum_Y = np.sum(np.square(Y), 1)\n",
    "        num = -2. * np.dot(Y, Y.T)\n",
    "        num = 1. / (1. + np.add(np.add(num, sum_Y).T, sum_Y))\n",
    "        num[range(n), range(n)] = 0.\n",
    "        Q = num / np.sum(num)\n",
    "        Q = np.maximum(Q, 1e-12)\n",
    "\n",
    "        # Compute gradient\n",
    "        PQ = P - Q\n",
    "        for i in range(n):\n",
    "            dY[i, :] = np.sum(np.tile(PQ[:, i] * num[:, i], (no_dims, 1)).T * (Y[i, :] - Y), 0)\n",
    "\n",
    "        # Perform the update\n",
    "        if iter < 20:\n",
    "            momentum = initial_momentum\n",
    "        else:\n",
    "            momentum = final_momentum\n",
    "        gains = (gains + 0.2) * ((dY > 0.) != (iY > 0.)) + \\\n",
    "                (gains * 0.8) * ((dY > 0.) == (iY > 0.))\n",
    "        gains[gains < min_gain] = min_gain\n",
    "        iY = momentum * iY - eta * (gains * dY)\n",
    "        Y = Y + iY\n",
    "        Y = Y - np.tile(np.mean(Y, 0), (n, 1))\n",
    "\n",
    "        # Compute current value of cost function\n",
    "        if (iter + 1) % 10 == 0:\n",
    "            C = np.sum(P * np.log(P / Q))\n",
    "            print(\"Iteration %d: error is %f\" % (iter + 1, C))\n",
    "\n",
    "        # Stop lying about P-values\n",
    "        if iter == 100:\n",
    "            P = P / 4.\n",
    "\n",
    "    # Return solution\n",
    "    return Y\n",
    "\n",
    "\n",
    "colors = ['navy', 'mediumblue','blue', 'cornflowerblue', 'lightsteelblue', 'lavender',\n",
    "          'salmon', 'lightcoral', 'orangered', 'darkred']\n",
    "colors = ['darkblue', 'lightsteelblue',\n",
    "          'salmon', 'orangered', 'darkred']\n",
    "\"\"\"\n",
    "group_names = np.array([\"Cv<{}\".format(np.round(Qs[0])), \n",
    "                            \"{}<Cv<{}\".format(np.round(Qs[0]), np.round(Qs[1])),\n",
    "                            \"{}<Cv<{}\".format(np.round(Qs[1]), np.round(Qs[2])),\n",
    "                            \"{}<Cv<{}\".format(np.round(Qs[2]), np.round(Qs[3])),\n",
    "                            \"{}<Cv<{}\".format(np.round(Qs[3]), np.round(Qs[4])),\n",
    "                            \"{}<Cv<{}\".format(np.round(Qs[4]), np.round(Qs[5])),\n",
    "                            \"{}<Cv<{}\".format(np.round(Qs[5]), np.round(Qs[6])),\n",
    "                            \"{}<Cv<{}\".format(np.round(Qs[6]), np.round(Qs[7])),\n",
    "                            \"{}<Cv<{}\".format(np.round(Qs[7]), np.round(Qs[8])),\n",
    "                            \"{}<Cv\".format(np.round(Qs[8]))])\n",
    "\n",
    "group_names_gen = np.array([\"Cv<{}\".format(np.round(Qs_gen[0])), \n",
    "                            \"{}<Cv<{}\".format(np.round(Qs_gen[0]), np.round(Qs_gen[1])),\n",
    "                            \"{}<Cv<{}\".format(np.round(Qs_gen[1]), np.round(Qs_gen[2])),\n",
    "                            \"{}<Cv<{}\".format(np.round(Qs_gen[2]), np.round(Qs_gen[3])),\n",
    "                            \"{}<Cv<{}\".format(np.round(Qs_gen[3]), np.round(Qs_gen[4])),\n",
    "                            \"{}<Cv<{}\".format(np.round(Qs_gen[4]), np.round(Qs_gen[5])),\n",
    "                            \"{}<Cv<{}\".format(np.round(Qs_gen[5]), np.round(Qs_gen[6])),\n",
    "                            \"{}<Cv<{}\".format(np.round(Qs_gen[6]), np.round(Qs_gen[7])),\n",
    "                            \"{}<Cv<{}\".format(np.round(Qs_gen[7]), np.round(Qs_gen[8])),\n",
    "                            \"{}<Cv\".format(np.round(Qs_gen[8]))])\n",
    "\"\"\"\n",
    "group_names = np.array([\"Cv<{}\".format(np.round(Qs[1])), \n",
    "                            \"{}<Cv<{}\".format(np.round(Qs[1]), np.round(Qs[3])),\n",
    "                            \"{}<Cv<{}\".format(np.round(Qs[3]), np.round(Qs[5])),\n",
    "                            \"{}<Cv<{}\".format(np.round(Qs[5]), np.round(Qs[7])),\n",
    "                            \"{}<Cv\".format(np.round(Qs[7]))])\n",
    "\n",
    "group_names_gen = np.array([\"Cv<{}\".format(np.round(Qs_gen[1])), \n",
    "                            \"{}<Cv<{}\".format(np.round(Qs_gen[1]), np.round(Qs_gen[3])),\n",
    "                            \"{}<Cv<{}\".format(np.round(Qs_gen[3]), np.round(Qs_gen[5])),\n",
    "                            \"{}<Cv<{}\".format(np.round(Qs_gen[5]), np.round(Qs_gen[7])),\n",
    "                            \"{}<Cv\".format(np.round(Qs_gen[7]))])\n",
    "\n",
    "target_ids = range(0,5)\n",
    "\n",
    "print (X_atoms_train_ [0])\n",
    "print (\"and your test embedding: \", X_atoms_test_[0])\n",
    "\n",
    "print (\"bonds\")\n",
    "print (X_bonds_train_ [0])\n",
    "print (\"and your bonds embedding: \", X_bonds_test_[0])\n",
    "\n",
    "\"\"\" t-SNE Atoms Distribution \"\"\"\n",
    "# tsne(X=np.array([]), no_dims=2, initial_dims=50, perplexity=30.0)\n",
    "X_atoms_train_tsne = tsne(X_atoms_train_, no_dims=2, initial_dims=36, perplexity=50.0)\n",
    "X_atoms_test_tsne = tsne (X_atoms_test_, no_dims=2, initial_dims=36, perplexity=30.0)\n",
    "\n",
    "# tsne1 vs. tsne2 atoms train\n",
    "plt.close()\n",
    "rc('font', weight='bold')\n",
    "fig, ax = plt.subplots(figsize=(10, 6))\n",
    "ax.tick_params(axis='both', which='major', labelsize=20)\n",
    "mpl.rcParams['axes.linewidth'] = 3.5\n",
    "for i, c, label in zip(target_ids, colors, group_names):\n",
    "    plt.scatter(X_atoms_train_tsne[y_class == i, 0], \n",
    "                X_atoms_train_tsne[y_class == i, 1], \n",
    "                c=c, label=label)\n",
    "plt.legend(fontsize=12)\n",
    "ax.tick_params(width=2, length=4)\n",
    "plt.xlabel('t-SNE1', fontsize=25, fontweight='bold')\n",
    "plt.ylabel('t-SNE2', fontsize=25, fontweight='bold')\n",
    "plt.savefig(\"./latent_analysis/train_atom_dist_tsne.png\", bbox_inches='tight', dpi=300)\n",
    "\n",
    "# tsne1 vs. tsne2 atoms gen.\n",
    "plt.close()\n",
    "fig, ax = plt.subplots(figsize =(10, 6))\n",
    "ax.tick_params(axis='both', which='major', labelsize=20)\n",
    "mpl.rcParams['axes.linewidth'] = 3.5\n",
    "for i, c, label in zip(target_ids, colors, group_names_gen):\n",
    "    plt.scatter(X_atoms_test_tsne[y_class_val == i, 0], \n",
    "                X_atoms_test_tsne[y_class_val == i, 1], \n",
    "                c=c, label=label)\n",
    "plt.legend(fontsize=12)\n",
    "ax.tick_params(width=2, length=4)\n",
    "plt.xlabel('t-SNE1', fontsize=25, fontweight='bold')\n",
    "plt.ylabel('t-SNE2', fontsize=25, fontweight='bold')\n",
    "plt.savefig(\"./latent_analysis/gen_atom_dist_tsne.png\", bbox_inches='tight', dpi=300)\n",
    "\n",
    "\"\"\" t-SNE bonds distribution \"\"\"\n",
    "X_bonds_train_tsne = tsne(X_bonds_train_, 2, 36, 50.0)\n",
    "X_bonds_test_tsne = tsne (X_bonds_test_, 2, 36, 50.0)\n",
    "\n",
    "# tsne1 vs. tsne2 bond train\n",
    "plt.close()\n",
    "fig, ax = plt.subplots(figsize =(10, 5))\n",
    "ax.tick_params(axis='both', which='major', labelsize=20)\n",
    "mpl.rcParams['axes.linewidth'] = 3.5\n",
    "for i, c, label in zip(target_ids, colors, group_names):\n",
    "    plt.scatter(X_bonds_train_tsne[y_class == i, 0], \n",
    "                X_bonds_train_tsne[y_class == i, 1], \n",
    "                alpha = 0.5, c=c, label=label)\n",
    "plt.legend(fontsize=12)\n",
    "ax.tick_params(width=2, length=4)\n",
    "plt.xlabel('t-SNE1', fontsize=25, fontweight='bold')\n",
    "plt.ylabel('t_SNE2', fontsize=25, fontweight='bold')\n",
    "plt.savefig(\"./latent_analysis/train_bonds_dist_tsne.png\", bbox_inches='tight', dpi=300)\n",
    "\n",
    "# tsne1 vs. cv bond train\n",
    "plt.close()\n",
    "fig, ax = plt.subplots(figsize =(10, 6))\n",
    "ax.tick_params(axis='both', which='major', labelsize=20)\n",
    "mpl.rcParams['axes.linewidth'] = 3.5\n",
    "plt.scatter(X_bonds_train_tsne[:, 0], y_train)\n",
    "#plt.legend(fontsize=12)\n",
    "ax.tick_params(width=2, length=4)\n",
    "plt.xlabel('t-SNE1', fontsize=25, fontweight='bold')\n",
    "plt.ylabel('Cv', fontsize=25, fontweight='bold')\n",
    "plt.savefig(\"./latent_analysis/train_bonds_tsne1vscv.png\", bbox_inches='tight', dpi=300)\n",
    "\n",
    "# tsne2 vs. cv bond train\n",
    "plt.close()\n",
    "fig, ax = plt.subplots(figsize =(10, 6))\n",
    "ax.tick_params(axis='both', which='major', labelsize=20)\n",
    "mpl.rcParams['axes.linewidth'] = 3.5\n",
    "preds_rev = [max(preds)-i for i in preds]\n",
    "plt.scatter(X_bonds_train_tsne[:, 1], y_train)\n",
    "#plt.legend(fontsize=12)\n",
    "ax.tick_params(width=2, length=4)\n",
    "plt.xlabel('t-SNE2', fontsize=25, fontweight='bold')\n",
    "plt.ylabel('Cv', fontsize=25, fontweight='bold')\n",
    "plt.savefig(\"./latent_analysis/train_bonds_tsne2vscv.png\", bbox_inches='tight', dpi=300)\n",
    "\n",
    "# tsne1 vs. tsne2 gen.\n",
    "plt.close()\n",
    "fig, ax = plt.subplots(figsize =(10, 5))\n",
    "ax.tick_params(axis='both', which='major', labelsize=20)\n",
    "mpl.rcParams['axes.linewidth'] = 3.5\n",
    "for i, c, label in zip(target_ids, colors, group_names_gen):\n",
    "    plt.scatter(X_bonds_test_tsne[y_class_val == i, 0], \n",
    "                X_bonds_test_tsne[y_class_val == i, 1], \n",
    "                alpha = 0.5, c=c, label=label)\n",
    "plt.legend(fontsize=12)\n",
    "ax.tick_params(width=2, length=4)\n",
    "plt.xlabel('t-SNE1', fontsize=25, fontweight='bold')\n",
    "plt.ylabel('t_SNE2', fontsize=25, fontweight='bold')\n",
    "plt.savefig(\"./latent_analysis/gen_bonds_dist_tsne.png\", bbox_inches='tight', dpi=300)\n",
    "\n",
    "# t-sne1 vs. cv bond gen.\n",
    "plt.close()\n",
    "fig, ax = plt.subplots(figsize =(10, 6))\n",
    "ax.tick_params(axis='both', which='major', labelsize=20)\n",
    "mpl.rcParams['axes.linewidth'] = 3.5\n",
    "preds_rev = [max(preds)-i for i in preds]\n",
    "plt.scatter(X_bonds_test_tsne[:, 0], preds, c=preds_rev)\n",
    "#plt.legend(fontsize=12)\n",
    "ax.tick_params(width=2, length=4)\n",
    "plt.xlabel('t-SNE1', fontsize=25, fontweight='bold')\n",
    "plt.ylabel('Cv', fontsize=25, fontweight='bold')\n",
    "plt.savefig(\"./latent_analysis/gen_bonds_tsne1vscv_colored.png\", bbox_inches='tight', dpi=300)\n",
    "\n",
    "# t-sne2 vs. cv bond gen.\n",
    "plt.close()\n",
    "fig, ax = plt.subplots(figsize =(10, 6))\n",
    "ax.tick_params(axis='both', which='major', labelsize=20)\n",
    "mpl.rcParams['axes.linewidth'] = 3.5\n",
    "preds_rev = [max(preds)-i for i in preds]\n",
    "plt.scatter(X_bonds_test_tsne[:, 1], preds, c=preds_rev)\n",
    "#plt.legend(fontsize=12)\n",
    "ax.tick_params(width=2, length=4)\n",
    "plt.xlabel('t-SNE1', fontsize=25, fontweight='bold')\n",
    "plt.ylabel('Cv', fontsize=25, fontweight='bold')\n",
    "plt.savefig(\"./latent_analysis/gen_bonds_tsne2vscv_colored.png\", bbox_inches='tight', dpi=300)\n",
    "\n",
    "\"\"\"tsne of combined atom and bond matrices\"\"\"\n",
    "X_Concat_train_tsne = tsne(X_Concat_train, 6, 72, 50.0)\n",
    "X_Concat_test_tsne = tsne (X_Concat_test, 6, 72, 50.0)\n",
    "\n",
    "# tsne1 vs. tsne 2 train\n",
    "plt.close()\n",
    "fig, ax = plt.subplots(figsize=(10, 5))\n",
    "ax.tick_params(axis='both', which='major', labelsize=20)\n",
    "mpl.rcParams['axes.linewidth'] = 3.5\n",
    "for i, c, label in zip(target_ids, colors, group_names):\n",
    "    plt.scatter(X_Concat_train_tsne[y_class == i, 0], \n",
    "                X_Concat_train_tsne[y_class == i, 1], \n",
    "                alpha=0.5, c=c, label=label)\n",
    "plt.legend(fontsize=12, bbox_to_anchor=(0, 2))\n",
    "ax.tick_params(width=2, length=4)\n",
    "plt.xlabel('t-SNE1', fontsize=25, fontweight='bold')\n",
    "plt.ylabel('t_SNE2', fontsize=25, fontweight='bold')\n",
    "plt.savefig(\"./latent_analysis/train_concat_dist_tsne.png\", bbox_inches='tight', dpi=300)\n",
    "\n",
    "# tsne1 vs. cv train\n",
    "plt.close()\n",
    "fig, ax = plt.subplots(figsize =(10, 6))\n",
    "ax.tick_params(axis='both', which='major', labelsize=20)\n",
    "mpl.rcParams['axes.linewidth'] = 3.5\n",
    "plt.scatter(X_Concat_train_tsne[:, 0], y_train)\n",
    "#plt.legend(fontsize=12)\n",
    "ax.tick_params(width=2, length=4)\n",
    "plt.xlabel('t-SNE1', fontsize=25, fontweight='bold')\n",
    "plt.ylabel('Cv', fontsize=25, fontweight='bold')\n",
    "plt.savefig(\"./latent_analysis/train_concat_tsne1vscv.png\", bbox_inches='tight', dpi=300)\n",
    "\n",
    "# tsne2 vs. cv train\n",
    "plt.close()\n",
    "fig, ax = plt.subplots(figsize =(10, 6))\n",
    "ax.tick_params(axis='both', which='major', labelsize=20)\n",
    "mpl.rcParams['axes.linewidth'] = 3.5\n",
    "preds_rev = [max(y_train)-i for i in y_train]\n",
    "plt.scatter(X_Concat_train_tsne[:, 1], y_train)\n",
    "#plt.legend(fontsize=12)\n",
    "ax.tick_params(width=2, length=4)\n",
    "plt.xlabel('t-SNE2', fontsize=25, fontweight='bold')\n",
    "plt.ylabel('Cv', fontsize=25, fontweight='bold')\n",
    "plt.savefig(\"./latent_analysis/train_Concat_tsne2vscv.png\", bbox_inches='tight', dpi=300)\n",
    "\n",
    "# tsne1 vs. tsne2 gen.\n",
    "plt.close()\n",
    "fig, ax = plt.subplots(figsize =(10, 5))\n",
    "ax.tick_params(axis='both', which='major', labelsize=20)\n",
    "mpl.rcParams['axes.linewidth'] = 3.5\n",
    "for i, c, label in zip(target_ids, colors, group_names_gen):\n",
    "    plt.scatter(X_Concat_test_tsne[y_class_val == i, 0], \n",
    "                X_Concat_test_tsne[y_class_val == i, 1], \n",
    "                alpha = 0.5, c=c, label=label)\n",
    "plt.legend(fontsize=12, bbox_to_anchor=(0, 2))\n",
    "ax.tick_params(width=2, length=4)\n",
    "plt.xlabel('t-SNE1', fontsize=25, fontweight='bold')\n",
    "plt.ylabel('t_SNE2', fontsize=25, fontweight='bold')\n",
    "plt.savefig(\"./latent_analysis/gen_Concat_dist_tsne.png\", bbox_inches='tight', dpi=300)\n",
    "\n",
    "# tsne1 vs. cv gen.\n",
    "plt.close()\n",
    "fig, ax = plt.subplots(figsize =(10, 6))\n",
    "ax.tick_params(axis='both', which='major', labelsize=20)\n",
    "mpl.rcParams['axes.linewidth'] = 3.5\n",
    "preds_rev = [max(preds)-i for i in preds]\n",
    "plt.scatter(X_Concat_test_tsne[:, 0], preds)\n",
    "#plt.legend(fontsize=12)\n",
    "ax.tick_params(width=2, length=4)\n",
    "plt.xlabel('t-SNE1', fontsize=25, fontweight='bold')\n",
    "plt.ylabel('Cv', fontsize=25, fontweight='bold')\n",
    "plt.savefig(\"./latent_analysis/gen_Concat_tsne1vscv.png\", bbox_inches='tight', dpi=300)\n",
    "\n",
    "# tsne2 vs. cv gen.\n",
    "plt.close()\n",
    "fig, ax = plt.subplots(figsize =(10, 6))\n",
    "ax.tick_params(axis='both', which='major', labelsize=20)\n",
    "mpl.rcParams['axes.linewidth'] = 3.5\n",
    "preds_rev = [max(preds)-i for i in preds]\n",
    "plt.scatter(X_Concat_test_tsne[:, 1], preds)\n",
    "#plt.legend(fontsize=12)\n",
    "ax.tick_params(width=2, length=4)\n",
    "plt.xlabel('t-SNE1', fontsize=25, fontweight='bold')\n",
    "plt.ylabel('Cv', fontsize=25, fontweight='bold')\n",
    "plt.savefig(\"./latent_analysis/gen_Concat_tsne2vscv.png\", bbox_inches='tight', dpi=300)\n",
    "\n",
    "\"\"\"\n",
    "output.reset_index(drop=True, inplace=True)\n",
    "output2.reset_index(drop=True, inplace=True)\n",
    "output.to_csv ('./../experiments/regular_9HA_6b6latent/Regular_noscreen2.csv', index = False)\n",
    "output2.to_csv('./../experiments/regular_9HA_6b6latent/Regular_NODUP_noscreen2.csv', index = False)\n",
    "\"\"\"with open('gen_pickles.pickle', 'wb') as f:\n",
    "    pickle.dump(gen_unique_pickles, f)\n",
    "\"\"\"\n",
    "\"\"\""
   ]
  }
 ],
 "metadata": {
  "colab": {
   "authorship_tag": "ABX9TyPlgNm9OKaZuk0+uXeGBG2g",
   "collapsed_sections": [],
   "mount_file_id": "1TgwhI8z4TnpEQ6Hxhq7rF6cGwbs_QLbL",
   "name": "latent_pca_main_model.ipynb",
   "provenance": []
  },
  "kernelspec": {
   "display_name": "Python 3 (ipykernel)",
   "language": "python",
   "name": "python3"
  },
  "language_info": {
   "codemirror_mode": {
    "name": "ipython",
    "version": 3
   },
   "file_extension": ".py",
   "mimetype": "text/x-python",
   "name": "python",
   "nbconvert_exporter": "python",
   "pygments_lexer": "ipython3",
   "version": "3.9.10"
  }
 },
 "nbformat": 4,
 "nbformat_minor": 1
}
