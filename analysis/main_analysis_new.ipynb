{
 "cells": [
  {
   "cell_type": "code",
   "execution_count": 99,
   "id": "a4YXsCNkyYHg",
   "metadata": {
    "colab": {
     "base_uri": "https://localhost:8080/"
    },
    "executionInfo": {
     "elapsed": 1408,
     "status": "ok",
     "timestamp": 1655952416828,
     "user": {
      "displayName": "Kianoosh Sattari",
      "userId": "04386428549344756837"
     },
     "user_tz": 300
    },
    "id": "a4YXsCNkyYHg",
    "outputId": "1f5df7a2-4240-45e0-dfc2-8b45b6a4dee0"
   },
   "outputs": [
    {
     "name": "stdout",
     "output_type": "stream",
     "text": [
      "Drive already mounted at /content/drive; to attempt to forcibly remount, call drive.mount(\"/content/drive\", force_remount=True).\n",
      "[Errno 2] No such file or directory: './drive/MyDrive/RRCGAN_SMILES_publish/analysis'\n",
      "/content/drive/MyDrive/RRCGAN_SMILES_publish/analysis\n",
      "/content/drive/My Drive/RRCGAN_SMILES_publish/analysis\n"
     ]
    }
   ],
   "source": [
    "from google.colab import drive\n",
    "drive.mount('/content/drive')\n",
    "\n",
    "%cd ./drive/MyDrive/RRCGAN_SMILES_publish/analysis\n",
    "\n",
    "!pwd"
   ]
  },
  {
   "cell_type": "code",
   "execution_count": 100,
   "id": "ideal-expression",
   "metadata": {
    "colab": {
     "base_uri": "https://localhost:8080/"
    },
    "executionInfo": {
     "elapsed": 5,
     "status": "ok",
     "timestamp": 1655952416829,
     "user": {
      "displayName": "Kianoosh Sattari",
      "userId": "04386428549344756837"
     },
     "user_tz": 300
    },
    "id": "ideal-expression",
    "outputId": "5cf48403-66ef-4058-da7f-f0fb55d2824c"
   },
   "outputs": [
    {
     "name": "stdout",
     "output_type": "stream",
     "text": [
      "!!!!!!!!!!!!!!!!!!!!!we are after importing rdkit!!!!!!!!!!!!!!!!!!\n"
     ]
    }
   ],
   "source": [
    "# Task:\n",
    "# postprocessing analysis\n",
    "# use Joback method (using functional groups to calc. Cv) \n",
    "# find the rep. with qm9 and save the final file in a .csv file\n",
    "# Joback has 6% error on qm9 values\n",
    "import warnings\n",
    "warnings.filterwarnings('ignore')\n",
    "\n",
    "import numpy as np\n",
    "import pandas as pd\n",
    "from numpy import ndarray\n",
    "from sklearn.feature_extraction.text import CountVectorizer, TfidfVectorizer\n",
    "from sklearn.decomposition import PCA, TruncatedSVD\n",
    "from sklearn.preprocessing import StandardScaler\n",
    "from sklearn.metrics import r2_score\n",
    "from sklearn.metrics import mean_squared_error \n",
    "from sklearn.metrics import mean_absolute_error\n",
    "from sklearn.metrics import explained_variance_score\n",
    "\n",
    "import tensorflow as tf\n",
    "from tensorflow import keras\n",
    "from tensorflow.keras.preprocessing.text import Tokenizer\n",
    "from tensorflow.keras.preprocessing.sequence import pad_sequences\n",
    "from tensorflow.keras.utils import to_categorical\n",
    "\n",
    "import pickle\n",
    "import matplotlib.pyplot as plt\n",
    "import seaborn as sns\n",
    "\n",
    "#! pip install rdkit-pypi\n",
    "from rdkit import rdBase\n",
    "rdBase.DisableLog('rdApp.error')\n",
    "from rdkit import Chem\n",
    "print (\"!!!!!!!!!!!!!!!!!!!!!we are after importing rdkit!!!!!!!!!!!!!!!!!!\")\n",
    "#! pip install thermo\n",
    "from thermo import Joback\n",
    "# loading SMILES data using Chainer Chemistry\n",
    "#! pip install chainer_chemistry\n",
    "from chainer_chemistry.datasets.molnet import get_molnet_dataset\n",
    "from chainer_chemistry.datasets.numpy_tuple_dataset import NumpyTupleDataset\n",
    "from chainer_chemistry.dataset.preprocessors import GGNNPreprocessor\n",
    "\n"
   ]
  },
  {
   "cell_type": "code",
   "execution_count": 101,
   "id": "W5IFtdgtynnZ",
   "metadata": {
    "colab": {
     "base_uri": "https://localhost:8080/"
    },
    "executionInfo": {
     "elapsed": 480,
     "status": "ok",
     "timestamp": 1655952417307,
     "user": {
      "displayName": "Kianoosh Sattari",
      "userId": "04386428549344756837"
     },
     "user_tz": 300
    },
    "id": "W5IFtdgtynnZ",
    "outputId": "ceb9b266-49d9-4d61-9de9-d492fa26edcb"
   },
   "outputs": [
    {
     "name": "stdout",
     "output_type": "stream",
     "text": [
      "Number of gen SMILES 727\n",
      "N=C1=N(NN)C=C1 is not sanitized\n",
      "Number of gen SMILES after getting Canonical 726\n"
     ]
    }
   ],
   "source": [
    "# load the generated SMILES from the RCGAN Model\n",
    "csv_name = './../experiments/regular_9HA_6b6latent/Regular_noscreen.csv'\n",
    "gen_SMILES = pd.read_csv(csv_name)\n",
    "\n",
    "gen_SMILES_initial = gen_SMILES\n",
    "initial_num_samples = gen_SMILES.shape[0]\n",
    "print ('Number of gen SMILES', gen_SMILES.shape[0])\n",
    "sanitized_idx = []\n",
    "# make sure about Canonical SMILES\n",
    "for i, s in enumerate (gen_SMILES['SMILES'].values):\n",
    "    try:\n",
    "         m = Chem.MolFromSmiles(s, sanitize=True)\n",
    "         ss = Chem.MolToSmiles(m)\n",
    "         gen_SMILES['SMILES'].values[i] = ss\n",
    "         sanitized_idx.append(i)\n",
    "    except:\n",
    "         print (s, 'is not sanitized')\n",
    "gen_SMILES = gen_SMILES.iloc[sanitized_idx]\n",
    "gen_SMILES.reset_index(drop = True, inplace = True)\n",
    "\n",
    "print ('Number of gen SMILES after getting Canonical', gen_SMILES.shape[0])"
   ]
  },
  {
   "cell_type": "code",
   "execution_count": 102,
   "id": "patent-syndrome",
   "metadata": {
    "colab": {
     "base_uri": "https://localhost:8080/",
     "height": 432
    },
    "executionInfo": {
     "elapsed": 3168,
     "status": "ok",
     "timestamp": 1655952420669,
     "user": {
      "displayName": "Kianoosh Sattari",
      "userId": "04386428549344756837"
     },
     "user_tz": 300
    },
    "id": "patent-syndrome",
    "outputId": "70bbdc42-e84f-426c-c889-64832f0985b3"
   },
   "outputs": [
    {
     "name": "stdout",
     "output_type": "stream",
     "text": [
      "Total SMILES validated by Joback 704 Vs. total gen_SMILES 726\n",
      "(704, 5)\n",
      "mean error Joback(gen_SMILES) Vs. des. value:  0.13742900064145203\n",
      "mean error Joback(gen_SMILES) Vs. pred. value:  0.07107019428018037\n",
      "the first smile in val_accurate:  C#CC1=CC(=C)CO1\n",
      "mean error Joback(gen_SMILES) Vs.Predicted from regressor (for accurate Cv(<10%):  0.07107019428018037\n",
      "mean error Joback(gen_SMILES) Vs.Desired from regressor (for accurate Cv(<10%):  0.13742900064145203\n"
     ]
    },
    {
     "data": {
      "image/png": "[encoded data removed]",
      "text/plain": [
       "<Figure size 432x288 with 1 Axes>"
      ]
     },
     "metadata": {
      "needs_background": "light"
     },
     "output_type": "display_data"
    }
   ],
   "source": [
    "# pick the samples with available Joback values\n",
    "jobacks = []\n",
    "validated_smiles = []\n",
    "valid_ids = []\n",
    "for count, s in enumerate(gen_SMILES['SMILES'].values):\n",
    "    try:\n",
    "        J = Joback(s)\n",
    "        jobacks.append(J.Cpig(298.15) * 0.2390057361)\n",
    "        validated_smiles.append(s)\n",
    "        valid_ids.append(count)     \n",
    "    except:\n",
    "        pass\n",
    "print (\"Total SMILES validated by Joback {} Vs. total gen_SMILES {}\".\\\n",
    "        format(len(validated_smiles), len(gen_SMILES['SMILES'])))\n",
    "\n",
    "gen_SMILES2 = gen_SMILES.iloc[valid_ids, :]\n",
    "gen_SMILES2['jobacks'] = jobacks\n",
    "print (gen_SMILES2.shape)\n",
    "\n",
    "\"\"\" error using Joback method mean \"\"\"\n",
    "# Joback vs. Des. \n",
    "gen_SMILES2['Err_joback_des'] = np.abs(\n",
    "    (gen_SMILES2['des_cv'].values - gen_SMILES2['jobacks'].values)/\n",
    "     gen_SMILES2['jobacks'].values)\n",
    "print (\"mean error Joback(gen_SMILES) Vs. des. value: \", \n",
    "       np.mean(gen_SMILES2['Err_joback_des'].values))\n",
    "# Joback vs. Pred.\n",
    "gen_SMILES2['Err_joback_pred'] = np.abs(\n",
    "    (gen_SMILES2['pred_cv'].values - gen_SMILES2['jobacks'].values)/  \n",
    "     gen_SMILES2['jobacks'].values)\n",
    "print (\"mean error Joback(gen_SMILES) Vs. pred. value: \", \n",
    "       np.mean(gen_SMILES2['Err_joback_pred'].values))\n",
    "\n",
    "gen_SMILES2.reset_index(drop = True, inplace = True)\n",
    "\n",
    "csv_name = csv_name.replace('.csv', '') \n",
    "gen_SMILES2.to_csv('{}_jobackadded.csv'.format(csv_name), index = False)\n",
    "\n",
    "\"\"\" screen candidates in generated SMILES with close to Joback values \"\"\"\n",
    "val_accurate = pd.DataFrame({'SMILES': [],\n",
    "                             'des_cv': [],\n",
    "                             'pred_cv': [],\n",
    "                             'jobacks': []})\n",
    "accurate = []\n",
    "\n",
    "for i, s in enumerate (gen_SMILES2['SMILES'].values):\n",
    "    if gen_SMILES2['Err_joback_des'].values[i] > 0:\n",
    "        accurate.append(i)\n",
    "\n",
    "for ii, a in enumerate (accurate):\n",
    "    #print (\" i and a from accurate\",ii, a)\n",
    "    val_accurate.loc[ii,:] = gen_SMILES2.iloc[a,:]\n",
    "\n",
    "print (\"the first smile in val_accurate: \",val_accurate['SMILES'].values[0])\n",
    "for i, s in enumerate (val_accurate['SMILES'].values):\n",
    "    #print (s)\n",
    "    m = Chem.MolFromSmiles(s)\n",
    "    ss = Chem.MolToSmiles(m)\n",
    "    val_accurate['SMILES'].values[i] = ss\n",
    "\n",
    "sort_val_accurate = val_accurate.sort_values ('des_cv')\n",
    "#print (sort_val_accurate) \n",
    "\n",
    "# accuracy of the the model Joback vs. predicted and desired Cv (accurate < 5%)\n",
    "mean_err = np.mean(np.abs((val_accurate['pred_cv'].values - \n",
    "                           val_accurate['jobacks'].values) / \n",
    "                           val_accurate['jobacks'].values))\n",
    "print (\"mean error Joback(gen_SMILES) Vs.Predicted from regressor (for accurate Cv(<10%): \", mean_err)\n",
    "\n",
    "\n",
    "mean_err = np.mean(np.abs((val_accurate['des_cv'].values -\n",
    "                           val_accurate['jobacks'].values) /\n",
    "                           val_accurate['jobacks'].values))\n",
    "print (\"mean error Joback(gen_SMILES) Vs.Desired from regressor (for accurate Cv(<10%): \", mean_err)\n",
    "\n",
    "\n",
    "num_acc_l0p1 = np.sum(np.abs((gen_SMILES2['des_cv'].values - \n",
    "                              gen_SMILES2['jobacks'].values) / \n",
    "                              gen_SMILES2['jobacks'].values) < 0.1)\n",
    "\n",
    "plt.scatter(gen_SMILES2['des_cv'].values, gen_SMILES2['jobacks'].values)\n",
    "plt.savefig(\"Desired_VS_joback.png\")\n",
    "\n",
    "plt.clf()\n",
    "plt.scatter(val_accurate['des_cv'].values, val_accurate['jobacks'].values)\n",
    "plt.title(\"Accurate Desired Cv vs. Joback Cv\")\n",
    "plt.xlabel(\"Desired Cv\")\n",
    "plt.ylabel(\"Joback Cv\")\n",
    "plt.savefig(\"Desired_accurate_VS_joback.png\")\n",
    "\n",
    "plt.clf()\n",
    "#sns.distplot(np.abs((val['des_cv'].values - val['jobacks'].values) / val['jobacks'].values))\n",
    "sns.distplot(((gen_SMILES2['des_cv'].values - gen_SMILES2['jobacks'].values) / gen_SMILES2['jobacks'].values))\n",
    "\n",
    "plt.savefig(\"err_Des_VS_Jobsck.png\")\n",
    "\n",
    "plt.clf()\n",
    "err_Desacc_job = ((val_accurate['des_cv'].values - val_accurate['jobacks'].values) / val_accurate['jobacks'].values)\n",
    "err_Desacc_job = pd.Series(err_Desacc_job, name=\"err_Des_accurate_VS_Jobsck\")\n",
    "sns.distplot(err_Desacc_job)\n",
    "plt.savefig(\"err_Des_accurate_VS_Jobsck.png\")\n",
    "val_accurate.reset_index(drop = True, inplace = True)"
   ]
  },
  {
   "cell_type": "code",
   "execution_count": 103,
   "id": "attractive-superintendent",
   "metadata": {
    "colab": {
     "base_uri": "https://localhost:8080/",
     "height": 932
    },
    "executionInfo": {
     "elapsed": 16125,
     "status": "ok",
     "timestamp": 1655952436789,
     "user": {
      "displayName": "Kianoosh Sattari",
      "userId": "04386428549344756837"
     },
     "user_tz": 300
    },
    "id": "attractive-superintendent",
    "outputId": "7bd63d3d-be0c-40ad-ff8f-f81f1d495131"
   },
   "outputs": [
    {
     "name": "stdout",
     "output_type": "stream",
     "text": [
      "First SMILES in qm9 COC=Nc1ccco1\n",
      "First SMILES in qm9 COC=Nc1ccco1\n",
      "same generated SMILES compared to qm9 lib is:               SMILES   des_cv    pred_cv  Err_pred_des         cv\n",
      "0      CC1CC2OCC2C1=O  37.6154  31.171692      0.171305  30.586000\n",
      "1    CC1CC2(C=O)CC2O1  32.0303  31.481295      0.017140  32.054001\n",
      "2    C#CC1C2CCC(O)C12  28.6865  33.144875      0.155417  32.751999\n",
      "3      C#CC(C)(O)CCCC  41.6658  41.571800      0.002256  42.048000\n",
      "4            O=COCCCO  23.4416  27.282890      0.163866  27.209000\n",
      "..                ...      ...        ...           ...        ...\n",
      "252   O=C1CC(O)C2CC12  25.3460  27.312103      0.077571  27.209000\n",
      "253    Cn1cc(F)cnc1=N  25.3460  29.076809      0.147195  28.746000\n",
      "254     CCCC1(C)CCC1C  40.6251  41.416985      0.019492  41.608002\n",
      "255  CC12CCC(C#N)C1C2  30.0560  32.539710      0.082636  32.591999\n",
      "256   C#CC12CCC(C1)O2  26.3572  27.740482      0.052482  26.892000\n",
      "\n",
      "[257 rows x 5 columns]\n",
      "mean of rel diff BW Desired (sampled in design model) and cv from qm9: 0.11775951259153845\n",
      "mean of rel diff BW Predicted (from regresor) and cv from qm9: 0.01173777233964973\n",
      "less than 10 %  231 from total  469 0.4925373134328358 %\n",
      "less than 20 larger than 10%  137 from total  469 0.2921108742004264 %\n",
      "larger than 20 %  101 from total  469 0.21535181236673773 %\n",
      "total:  469\n"
     ]
    },
    {
     "data": {
      "image/png": "[encoded data removed]",
      "text/plain": [
       "<Figure size 720x576 with 1 Axes>"
      ]
     },
     "metadata": {
      "needs_background": "light"
     },
     "output_type": "display_data"
    }
   ],
   "source": [
    "#val_accurate.to_csv('gen_new_noscreen_all_joback.csv', index = False)\n",
    "preprocessor = GGNNPreprocessor()\n",
    "\"\"\"\n",
    "\n",
    "data = get_molnet_dataset('qm9',\n",
    "                          labels = 'cv',\n",
    "                          preprocessor = preprocessor,\n",
    "                          return_smiles = True,\n",
    "                          frac_train = 1.0,\n",
    "                          frac_valid = 0.0,\n",
    "                          frac_test = 0.0\n",
    "                         )\n",
    "\"\"\" \n",
    "with open('./../data/trainingsets/Data.pickle', 'rb') as f:\n",
    "    data = pickle.load (f)\n",
    "\n",
    "SMILES_ = data['smiles'][0]\n",
    "print ('First SMILES in qm9', SMILES_[0])\n",
    "SMILES = []\n",
    "\n",
    "# save as canonical SMILES to find duplicates\n",
    "# the gen smiles already converted to Canonical\n",
    "for s in SMILES_:\n",
    "    m = Chem.MolFromSmiles (s)\n",
    "    ss = Chem.MolToSmiles(m)\n",
    "    SMILES.append(ss)\n",
    "#SMILES = SMILES.astype('str')\n",
    "print ('First SMILES in qm9', SMILES[0])\n",
    "\n",
    "data_SMILES = []\n",
    "data_cv_ = []\n",
    "for i, s in enumerate(SMILES):\n",
    "    data_SMILES.append(s)\n",
    "    data_cv_.append(data['dataset'][0][i][2][0])\n",
    "\n",
    "\n",
    "\n",
    "data_cv = np.array(data_cv_)\n",
    "data_SMILES = np.array(data_SMILES)\n",
    "\n",
    "#gen_unique = gen_SMILES['SMILES'].values\n",
    "\n",
    "data = {}\n",
    "data['SMILES'] = data_SMILES\n",
    "data['cv'] = data_cv_\n",
    "data = pd.DataFrame(data)\n",
    "\n",
    "# find the repetitives\n",
    "database_samples = pd.merge(gen_SMILES, data, on = 'SMILES', how = 'inner')\n",
    "print ( \"same generated SMILES compared to qm9 lib is:{}\".format(database_samples))\n",
    "rep_smiles = database_samples['SMILES'].tolist()\n",
    "for i in range(gen_SMILES.shape[0]):\n",
    "    if (gen_SMILES['SMILES'][i] in rep_smiles):\n",
    "        gen_SMILES = gen_SMILES.drop(i)\n",
    "\n",
    "gen_SMILES.reset_index(drop=True, inplace=True)\n",
    "csv_name = csv_name.replace('.csv', '')\n",
    "gen_SMILES.to_csv('{}_qm9removed.csv'.format(csv_name), index = False)\n",
    "\n",
    "# get the relative error of Desired Cv vs Cv from qm9 for generated SMILES that are repetitive and are in qm9\n",
    "mean_rel_diff_desired_cvqm9 = np.mean(np.abs((database_samples['des_cv'].values -\n",
    "                                              database_samples['cv'].values) / \n",
    "                                              database_samples['cv'].values))\n",
    "print (\"mean of rel diff BW Desired (sampled in design model) and cv from qm9: {}\".\n",
    "                                                 format(mean_rel_diff_desired_cvqm9))\n",
    "\n",
    "\n",
    "mean_rel_diff_desired_cvqm9 = np.mean(np.abs((database_samples['pred_cv'].values\n",
    "                       - database_samples['cv'].values) / database_samples['cv'].values))\n",
    "print (\"mean of rel diff BW Predicted (from regresor) and cv from qm9: {}\".\n",
    "                                                 format(mean_rel_diff_desired_cvqm9))\n",
    "\n",
    "# plot the error bars <10%, <20%\n",
    "re_less_10 = np.sum(gen_SMILES['Err_pred_des'].values <= 0.1)\n",
    "print (\n",
    "    'less than 10 % ', re_less_10, \n",
    "    'from total ', gen_SMILES.shape[0], \n",
    "    re_less_10/gen_SMILES.shape[0], \"%\")\n",
    "re_less_20_big_10 = np.sum( (gen_SMILES['Err_pred_des'].values > 0.1) &  (gen_SMILES['Err_pred_des'].values <= 0.2) )\n",
    "print ('less than 20 larger than 10% ', re_less_20_big_10, 'from total ', gen_SMILES.shape[0], re_less_20_big_10/gen_SMILES.shape[0], \"%\")\n",
    "re_big_20 = np.sum(gen_SMILES['Err_pred_des'].values > 0.2)\n",
    "print ('larger than 20 % ', re_big_20, 'from total ', gen_SMILES.shape[0], re_big_20/gen_SMILES.shape[0], \"%\")\n",
    "print ('total: ', re_less_10 + re_less_20_big_10 + re_big_20)\n",
    "\n",
    "plt.figure(figsize = (10, 8))\n",
    "frequencies = [re_less_10/len(gen_SMILES)*100, re_less_20_big_10/len(gen_SMILES)*100, re_big_20/len(gen_SMILES)*100]\n",
    "freq_series = pd.Series(frequencies)\n",
    "ax = freq_series.plot(kind='bar', color = ['darkgreen', 'orange', 'magenta'])\n",
    "rects = ax.patches\n",
    "x_labels = [ ]\n",
    "labels = ['<10%', '10%~20%', '>20%']\n",
    "\n",
    "for rect, label in zip(rects, labels):\n",
    "    height = rect.get_height()\n",
    "    ax.text(rect.get_x() + rect.get_width() / 2, height + 3, label,fontsize = 25,\n",
    "            ha='center', va='bottom')\n",
    "ax.set_xticklabels(x_labels)\n",
    "plt.ylim(0,100)\n",
    "plt.yticks(fontsize = 25)\n",
    "plt.ylabel(\"Percentage\", fontsize=25)\n",
    "plt.xlabel(\"Pred. vs. Des. RE\", fontsize=25)\n",
    "plt.savefig('Err_pred_des_dist_3part.png', dpi=300)\n"
   ]
  },
  {
   "cell_type": "code",
   "execution_count": 133,
   "id": "7U_Uujch4Lns",
   "metadata": {
    "colab": {
     "base_uri": "https://localhost:8080/",
     "height": 396
    },
    "executionInfo": {
     "elapsed": 840,
     "status": "ok",
     "timestamp": 1655955106508,
     "user": {
      "displayName": "Kianoosh Sattari",
      "userId": "04386428549344756837"
     },
     "user_tz": 300
    },
    "id": "7U_Uujch4Lns",
    "outputId": "31dbc900-aa12-4db5-c949-9c41778570f0"
   },
   "outputs": [
    {
     "name": "stdout",
     "output_type": "stream",
     "text": [
      "469 unique samples from total of 727\n",
      "-0.4906762089242649\n",
      "-0.4958298925832758\n",
      "MAE_pred_des 5.931102257988844\n",
      "Fractioned MAE_pred_des 0.1906829323450013\n",
      "RMSE_pred_des 7.1216046295613\n",
      "Fractioned_RMSE_pred_des 0.23264964867968668\n"
     ]
    },
    {
     "data": {
      "image/png": "[encoded data removed]",
      "text/plain": [
       "<Figure size 432x288 with 1 Axes>"
      ]
     },
     "metadata": {
      "needs_background": "light"
     },
     "output_type": "display_data"
    }
   ],
   "source": [
    "des_cv = np.array (gen_SMILES['des_cv'])\n",
    "pred_cv = np.array (gen_SMILES['pred_cv'])\n",
    "pred_cv = np.random.normal (31, 4, des_cv.shape[0])\n",
    "print (\"{} unique samples from total of {}\".format(des_cv.shape[0], initial_num_samples))\n",
    "\n",
    "np.random.seed(0)\n",
    "# sampling the generated ones\n",
    "idx = np.random.choice (range(0, des_cv.shape[0]), 400, replace=False)\n",
    "\n",
    "des_cv_sampled = des_cv[idx]\n",
    "pred_cv_sampled = pred_cv[idx]\n",
    "\n",
    "plt.scatter (des_cv_sampled, pred_cv_sampled, alpha=0.1)\n",
    "plt.plot([20, 44], [20, 44], color='red')\n",
    "\n",
    "print (r2_score(des_cv_sampled, pred_cv_sampled))\n",
    "print (r2_score(des_cv, pred_cv))\n",
    "\n",
    "N = des_cv.shape[0]\n",
    "MAE_pred_des = mean_absolute_error(pred_cv, des_cv)\n",
    "print (\"MAE_pred_des\", MAE_pred_des)\n",
    "# Fractioned MAE, more normalized\n",
    "Fractioned_MAE_pred_des = 0\n",
    "for pred, des in zip(pred_cv, des_cv):\n",
    "    Fractioned_MAE_pred_des = Fractioned_MAE_pred_des +  abs(des-pred)/des\n",
    "Fractioned_MAE_pred_des = Fractioned_MAE_pred_des/N\n",
    "print (\"Fractioned MAE_pred_des\", Fractioned_MAE_pred_des)\n",
    "\n",
    "# root mean squared error (RMSE), sqrt(sklearn ouputs MSE)\n",
    "RMSE_pred_des = mean_squared_error(pred_cv, des_cv)**0.5\n",
    "print (\"RMSE_pred_des\", RMSE_pred_des)\n",
    "\n",
    "Fractioned_RMSE_pred_des = 0\n",
    "for pred, des in zip(pred_cv, des_cv):\n",
    "    Fractioned_RMSE_pred_des = Fractioned_RMSE_pred_des + ((des-pred)/des)**2\n",
    "Fractioned_RMSE_pred_des = (Fractioned_RMSE_pred_des/N)**0.5\n",
    "print (\"Fractioned_RMSE_pred_des\", Fractioned_RMSE_pred_des)\n",
    "\n"
   ]
  },
  {
   "cell_type": "code",
   "execution_count": 134,
   "id": "z0MVaCiamf2M",
   "metadata": {
    "colab": {
     "base_uri": "https://localhost:8080/"
    },
    "executionInfo": {
     "elapsed": 158,
     "status": "ok",
     "timestamp": 1655955112983,
     "user": {
      "displayName": "Kianoosh Sattari",
      "userId": "04386428549344756837"
     },
     "user_tz": 300
    },
    "id": "z0MVaCiamf2M",
    "outputId": "c28b1c42-4fd1-4d7b-948f-1c2a04c2edcc"
   },
   "outputs": [
    {
     "name": "stdout",
     "output_type": "stream",
     "text": [
      "[[1.0000000e+00 9.8737744e-06]\n",
      " [9.8737744e-06 1.0000000e+00]]\n"
     ]
    }
   ],
   "source": [
    "# calculate Pearson's coefficient \n",
    "rho = np.corrcoef (des_cv_sampled, pred_cv_sampled)\n",
    "print (rho**2)"
   ]
  },
  {
   "cell_type": "code",
   "execution_count": 122,
   "id": "ZgsRgG9YH-3r",
   "metadata": {
    "executionInfo": {
     "elapsed": 941,
     "status": "ok",
     "timestamp": 1655952563317,
     "user": {
      "displayName": "Kianoosh Sattari",
      "userId": "04386428549344756837"
     },
     "user_tz": 300
    },
    "id": "ZgsRgG9YH-3r"
   },
   "outputs": [],
   "source": [
    "\"\"\" reading and preprocessing data\"\"\"\n",
    "with open('./../data/trainingsets/60000_train_regular_qm9/image_train.pickle', 'rb') as f:\n",
    "    X_smiles_train, SMILES_train, X_atoms_train, X_bonds_train, y_train0 = pickle.load(f)\n",
    "    \n",
    "with open('./../data/trainingsets/60000_train_regular_qm9/image_test.pickle', 'rb') as f:\n",
    "    X_smiles_val, SMILES_val, X_atoms_val, X_bonds_val, y_val0 = pickle.load(f)\n",
    "\n",
    "with open('./../data/trainingsets/60000_train_regular_qm9/tokenizer.pickle', 'rb') as f:\n",
    "    tokenizer = pickle.load(f)\n",
    "tokenizer[0] = ' '\n",
    "\n"
   ]
  },
  {
   "cell_type": "code",
   "execution_count": 106,
   "id": "eA0XqeYdSW7L",
   "metadata": {
    "colab": {
     "base_uri": "https://localhost:8080/",
     "height": 283
    },
    "executionInfo": {
     "elapsed": 750,
     "status": "ok",
     "timestamp": 1655952438188,
     "user": {
      "displayName": "Kianoosh Sattari",
      "userId": "04386428549344756837"
     },
     "user_tz": 300
    },
    "id": "eA0XqeYdSW7L",
    "outputId": "a6aef48c-d09c-4908-ed6f-65712fb86897"
   },
   "outputs": [
    {
     "data": {
      "text/plain": [
       "<matplotlib.axes._subplots.AxesSubplot at 0x7f22435e5990>"
      ]
     },
     "execution_count": 106,
     "metadata": {},
     "output_type": "execute_result"
    },
    {
     "data": {
      "image/png": "[encoded data removed]",
      "text/plain": [
       "<Figure size 432x288 with 1 Axes>"
      ]
     },
     "metadata": {
      "needs_background": "light"
     },
     "output_type": "display_data"
    }
   ],
   "source": [
    "sns.distplot(des_cv)\n",
    "sns.distplot(pred_cv, color='red')\n",
    "sns.distplot(y_val0, color='yellow')"
   ]
  },
  {
   "cell_type": "code",
   "execution_count": 107,
   "id": "JFQ8co3ESHqg",
   "metadata": {
    "colab": {
     "base_uri": "https://localhost:8080/"
    },
    "executionInfo": {
     "elapsed": 11,
     "status": "ok",
     "timestamp": 1655952438189,
     "user": {
      "displayName": "Kianoosh Sattari",
      "userId": "04386428549344756837"
     },
     "user_tz": 300
    },
    "id": "JFQ8co3ESHqg",
    "outputId": "696416bb-e0e7-4abf-8c83-0d6b73dc348f"
   },
   "outputs": [
    {
     "name": "stdout",
     "output_type": "stream",
     "text": [
      "20.9706\n",
      "42.2146\n"
     ]
    }
   ],
   "source": [
    "print (np.min(des_cv))\n",
    "print (np.max(des_cv))"
   ]
  }
 ],
 "metadata": {
  "colab": {
   "collapsed_sections": [],
   "name": "main_analysis_new.ipynb",
   "provenance": []
  },
  "kernelspec": {
   "display_name": "Python 3 (ipykernel)",
   "language": "python",
   "name": "python3"
  },
  "language_info": {
   "codemirror_mode": {
    "name": "ipython",
    "version": 3
   },
   "file_extension": ".py",
   "mimetype": "text/x-python",
   "name": "python",
   "nbconvert_exporter": "python",
   "pygments_lexer": "ipython3",
   "version": "3.9.10"
  }
 },
 "nbformat": 4,
 "nbformat_minor": 5
}
